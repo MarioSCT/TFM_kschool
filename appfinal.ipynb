{
 "cells": [
  {
   "cell_type": "markdown",
   "id": "062ac9bf",
   "metadata": {},
   "source": [
    "# Predict the rift"
   ]
  },
  {
   "cell_type": "markdown",
   "id": "580e0c47",
   "metadata": {},
   "source": [
    "Imports necesarios"
   ]
  },
  {
   "cell_type": "code",
   "execution_count": 1,
   "id": "065176b4",
   "metadata": {},
   "outputs": [],
   "source": [
    "import pandas as pd\n",
    "import requests\n",
    "import sklearn\n",
    "import numpy as np\n",
    "import matplotlib.pyplot as plt\n",
    "\n",
    "from sklearn.datasets import make_classification\n",
    "from sklearn.linear_model import LogisticRegression\n",
    "from sklearn.model_selection import train_test_split\n",
    "from sklearn.metrics import classification_report, accuracy_score, roc_auc_score, confusion_matrix, f1_score, precision_score, recall_score\n",
    "from sklearn.tree import DecisionTreeClassifier\n",
    "from sklearn.ensemble import RandomForestClassifier\n",
    "from sklearn.neural_network import MLPClassifier\n",
    "from sklearn import svm\n",
    "import seaborn as sns\n",
    "from matplotlib import pyplot"
   ]
  },
  {
   "cell_type": "markdown",
   "id": "b71e436e",
   "metadata": {},
   "source": [
    " "
   ]
  },
  {
   "cell_type": "markdown",
   "id": "bbc7c042",
   "metadata": {},
   "source": [
    "Api key que se utilizara para hacer las requests necesarias"
   ]
  },
  {
   "cell_type": "code",
   "execution_count": 2,
   "id": "62da2540",
   "metadata": {},
   "outputs": [],
   "source": [
    "gameid = \"EUW1_5875262791\"\n",
    "api_key = \"RGAPI-a8585106-4f99-4026-aa58-278a3c468d06\""
   ]
  },
  {
   "cell_type": "markdown",
   "id": "036c46fb",
   "metadata": {},
   "source": [
    " "
   ]
  },
  {
   "cell_type": "markdown",
   "id": "8b7fa6de",
   "metadata": {},
   "source": [
    "Carga de datos y exploración inicial"
   ]
  },
  {
   "cell_type": "code",
   "execution_count": 3,
   "id": "b24b4039",
   "metadata": {},
   "outputs": [],
   "source": [
    "df = pd.read_pickle(\"finalinfo.pkl\")\n",
    "df_winners = df[df[\"BlueWin\"] == True]\n",
    "df_losers = df[df[\"BlueWin\"] == False]"
   ]
  },
  {
   "cell_type": "code",
   "execution_count": 4,
   "id": "d8b473fa",
   "metadata": {
    "scrolled": true
   },
   "outputs": [
    {
     "data": {
      "text/html": [
       "<div>\n",
       "<style scoped>\n",
       "    .dataframe tbody tr th:only-of-type {\n",
       "        vertical-align: middle;\n",
       "    }\n",
       "\n",
       "    .dataframe tbody tr th {\n",
       "        vertical-align: top;\n",
       "    }\n",
       "\n",
       "    .dataframe thead th {\n",
       "        text-align: right;\n",
       "    }\n",
       "</style>\n",
       "<table border=\"1\" class=\"dataframe\">\n",
       "  <thead>\n",
       "    <tr style=\"text-align: right;\">\n",
       "      <th>temp_names</th>\n",
       "      <th>gd1</th>\n",
       "      <th>gd10</th>\n",
       "      <th>gd11</th>\n",
       "      <th>gd12</th>\n",
       "      <th>gd13</th>\n",
       "      <th>gd14</th>\n",
       "      <th>gd15</th>\n",
       "      <th>gd2</th>\n",
       "      <th>gd3</th>\n",
       "      <th>gd4</th>\n",
       "      <th>...</th>\n",
       "      <th>wd7</th>\n",
       "      <th>wd8</th>\n",
       "      <th>wd9</th>\n",
       "      <th>wd10</th>\n",
       "      <th>wd11</th>\n",
       "      <th>wd12</th>\n",
       "      <th>wd13</th>\n",
       "      <th>wd14</th>\n",
       "      <th>wd15</th>\n",
       "      <th>BlueWin</th>\n",
       "    </tr>\n",
       "    <tr>\n",
       "      <th>gameId</th>\n",
       "      <th></th>\n",
       "      <th></th>\n",
       "      <th></th>\n",
       "      <th></th>\n",
       "      <th></th>\n",
       "      <th></th>\n",
       "      <th></th>\n",
       "      <th></th>\n",
       "      <th></th>\n",
       "      <th></th>\n",
       "      <th></th>\n",
       "      <th></th>\n",
       "      <th></th>\n",
       "      <th></th>\n",
       "      <th></th>\n",
       "      <th></th>\n",
       "      <th></th>\n",
       "      <th></th>\n",
       "      <th></th>\n",
       "      <th></th>\n",
       "      <th></th>\n",
       "    </tr>\n",
       "  </thead>\n",
       "  <tbody>\n",
       "    <tr>\n",
       "      <th>EUW1_5763325310</th>\n",
       "      <td>516</td>\n",
       "      <td>16400</td>\n",
       "      <td>23181</td>\n",
       "      <td>30858</td>\n",
       "      <td>39067</td>\n",
       "      <td>49680</td>\n",
       "      <td>61268</td>\n",
       "      <td>1109</td>\n",
       "      <td>1774</td>\n",
       "      <td>3458</td>\n",
       "      <td>...</td>\n",
       "      <td>5</td>\n",
       "      <td>11</td>\n",
       "      <td>12</td>\n",
       "      <td>16</td>\n",
       "      <td>15</td>\n",
       "      <td>24</td>\n",
       "      <td>28</td>\n",
       "      <td>30</td>\n",
       "      <td>36</td>\n",
       "      <td>True</td>\n",
       "    </tr>\n",
       "    <tr>\n",
       "      <th>EUW1_5763410685</th>\n",
       "      <td>500</td>\n",
       "      <td>5005</td>\n",
       "      <td>5207</td>\n",
       "      <td>5813</td>\n",
       "      <td>6097</td>\n",
       "      <td>6703</td>\n",
       "      <td>7860</td>\n",
       "      <td>974</td>\n",
       "      <td>1228</td>\n",
       "      <td>1073</td>\n",
       "      <td>...</td>\n",
       "      <td>65</td>\n",
       "      <td>66</td>\n",
       "      <td>70</td>\n",
       "      <td>73</td>\n",
       "      <td>86</td>\n",
       "      <td>91</td>\n",
       "      <td>119</td>\n",
       "      <td>136</td>\n",
       "      <td>145</td>\n",
       "      <td>True</td>\n",
       "    </tr>\n",
       "    <tr>\n",
       "      <th>EUW1_5763819470</th>\n",
       "      <td>559</td>\n",
       "      <td>-2886</td>\n",
       "      <td>-4284</td>\n",
       "      <td>-6152</td>\n",
       "      <td>-6830</td>\n",
       "      <td>-8325</td>\n",
       "      <td>-8928</td>\n",
       "      <td>1097</td>\n",
       "      <td>1600</td>\n",
       "      <td>1046</td>\n",
       "      <td>...</td>\n",
       "      <td>19</td>\n",
       "      <td>24</td>\n",
       "      <td>28</td>\n",
       "      <td>30</td>\n",
       "      <td>37</td>\n",
       "      <td>41</td>\n",
       "      <td>48</td>\n",
       "      <td>50</td>\n",
       "      <td>54</td>\n",
       "      <td>True</td>\n",
       "    </tr>\n",
       "    <tr>\n",
       "      <th>EUW1_5764707648</th>\n",
       "      <td>0</td>\n",
       "      <td>-5689</td>\n",
       "      <td>-6628</td>\n",
       "      <td>-9264</td>\n",
       "      <td>-12651</td>\n",
       "      <td>-17040</td>\n",
       "      <td>-21966</td>\n",
       "      <td>162</td>\n",
       "      <td>-368</td>\n",
       "      <td>-1060</td>\n",
       "      <td>...</td>\n",
       "      <td>-7</td>\n",
       "      <td>-7</td>\n",
       "      <td>-7</td>\n",
       "      <td>-7</td>\n",
       "      <td>-9</td>\n",
       "      <td>-10</td>\n",
       "      <td>-9</td>\n",
       "      <td>-13</td>\n",
       "      <td>-13</td>\n",
       "      <td>False</td>\n",
       "    </tr>\n",
       "    <tr>\n",
       "      <th>EUW1_5765338010</th>\n",
       "      <td>0</td>\n",
       "      <td>8681</td>\n",
       "      <td>10020</td>\n",
       "      <td>11340</td>\n",
       "      <td>12929</td>\n",
       "      <td>14682</td>\n",
       "      <td>16479</td>\n",
       "      <td>-57</td>\n",
       "      <td>416</td>\n",
       "      <td>1796</td>\n",
       "      <td>...</td>\n",
       "      <td>3</td>\n",
       "      <td>7</td>\n",
       "      <td>4</td>\n",
       "      <td>4</td>\n",
       "      <td>1</td>\n",
       "      <td>2</td>\n",
       "      <td>1</td>\n",
       "      <td>0</td>\n",
       "      <td>1</td>\n",
       "      <td>True</td>\n",
       "    </tr>\n",
       "  </tbody>\n",
       "</table>\n",
       "<p>5 rows × 151 columns</p>\n",
       "</div>"
      ],
      "text/plain": [
       "temp_names       gd1   gd10   gd11   gd12    gd13    gd14    gd15   gd2   gd3  \\\n",
       "gameId                                                                          \n",
       "EUW1_5763325310  516  16400  23181  30858   39067   49680   61268  1109  1774   \n",
       "EUW1_5763410685  500   5005   5207   5813    6097    6703    7860   974  1228   \n",
       "EUW1_5763819470  559  -2886  -4284  -6152   -6830   -8325   -8928  1097  1600   \n",
       "EUW1_5764707648    0  -5689  -6628  -9264  -12651  -17040  -21966   162  -368   \n",
       "EUW1_5765338010    0   8681  10020  11340   12929   14682   16479   -57   416   \n",
       "\n",
       "temp_names         gd4  ... wd7 wd8 wd9 wd10 wd11  wd12  wd13  wd14  wd15  \\\n",
       "gameId                  ...                                                 \n",
       "EUW1_5763325310   3458  ...   5  11  12   16   15    24    28    30    36   \n",
       "EUW1_5763410685   1073  ...  65  66  70   73   86    91   119   136   145   \n",
       "EUW1_5763819470   1046  ...  19  24  28   30   37    41    48    50    54   \n",
       "EUW1_5764707648  -1060  ...  -7  -7  -7   -7   -9   -10    -9   -13   -13   \n",
       "EUW1_5765338010   1796  ...   3   7   4    4    1     2     1     0     1   \n",
       "\n",
       "temp_names       BlueWin  \n",
       "gameId                    \n",
       "EUW1_5763325310     True  \n",
       "EUW1_5763410685     True  \n",
       "EUW1_5763819470     True  \n",
       "EUW1_5764707648    False  \n",
       "EUW1_5765338010     True  \n",
       "\n",
       "[5 rows x 151 columns]"
      ]
     },
     "execution_count": 4,
     "metadata": {},
     "output_type": "execute_result"
    }
   ],
   "source": [
    "df.head()"
   ]
  },
  {
   "cell_type": "code",
   "execution_count": 5,
   "id": "09e99136",
   "metadata": {
    "scrolled": false
   },
   "outputs": [
    {
     "data": {
      "text/html": [
       "<div>\n",
       "<style scoped>\n",
       "    .dataframe tbody tr th:only-of-type {\n",
       "        vertical-align: middle;\n",
       "    }\n",
       "\n",
       "    .dataframe tbody tr th {\n",
       "        vertical-align: top;\n",
       "    }\n",
       "\n",
       "    .dataframe thead th {\n",
       "        text-align: right;\n",
       "    }\n",
       "</style>\n",
       "<table border=\"1\" class=\"dataframe\">\n",
       "  <thead>\n",
       "    <tr style=\"text-align: right;\">\n",
       "      <th>temp_names</th>\n",
       "      <th>kd1</th>\n",
       "      <th>kd2</th>\n",
       "      <th>kd3</th>\n",
       "      <th>kd4</th>\n",
       "      <th>kd5</th>\n",
       "      <th>kd6</th>\n",
       "      <th>kd7</th>\n",
       "      <th>kd8</th>\n",
       "      <th>kd9</th>\n",
       "      <th>kd10</th>\n",
       "      <th>...</th>\n",
       "      <th>wd6</th>\n",
       "      <th>wd7</th>\n",
       "      <th>wd8</th>\n",
       "      <th>wd9</th>\n",
       "      <th>wd10</th>\n",
       "      <th>wd11</th>\n",
       "      <th>wd12</th>\n",
       "      <th>wd13</th>\n",
       "      <th>wd14</th>\n",
       "      <th>wd15</th>\n",
       "    </tr>\n",
       "  </thead>\n",
       "  <tbody>\n",
       "    <tr>\n",
       "      <th>count</th>\n",
       "      <td>3964.000000</td>\n",
       "      <td>3964.000000</td>\n",
       "      <td>3964.000000</td>\n",
       "      <td>3964.000000</td>\n",
       "      <td>3964.000000</td>\n",
       "      <td>3964.000000</td>\n",
       "      <td>3964.000000</td>\n",
       "      <td>3964.000000</td>\n",
       "      <td>3964.00000</td>\n",
       "      <td>3964.000000</td>\n",
       "      <td>...</td>\n",
       "      <td>3964.000000</td>\n",
       "      <td>3964.000000</td>\n",
       "      <td>3964.000000</td>\n",
       "      <td>3964.000000</td>\n",
       "      <td>3964.000000</td>\n",
       "      <td>3964.000000</td>\n",
       "      <td>3964.000000</td>\n",
       "      <td>3964.000000</td>\n",
       "      <td>3964.000000</td>\n",
       "      <td>3964.000000</td>\n",
       "    </tr>\n",
       "    <tr>\n",
       "      <th>mean</th>\n",
       "      <td>0.006559</td>\n",
       "      <td>0.003532</td>\n",
       "      <td>0.023713</td>\n",
       "      <td>0.017659</td>\n",
       "      <td>0.041120</td>\n",
       "      <td>0.053734</td>\n",
       "      <td>0.038093</td>\n",
       "      <td>0.068365</td>\n",
       "      <td>0.04894</td>\n",
       "      <td>0.041120</td>\n",
       "      <td>...</td>\n",
       "      <td>0.389506</td>\n",
       "      <td>0.559031</td>\n",
       "      <td>0.729818</td>\n",
       "      <td>0.784813</td>\n",
       "      <td>0.892533</td>\n",
       "      <td>1.029516</td>\n",
       "      <td>1.118315</td>\n",
       "      <td>1.246973</td>\n",
       "      <td>1.402371</td>\n",
       "      <td>1.399344</td>\n",
       "    </tr>\n",
       "    <tr>\n",
       "      <th>std</th>\n",
       "      <td>0.284971</td>\n",
       "      <td>0.580608</td>\n",
       "      <td>1.031643</td>\n",
       "      <td>1.612214</td>\n",
       "      <td>2.044687</td>\n",
       "      <td>2.467736</td>\n",
       "      <td>2.977807</td>\n",
       "      <td>3.432727</td>\n",
       "      <td>3.87694</td>\n",
       "      <td>4.390315</td>\n",
       "      <td>...</td>\n",
       "      <td>9.623687</td>\n",
       "      <td>11.655359</td>\n",
       "      <td>13.962601</td>\n",
       "      <td>15.977996</td>\n",
       "      <td>18.226310</td>\n",
       "      <td>20.581672</td>\n",
       "      <td>23.009162</td>\n",
       "      <td>25.481966</td>\n",
       "      <td>28.210347</td>\n",
       "      <td>30.564348</td>\n",
       "    </tr>\n",
       "    <tr>\n",
       "      <th>min</th>\n",
       "      <td>-2.000000</td>\n",
       "      <td>-4.000000</td>\n",
       "      <td>-6.000000</td>\n",
       "      <td>-7.000000</td>\n",
       "      <td>-9.000000</td>\n",
       "      <td>-11.000000</td>\n",
       "      <td>-11.000000</td>\n",
       "      <td>-15.000000</td>\n",
       "      <td>-15.00000</td>\n",
       "      <td>-18.000000</td>\n",
       "      <td>...</td>\n",
       "      <td>-110.000000</td>\n",
       "      <td>-147.000000</td>\n",
       "      <td>-153.000000</td>\n",
       "      <td>-196.000000</td>\n",
       "      <td>-213.000000</td>\n",
       "      <td>-243.000000</td>\n",
       "      <td>-275.000000</td>\n",
       "      <td>-293.000000</td>\n",
       "      <td>-320.000000</td>\n",
       "      <td>-374.000000</td>\n",
       "    </tr>\n",
       "    <tr>\n",
       "      <th>25%</th>\n",
       "      <td>0.000000</td>\n",
       "      <td>0.000000</td>\n",
       "      <td>0.000000</td>\n",
       "      <td>-1.000000</td>\n",
       "      <td>-1.000000</td>\n",
       "      <td>-2.000000</td>\n",
       "      <td>-2.000000</td>\n",
       "      <td>-2.000000</td>\n",
       "      <td>-3.00000</td>\n",
       "      <td>-3.000000</td>\n",
       "      <td>...</td>\n",
       "      <td>-2.000000</td>\n",
       "      <td>-2.000000</td>\n",
       "      <td>-3.000000</td>\n",
       "      <td>-3.000000</td>\n",
       "      <td>-4.000000</td>\n",
       "      <td>-4.000000</td>\n",
       "      <td>-5.000000</td>\n",
       "      <td>-6.000000</td>\n",
       "      <td>-6.000000</td>\n",
       "      <td>-7.000000</td>\n",
       "    </tr>\n",
       "    <tr>\n",
       "      <th>50%</th>\n",
       "      <td>0.000000</td>\n",
       "      <td>0.000000</td>\n",
       "      <td>0.000000</td>\n",
       "      <td>0.000000</td>\n",
       "      <td>0.000000</td>\n",
       "      <td>0.000000</td>\n",
       "      <td>0.000000</td>\n",
       "      <td>0.000000</td>\n",
       "      <td>0.00000</td>\n",
       "      <td>0.000000</td>\n",
       "      <td>...</td>\n",
       "      <td>0.000000</td>\n",
       "      <td>0.000000</td>\n",
       "      <td>0.000000</td>\n",
       "      <td>0.000000</td>\n",
       "      <td>0.000000</td>\n",
       "      <td>1.000000</td>\n",
       "      <td>0.000000</td>\n",
       "      <td>0.000000</td>\n",
       "      <td>1.000000</td>\n",
       "      <td>1.000000</td>\n",
       "    </tr>\n",
       "    <tr>\n",
       "      <th>75%</th>\n",
       "      <td>0.000000</td>\n",
       "      <td>0.000000</td>\n",
       "      <td>0.000000</td>\n",
       "      <td>1.000000</td>\n",
       "      <td>1.000000</td>\n",
       "      <td>2.000000</td>\n",
       "      <td>2.000000</td>\n",
       "      <td>2.000000</td>\n",
       "      <td>3.00000</td>\n",
       "      <td>3.000000</td>\n",
       "      <td>...</td>\n",
       "      <td>2.000000</td>\n",
       "      <td>3.000000</td>\n",
       "      <td>3.000000</td>\n",
       "      <td>4.000000</td>\n",
       "      <td>5.000000</td>\n",
       "      <td>5.000000</td>\n",
       "      <td>6.000000</td>\n",
       "      <td>7.000000</td>\n",
       "      <td>8.000000</td>\n",
       "      <td>9.000000</td>\n",
       "    </tr>\n",
       "    <tr>\n",
       "      <th>max</th>\n",
       "      <td>3.000000</td>\n",
       "      <td>4.000000</td>\n",
       "      <td>5.000000</td>\n",
       "      <td>7.000000</td>\n",
       "      <td>7.000000</td>\n",
       "      <td>8.000000</td>\n",
       "      <td>11.000000</td>\n",
       "      <td>12.000000</td>\n",
       "      <td>15.00000</td>\n",
       "      <td>18.000000</td>\n",
       "      <td>...</td>\n",
       "      <td>148.000000</td>\n",
       "      <td>172.000000</td>\n",
       "      <td>219.000000</td>\n",
       "      <td>221.000000</td>\n",
       "      <td>226.000000</td>\n",
       "      <td>249.000000</td>\n",
       "      <td>271.000000</td>\n",
       "      <td>292.000000</td>\n",
       "      <td>341.000000</td>\n",
       "      <td>368.000000</td>\n",
       "    </tr>\n",
       "  </tbody>\n",
       "</table>\n",
       "<p>8 rows × 135 columns</p>\n",
       "</div>"
      ],
      "text/plain": [
       "temp_names          kd1          kd2          kd3          kd4          kd5  \\\n",
       "count       3964.000000  3964.000000  3964.000000  3964.000000  3964.000000   \n",
       "mean           0.006559     0.003532     0.023713     0.017659     0.041120   \n",
       "std            0.284971     0.580608     1.031643     1.612214     2.044687   \n",
       "min           -2.000000    -4.000000    -6.000000    -7.000000    -9.000000   \n",
       "25%            0.000000     0.000000     0.000000    -1.000000    -1.000000   \n",
       "50%            0.000000     0.000000     0.000000     0.000000     0.000000   \n",
       "75%            0.000000     0.000000     0.000000     1.000000     1.000000   \n",
       "max            3.000000     4.000000     5.000000     7.000000     7.000000   \n",
       "\n",
       "temp_names          kd6          kd7          kd8         kd9         kd10  \\\n",
       "count       3964.000000  3964.000000  3964.000000  3964.00000  3964.000000   \n",
       "mean           0.053734     0.038093     0.068365     0.04894     0.041120   \n",
       "std            2.467736     2.977807     3.432727     3.87694     4.390315   \n",
       "min          -11.000000   -11.000000   -15.000000   -15.00000   -18.000000   \n",
       "25%           -2.000000    -2.000000    -2.000000    -3.00000    -3.000000   \n",
       "50%            0.000000     0.000000     0.000000     0.00000     0.000000   \n",
       "75%            2.000000     2.000000     2.000000     3.00000     3.000000   \n",
       "max            8.000000    11.000000    12.000000    15.00000    18.000000   \n",
       "\n",
       "temp_names  ...          wd6          wd7          wd8          wd9  \\\n",
       "count       ...  3964.000000  3964.000000  3964.000000  3964.000000   \n",
       "mean        ...     0.389506     0.559031     0.729818     0.784813   \n",
       "std         ...     9.623687    11.655359    13.962601    15.977996   \n",
       "min         ...  -110.000000  -147.000000  -153.000000  -196.000000   \n",
       "25%         ...    -2.000000    -2.000000    -3.000000    -3.000000   \n",
       "50%         ...     0.000000     0.000000     0.000000     0.000000   \n",
       "75%         ...     2.000000     3.000000     3.000000     4.000000   \n",
       "max         ...   148.000000   172.000000   219.000000   221.000000   \n",
       "\n",
       "temp_names         wd10         wd11         wd12         wd13         wd14  \\\n",
       "count       3964.000000  3964.000000  3964.000000  3964.000000  3964.000000   \n",
       "mean           0.892533     1.029516     1.118315     1.246973     1.402371   \n",
       "std           18.226310    20.581672    23.009162    25.481966    28.210347   \n",
       "min         -213.000000  -243.000000  -275.000000  -293.000000  -320.000000   \n",
       "25%           -4.000000    -4.000000    -5.000000    -6.000000    -6.000000   \n",
       "50%            0.000000     1.000000     0.000000     0.000000     1.000000   \n",
       "75%            5.000000     5.000000     6.000000     7.000000     8.000000   \n",
       "max          226.000000   249.000000   271.000000   292.000000   341.000000   \n",
       "\n",
       "temp_names         wd15  \n",
       "count       3964.000000  \n",
       "mean           1.399344  \n",
       "std           30.564348  \n",
       "min         -374.000000  \n",
       "25%           -7.000000  \n",
       "50%            1.000000  \n",
       "75%            9.000000  \n",
       "max          368.000000  \n",
       "\n",
       "[8 rows x 135 columns]"
      ]
     },
     "execution_count": 5,
     "metadata": {},
     "output_type": "execute_result"
    }
   ],
   "source": [
    "df.describe()"
   ]
  },
  {
   "cell_type": "markdown",
   "id": "54e7f6bb",
   "metadata": {},
   "source": [
    " "
   ]
  },
  {
   "cell_type": "markdown",
   "id": "8914ac71",
   "metadata": {},
   "source": [
    "Comprobar si las clases están repartidas equitativamente"
   ]
  },
  {
   "cell_type": "code",
   "execution_count": 6,
   "id": "f9286af6",
   "metadata": {
    "scrolled": false
   },
   "outputs": [
    {
     "name": "stdout",
     "output_type": "stream",
     "text": [
      "% rows que son victoria: 49.59636730575176\n",
      " \n",
      "% rows que son derrota: 50.40363269424824\n"
     ]
    }
   ],
   "source": [
    "print(\"% rows que son victoria: \"+ str((len(df[df[\"BlueWin\"] == True])/len(df)*100)))\n",
    "print(\" \")\n",
    "print(\"% rows que son derrota: \"+ str((len(df[df[\"BlueWin\"] == False])/len(df)*100)))"
   ]
  },
  {
   "cell_type": "markdown",
   "id": "486bd104",
   "metadata": {},
   "source": [
    " "
   ]
  },
  {
   "cell_type": "markdown",
   "id": "1e260cc0",
   "metadata": {},
   "source": [
    "Exploración visual basica"
   ]
  },
  {
   "cell_type": "code",
   "execution_count": null,
   "id": "ba28d84a",
   "metadata": {},
   "outputs": [],
   "source": []
  },
  {
   "cell_type": "code",
   "execution_count": null,
   "id": "0faea98b",
   "metadata": {},
   "outputs": [],
   "source": []
  },
  {
   "cell_type": "markdown",
   "id": "826e2a09",
   "metadata": {},
   "source": [
    "# Decision Trees"
   ]
  },
  {
   "cell_type": "code",
   "execution_count": 7,
   "id": "dcdc7aa2",
   "metadata": {},
   "outputs": [],
   "source": [
    "X = df[[\"kd12\",\"gd12\",\"xpd12\",\"csd12\",\"dd12\",\"hd12\",\"td12\",\"pd12\",\"tdd12\",\"wd12\"]]\n",
    "y = df[\"BlueWin\"]\n",
    "\n",
    "dt = DecisionTreeClassifier()\n",
    "\n",
    "X_train, X_test, y_train, y_test = train_test_split(X, y)\n",
    "dt.fit(X_train, y_train)\n",
    "y_hat = dt.predict(X_test)"
   ]
  },
  {
   "cell_type": "code",
   "execution_count": 8,
   "id": "061c901f",
   "metadata": {},
   "outputs": [],
   "source": [
    "# get importance\n",
    "importance = dt.feature_importances_"
   ]
  },
  {
   "cell_type": "code",
   "execution_count": 9,
   "id": "5176ad73",
   "metadata": {
    "scrolled": true
   },
   "outputs": [
    {
     "name": "stdout",
     "output_type": "stream",
     "text": [
      "Feature: kd, Score: 0.11685\n",
      "Feature: gd, Score: 0.30934\n",
      "Feature: xpd, Score: 0.12785\n",
      "Feature: csd, Score: 0.10255\n",
      "Feature: dd, Score: 0.03185\n",
      "Feature: hd, Score: 0.01403\n",
      "Feature: td, Score: 0.02136\n",
      "Feature: pd, Score: 0.06578\n",
      "Feature: tdd, Score: 0.11131\n",
      "Feature: wd, Score: 0.09908\n"
     ]
    },
    {
     "data": {
      "image/png": "[encoded data removed]",
      "text/plain": [
       "<Figure size 432x288 with 1 Axes>"
      ]
     },
     "metadata": {
      "needs_background": "light"
     },
     "output_type": "display_data"
    }
   ],
   "source": [
    "# summarize feature importance\n",
    "for i,v in enumerate(importance):\n",
    "    print('Feature: '+X.axes[1][i][:-2]+', Score: %.5f' % (v))\n",
    "# plot feature importance\n",
    "pyplot.bar([x for x in range(len(importance))], importance)\n",
    "pyplot.show()"
   ]
  },
  {
   "cell_type": "code",
   "execution_count": 10,
   "id": "5e369ab3",
   "metadata": {
    "scrolled": true
   },
   "outputs": [
    {
     "name": "stdout",
     "output_type": "stream",
     "text": [
      "              precision    recall  f1-score   support\n",
      "\n",
      "       False       0.66      0.61      0.63       523\n",
      "        True       0.60      0.64      0.62       468\n",
      "\n",
      "    accuracy                           0.63       991\n",
      "   macro avg       0.63      0.63      0.63       991\n",
      "weighted avg       0.63      0.63      0.63       991\n",
      "\n"
     ]
    }
   ],
   "source": [
    "reportdt = classification_report(y_test, y_hat)\n",
    "print(reportdt)"
   ]
  },
  {
   "cell_type": "raw",
   "id": "9bdc2c5c",
   "metadata": {},
   "source": []
  },
  {
   "cell_type": "markdown",
   "id": "b3494869",
   "metadata": {},
   "source": [
    "# Random Forest"
   ]
  },
  {
   "cell_type": "code",
   "execution_count": 11,
   "id": "e436ed03",
   "metadata": {},
   "outputs": [
    {
     "data": {
      "text/plain": [
       "0.7043390514631686"
      ]
     },
     "execution_count": 11,
     "metadata": {},
     "output_type": "execute_result"
    }
   ],
   "source": [
    "X = df[[\"kd12\",\"gd12\",\"xpd12\",\"csd12\",\"dd12\",\"hd12\",\"td12\",\"pd12\",\"tdd12\",\"wd12\"]]\n",
    "y = df[\"BlueWin\"]\n",
    "\n",
    "rf = RandomForestClassifier(oob_score=True)\n",
    "\n",
    "X_train, X_test, y_train, y_test = train_test_split(X, y)\n",
    "rf.fit(X_train, y_train)\n",
    "\n",
    "rf.oob_score_"
   ]
  },
  {
   "cell_type": "code",
   "execution_count": 12,
   "id": "ae79603c",
   "metadata": {},
   "outputs": [
    {
     "data": {
      "text/plain": [
       "(0.7073662966700303, 0.7012448132780082, 0.6983471074380165)"
      ]
     },
     "execution_count": 12,
     "metadata": {},
     "output_type": "execute_result"
    }
   ],
   "source": [
    "y_hat = rf.predict(X_test)\n",
    "probs = rf.predict_proba(X_test)\n",
    "\n",
    "accuracy_score(y_test, y_hat), precision_score(y_test, y_hat), recall_score(y_test, y_hat)"
   ]
  },
  {
   "cell_type": "code",
   "execution_count": 13,
   "id": "974ea70c",
   "metadata": {},
   "outputs": [
    {
     "name": "stdout",
     "output_type": "stream",
     "text": [
      "Feature: kd, Score: 0.11685\n",
      "Feature: gd, Score: 0.30934\n",
      "Feature: xpd, Score: 0.12785\n",
      "Feature: csd, Score: 0.10255\n",
      "Feature: dd, Score: 0.03185\n",
      "Feature: hd, Score: 0.01403\n",
      "Feature: td, Score: 0.02136\n",
      "Feature: pd, Score: 0.06578\n",
      "Feature: tdd, Score: 0.11131\n",
      "Feature: wd, Score: 0.09908\n"
     ]
    },
    {
     "data": {
      "image/png": "[encoded data removed]",
      "text/plain": [
       "<Figure size 432x288 with 1 Axes>"
      ]
     },
     "metadata": {
      "needs_background": "light"
     },
     "output_type": "display_data"
    }
   ],
   "source": [
    "importances =  rf.feature_importances_\n",
    "# summarize feature importance\n",
    "for i,v in enumerate(importance):\n",
    "    print('Feature: '+X.axes[1][i][:-2]+', Score: %.5f' % (v))\n",
    "# plot feature importance\n",
    "pyplot.bar([x for x in range(len(importance))], importance)\n",
    "pyplot.show()"
   ]
  },
  {
   "cell_type": "code",
   "execution_count": 14,
   "id": "1ea785b6",
   "metadata": {},
   "outputs": [
    {
     "name": "stdout",
     "output_type": "stream",
     "text": [
      "              precision    recall  f1-score   support\n",
      "\n",
      "       False       0.71      0.72      0.71       507\n",
      "        True       0.70      0.70      0.70       484\n",
      "\n",
      "    accuracy                           0.71       991\n",
      "   macro avg       0.71      0.71      0.71       991\n",
      "weighted avg       0.71      0.71      0.71       991\n",
      "\n"
     ]
    }
   ],
   "source": [
    "reportrf = classification_report(y_test, y_hat)\n",
    "print(reportrf)"
   ]
  },
  {
   "cell_type": "code",
   "execution_count": null,
   "id": "d8e3d07e",
   "metadata": {},
   "outputs": [],
   "source": []
  },
  {
   "cell_type": "markdown",
   "id": "98ce668e",
   "metadata": {},
   "source": [
    "# Artificial Neural Networks"
   ]
  },
  {
   "cell_type": "code",
   "execution_count": 15,
   "id": "e61a3e5c",
   "metadata": {},
   "outputs": [
    {
     "data": {
      "text/plain": [
       "MLPClassifier()"
      ]
     },
     "execution_count": 15,
     "metadata": {},
     "output_type": "execute_result"
    }
   ],
   "source": [
    "X = df[[\"kd12\",\"gd12\",\"xpd12\",\"csd12\",\"dd12\",\"hd12\",\"td12\",\"pd12\",\"tdd12\",\"wd12\"]]\n",
    "y = df[\"BlueWin\"]\n",
    "\n",
    "clf = MLPClassifier()\n",
    "X_train, X_test, y_train, y_test = train_test_split(X, y)\n",
    "\n",
    "clf.fit(X_train, y_train)"
   ]
  },
  {
   "cell_type": "code",
   "execution_count": 16,
   "id": "7ac78839",
   "metadata": {},
   "outputs": [],
   "source": [
    "y_hat = clf.predict(X_test)"
   ]
  },
  {
   "cell_type": "code",
   "execution_count": 17,
   "id": "54d978be",
   "metadata": {},
   "outputs": [
    {
     "name": "stdout",
     "output_type": "stream",
     "text": [
      "              precision    recall  f1-score   support\n",
      "\n",
      "       False       0.73      0.66      0.69       526\n",
      "        True       0.65      0.72      0.69       465\n",
      "\n",
      "    accuracy                           0.69       991\n",
      "   macro avg       0.69      0.69      0.69       991\n",
      "weighted avg       0.69      0.69      0.69       991\n",
      "\n"
     ]
    }
   ],
   "source": [
    "reportnn = classification_report(y_test, y_hat)\n",
    "print(reportnn)"
   ]
  },
  {
   "cell_type": "code",
   "execution_count": null,
   "id": "96f3da04",
   "metadata": {},
   "outputs": [],
   "source": []
  },
  {
   "cell_type": "markdown",
   "id": "0d2b4439",
   "metadata": {},
   "source": [
    "# SVM"
   ]
  },
  {
   "cell_type": "code",
   "execution_count": 18,
   "id": "fb3746ba",
   "metadata": {},
   "outputs": [],
   "source": [
    "X = df[[\"kd12\",\"gd12\",\"xpd12\",\"csd12\",\"dd12\",\"hd12\",\"td12\",\"pd12\",\"tdd12\",\"wd12\"]]\n",
    "y = df[\"BlueWin\"]"
   ]
  },
  {
   "cell_type": "code",
   "execution_count": 19,
   "id": "d7aea979",
   "metadata": {},
   "outputs": [
    {
     "data": {
      "text/plain": [
       "SVC()"
      ]
     },
     "execution_count": 19,
     "metadata": {},
     "output_type": "execute_result"
    }
   ],
   "source": [
    "svmcl =  svm.SVC()\n",
    "\n",
    "X_train, X_test, y_train, y_test = train_test_split(X, y)\n",
    "\n",
    "svmcl.fit(X_train,y_train)"
   ]
  },
  {
   "cell_type": "code",
   "execution_count": 20,
   "id": "24845bfc",
   "metadata": {},
   "outputs": [],
   "source": [
    "y_hat = svmcl.predict(X_test)"
   ]
  },
  {
   "cell_type": "code",
   "execution_count": 21,
   "id": "e88d85e2",
   "metadata": {},
   "outputs": [
    {
     "name": "stdout",
     "output_type": "stream",
     "text": [
      "              precision    recall  f1-score   support\n",
      "\n",
      "       False       0.71      0.73      0.72       494\n",
      "        True       0.72      0.70      0.71       497\n",
      "\n",
      "    accuracy                           0.71       991\n",
      "   macro avg       0.71      0.71      0.71       991\n",
      "weighted avg       0.71      0.71      0.71       991\n",
      "\n"
     ]
    }
   ],
   "source": [
    "reportsvm = classification_report(y_test, y_hat)\n",
    "print(reportsvm)"
   ]
  },
  {
   "cell_type": "code",
   "execution_count": null,
   "id": "479c3913",
   "metadata": {},
   "outputs": [],
   "source": []
  },
  {
   "cell_type": "markdown",
   "id": "2d65cb06",
   "metadata": {},
   "source": [
    "# Logistic Regression"
   ]
  },
  {
   "cell_type": "code",
   "execution_count": 22,
   "id": "b7b0d5bf",
   "metadata": {},
   "outputs": [],
   "source": [
    "X = df[[\"kd12\",\"gd12\",\"xpd12\",\"csd12\",\"dd12\",\"hd12\",\"td12\",\"pd12\",\"tdd12\",\"wd12\"]]\n",
    "y = df[\"BlueWin\"]"
   ]
  },
  {
   "cell_type": "code",
   "execution_count": 23,
   "id": "9e1db2cf",
   "metadata": {},
   "outputs": [
    {
     "data": {
      "text/plain": [
       "LogisticRegression()"
      ]
     },
     "execution_count": 23,
     "metadata": {},
     "output_type": "execute_result"
    }
   ],
   "source": [
    "# Split\n",
    "X_train, X_test, y_train, y_test = train_test_split(X,y)\n",
    "# define the model\n",
    "lr = LogisticRegression()\n",
    "# fit the model\n",
    "lr.fit(X_train, y_train)"
   ]
  },
  {
   "cell_type": "code",
   "execution_count": 24,
   "id": "32906bab",
   "metadata": {},
   "outputs": [],
   "source": [
    "y_hat = lr.predict(X_test)"
   ]
  },
  {
   "cell_type": "code",
   "execution_count": 25,
   "id": "8261384c",
   "metadata": {},
   "outputs": [
    {
     "name": "stdout",
     "output_type": "stream",
     "text": [
      "              precision    recall  f1-score   support\n",
      "\n",
      "       False       0.70      0.73      0.72       490\n",
      "        True       0.73      0.70      0.71       501\n",
      "\n",
      "    accuracy                           0.72       991\n",
      "   macro avg       0.72      0.72      0.72       991\n",
      "weighted avg       0.72      0.72      0.72       991\n",
      "\n"
     ]
    }
   ],
   "source": [
    "reportlr = classification_report(y_test, y_hat)\n",
    "print(reportlr)"
   ]
  },
  {
   "cell_type": "code",
   "execution_count": null,
   "id": "b811c8b4",
   "metadata": {},
   "outputs": [],
   "source": []
  },
  {
   "cell_type": "markdown",
   "id": "276a8f5d",
   "metadata": {},
   "source": [
    "# Predict the rift (Logistic Regression)"
   ]
  },
  {
   "cell_type": "markdown",
   "id": "a11723c8",
   "metadata": {},
   "source": [
    "Importancia de las features"
   ]
  },
  {
   "cell_type": "markdown",
   "id": "7860b024",
   "metadata": {},
   "source": [
    "Global (minuto 0-15)"
   ]
  },
  {
   "cell_type": "code",
   "execution_count": 26,
   "id": "b48462f2",
   "metadata": {},
   "outputs": [
    {
     "name": "stderr",
     "output_type": "stream",
     "text": [
      "/home/dsc/anaconda3/lib/python3.8/site-packages/sklearn/linear_model/_logistic.py:763: ConvergenceWarning: lbfgs failed to converge (status=1):\n",
      "STOP: TOTAL NO. of ITERATIONS REACHED LIMIT.\n",
      "\n",
      "Increase the number of iterations (max_iter) or scale the data as shown in:\n",
      "    https://scikit-learn.org/stable/modules/preprocessing.html\n",
      "Please also refer to the documentation for alternative solver options:\n",
      "    https://scikit-learn.org/stable/modules/linear_model.html#logistic-regression\n",
      "  n_iter_i = _check_optimize_result(\n"
     ]
    }
   ],
   "source": [
    "y = df[\"BlueWin\"]\n",
    "\n",
    "lr = LogisticRegression()\n",
    "\n",
    "for i in range(1,16):\n",
    "    \n",
    "    X = df[[\"kd\"+str(i)+\"\",\"gd\"+str(i)+\"\",\"xpd\"+str(i)+\"\",\"csd\"+str(i)+\"\",\"dd\"+str(i)+\"\",\"hd\"+str(i)+\"\",\"td\"+str(i)+\"\",\"pd\"+str(i)+\"\",\"tdd\"+str(i)+\"\",\"wd\"+str(i)+\"\"]]\n",
    "    \n",
    "    X_train, X_test, y_train, y_test = train_test_split(X,y)\n",
    "    lr.fit(X_train, y_train)\n",
    "    \n",
    "    if i == 1:\n",
    "        importance = lr.coef_[0]\n",
    "    else:\n",
    "        importance = importance + lr.coef_[0]\n"
   ]
  },
  {
   "cell_type": "code",
   "execution_count": 27,
   "id": "2382f7fa",
   "metadata": {},
   "outputs": [],
   "source": [
    "fix_importance = importance/15"
   ]
  },
  {
   "cell_type": "code",
   "execution_count": 28,
   "id": "b4ecac92",
   "metadata": {},
   "outputs": [
    {
     "name": "stdout",
     "output_type": "stream",
     "text": [
      "Feature: kd, Score: 0.12704\n",
      "Feature: gd, Score: 0.00011\n",
      "Feature: xpd, Score: 0.00058\n",
      "Feature: csd, Score: -0.03758\n",
      "Feature: dd, Score: 0.04031\n",
      "Feature: hd, Score: -0.00029\n",
      "Feature: td, Score: 0.00622\n",
      "Feature: pd, Score: 0.04965\n",
      "Feature: tdd, Score: -0.00000\n",
      "Feature: wd, Score: 0.00446\n"
     ]
    },
    {
     "data": {
      "image/png": "[encoded data removed]",
      "text/plain": [
       "<Figure size 432x288 with 1 Axes>"
      ]
     },
     "metadata": {
      "needs_background": "light"
     },
     "output_type": "display_data"
    }
   ],
   "source": [
    "# summarize feature importance\n",
    "for i,v in enumerate(fix_importance):\n",
    "    print('Feature: '+X.axes[1][i][:-2]+', Score: %.5f' % (v))\n",
    "# plot feature importance\n",
    "pyplot.bar([x for x in range(len(importance))], importance)\n",
    "pyplot.show()"
   ]
  },
  {
   "cell_type": "markdown",
   "id": "edffa85c",
   "metadata": {},
   "source": [
    "Antes del primer dragón (minuto 0-5)"
   ]
  },
  {
   "cell_type": "code",
   "execution_count": 29,
   "id": "b9e0099f",
   "metadata": {},
   "outputs": [
    {
     "name": "stderr",
     "output_type": "stream",
     "text": [
      "/home/dsc/anaconda3/lib/python3.8/site-packages/sklearn/linear_model/_logistic.py:763: ConvergenceWarning: lbfgs failed to converge (status=1):\n",
      "STOP: TOTAL NO. of ITERATIONS REACHED LIMIT.\n",
      "\n",
      "Increase the number of iterations (max_iter) or scale the data as shown in:\n",
      "    https://scikit-learn.org/stable/modules/preprocessing.html\n",
      "Please also refer to the documentation for alternative solver options:\n",
      "    https://scikit-learn.org/stable/modules/linear_model.html#logistic-regression\n",
      "  n_iter_i = _check_optimize_result(\n"
     ]
    }
   ],
   "source": [
    "y = df[\"BlueWin\"]\n",
    "\n",
    "lr = LogisticRegression()\n",
    "\n",
    "for i in range(1,6):\n",
    "    \n",
    "    X = df[[\"kd\"+str(i)+\"\",\"gd\"+str(i)+\"\",\"xpd\"+str(i)+\"\",\"csd\"+str(i)+\"\",\"dd\"+str(i)+\"\",\"hd\"+str(i)+\"\",\"td\"+str(i)+\"\",\"pd\"+str(i)+\"\",\"tdd\"+str(i)+\"\",\"wd\"+str(i)+\"\"]]\n",
    "    \n",
    "    X_train, X_test, y_train, y_test = train_test_split(X,y)\n",
    "    lr.fit(X_train, y_train)\n",
    "    \n",
    "    if i == 1:\n",
    "        importance = lr.coef_[0]\n",
    "    else:\n",
    "        importance = importance + lr.coef_[0]\n"
   ]
  },
  {
   "cell_type": "code",
   "execution_count": 30,
   "id": "41bb647c",
   "metadata": {},
   "outputs": [],
   "source": [
    "fix_importance = importance/5"
   ]
  },
  {
   "cell_type": "code",
   "execution_count": 31,
   "id": "608fdb05",
   "metadata": {},
   "outputs": [
    {
     "name": "stdout",
     "output_type": "stream",
     "text": [
      "Feature: kd, Score: 0.06696\n",
      "Feature: gd, Score: 0.00045\n",
      "Feature: xpd, Score: -0.00029\n",
      "Feature: csd, Score: 0.00038\n",
      "Feature: dd, Score: 0.00000\n",
      "Feature: hd, Score: 0.00000\n",
      "Feature: td, Score: 0.00000\n",
      "Feature: pd, Score: 0.00462\n",
      "Feature: tdd, Score: 0.00001\n",
      "Feature: wd, Score: 0.01276\n"
     ]
    },
    {
     "data": {
      "image/png": "[encoded data removed]",
      "text/plain": [
       "<Figure size 432x288 with 1 Axes>"
      ]
     },
     "metadata": {
      "needs_background": "light"
     },
     "output_type": "display_data"
    }
   ],
   "source": [
    "# summarize feature importance\n",
    "for i,v in enumerate(fix_importance):\n",
    "    print('Feature: '+X.axes[1][i][:-1]+', Score: %.5f' % (v))\n",
    "# plot feature importance\n",
    "pyplot.bar([x for x in range(len(importance))], importance)\n",
    "pyplot.show()"
   ]
  },
  {
   "cell_type": "markdown",
   "id": "337e3ff6",
   "metadata": {},
   "source": [
    "Desde el primer dragón (minuto 5-15)"
   ]
  },
  {
   "cell_type": "code",
   "execution_count": 32,
   "id": "28439df5",
   "metadata": {
    "scrolled": true
   },
   "outputs": [
    {
     "name": "stderr",
     "output_type": "stream",
     "text": [
      "/home/dsc/anaconda3/lib/python3.8/site-packages/sklearn/linear_model/_logistic.py:763: ConvergenceWarning: lbfgs failed to converge (status=1):\n",
      "STOP: TOTAL NO. of ITERATIONS REACHED LIMIT.\n",
      "\n",
      "Increase the number of iterations (max_iter) or scale the data as shown in:\n",
      "    https://scikit-learn.org/stable/modules/preprocessing.html\n",
      "Please also refer to the documentation for alternative solver options:\n",
      "    https://scikit-learn.org/stable/modules/linear_model.html#logistic-regression\n",
      "  n_iter_i = _check_optimize_result(\n"
     ]
    }
   ],
   "source": [
    "y = df[\"BlueWin\"]\n",
    "\n",
    "lr = LogisticRegression()\n",
    "\n",
    "for i in range(5,16):\n",
    "    \n",
    "    X = df[[\"kd\"+str(i)+\"\",\"gd\"+str(i)+\"\",\"xpd\"+str(i)+\"\",\"csd\"+str(i)+\"\",\"dd\"+str(i)+\"\",\"hd\"+str(i)+\"\",\"td\"+str(i)+\"\",\"pd\"+str(i)+\"\",\"tdd\"+str(i)+\"\",\"wd\"+str(i)+\"\"]]\n",
    "    \n",
    "    X_train, X_test, y_train, y_test = train_test_split(X,y)\n",
    "    lr.fit(X_train, y_train)\n",
    "    \n",
    "    if i == 5:\n",
    "        importance = lr.coef_[0]\n",
    "    else:\n",
    "        importance = importance + lr.coef_[0]\n"
   ]
  },
  {
   "cell_type": "code",
   "execution_count": 33,
   "id": "4abfc6f4",
   "metadata": {},
   "outputs": [],
   "source": [
    "fix_importance = importance/11"
   ]
  },
  {
   "cell_type": "code",
   "execution_count": 34,
   "id": "3780e575",
   "metadata": {},
   "outputs": [
    {
     "name": "stdout",
     "output_type": "stream",
     "text": [
      "Feature: kd, Score: 0.15066\n",
      "Feature: gd, Score: 0.00004\n",
      "Feature: xpd, Score: 0.00006\n",
      "Feature: csd, Score: 0.00011\n",
      "Feature: dd, Score: 0.06239\n",
      "Feature: hd, Score: -0.00274\n",
      "Feature: td, Score: 0.00886\n",
      "Feature: pd, Score: 0.07531\n",
      "Feature: tdd, Score: -0.00001\n",
      "Feature: wd, Score: -0.00108\n"
     ]
    },
    {
     "data": {
      "image/png": "[encoded data removed]",
      "text/plain": [
       "<Figure size 432x288 with 1 Axes>"
      ]
     },
     "metadata": {
      "needs_background": "light"
     },
     "output_type": "display_data"
    }
   ],
   "source": [
    "# summarize feature importance\n",
    "for i,v in enumerate(fix_importance):\n",
    "    print('Feature: '+X.axes[1][i][:-2]+', Score: %.5f' % (v))\n",
    "# plot feature importance\n",
    "pyplot.bar([x for x in range(len(importance))], importance)\n",
    "pyplot.show()"
   ]
  },
  {
   "cell_type": "markdown",
   "id": "adcc2f92",
   "metadata": {},
   "source": [
    "Desde el primer heraldo (minuto 8-15)"
   ]
  },
  {
   "cell_type": "code",
   "execution_count": 35,
   "id": "befc74d6",
   "metadata": {},
   "outputs": [
    {
     "name": "stderr",
     "output_type": "stream",
     "text": [
      "/home/dsc/anaconda3/lib/python3.8/site-packages/sklearn/linear_model/_logistic.py:763: ConvergenceWarning: lbfgs failed to converge (status=1):\n",
      "STOP: TOTAL NO. of ITERATIONS REACHED LIMIT.\n",
      "\n",
      "Increase the number of iterations (max_iter) or scale the data as shown in:\n",
      "    https://scikit-learn.org/stable/modules/preprocessing.html\n",
      "Please also refer to the documentation for alternative solver options:\n",
      "    https://scikit-learn.org/stable/modules/linear_model.html#logistic-regression\n",
      "  n_iter_i = _check_optimize_result(\n"
     ]
    }
   ],
   "source": [
    "y = df[\"BlueWin\"]\n",
    "\n",
    "lr = LogisticRegression()\n",
    "\n",
    "for i in range(8,16):\n",
    "    X = df[[\"kd\"+str(i)+\"\",\"gd\"+str(i)+\"\",\"xpd\"+str(i)+\"\",\"csd\"+str(i)+\"\",\"dd\"+str(i)+\"\",\"hd\"+str(i)+\"\",\"td\"+str(i)+\"\",\"pd\"+str(i)+\"\",\"tdd\"+str(i)+\"\",\"wd\"+str(i)+\"\"]]\n",
    "    \n",
    "    X_train, X_test, y_train, y_test = train_test_split(X,y)\n",
    "    lr.fit(X_train, y_train)\n",
    "    \n",
    "    if i == 8:\n",
    "        importance = lr.coef_[0]\n",
    "    else:\n",
    "        importance = importance + lr.coef_[0]"
   ]
  },
  {
   "cell_type": "code",
   "execution_count": 36,
   "id": "cd4e49bc",
   "metadata": {},
   "outputs": [],
   "source": [
    "fix_importance = importance/8"
   ]
  },
  {
   "cell_type": "code",
   "execution_count": 37,
   "id": "033ccf9b",
   "metadata": {},
   "outputs": [
    {
     "name": "stdout",
     "output_type": "stream",
     "text": [
      "Feature: kd, Score: 0.15620\n",
      "Feature: gd, Score: 0.00002\n",
      "Feature: xpd, Score: 0.00003\n",
      "Feature: csd, Score: 0.00020\n",
      "Feature: dd, Score: 0.06907\n",
      "Feature: hd, Score: -0.00014\n",
      "Feature: td, Score: 0.01226\n",
      "Feature: pd, Score: 0.09382\n",
      "Feature: tdd, Score: -0.00001\n",
      "Feature: wd, Score: -0.00035\n"
     ]
    },
    {
     "data": {
      "image/png": "[encoded data removed]",
      "text/plain": [
       "<Figure size 432x288 with 1 Axes>"
      ]
     },
     "metadata": {
      "needs_background": "light"
     },
     "output_type": "display_data"
    }
   ],
   "source": [
    "# summarize feature importance\n",
    "for i,v in enumerate(fix_importance):\n",
    "    print('Feature: '+X.axes[1][i][:-2]+', Score: %.5f' % (v))\n",
    "# plot feature importance\n",
    "pyplot.bar([x for x in range(len(importance))], importance)\n",
    "pyplot.show()"
   ]
  },
  {
   "cell_type": "markdown",
   "id": "f7eec19f",
   "metadata": {},
   "source": [
    "-------------------------------------------------------------------------------------------------------------------------------"
   ]
  },
  {
   "cell_type": "markdown",
   "id": "b100356b",
   "metadata": {},
   "source": [
    "Predicting (add data en x_test para después buscarlo)"
   ]
  },
  {
   "cell_type": "code",
   "execution_count": 38,
   "id": "a6b80f65",
   "metadata": {
    "scrolled": true
   },
   "outputs": [
    {
     "data": {
      "text/html": [
       "<div>\n",
       "<style scoped>\n",
       "    .dataframe tbody tr th:only-of-type {\n",
       "        vertical-align: middle;\n",
       "    }\n",
       "\n",
       "    .dataframe tbody tr th {\n",
       "        vertical-align: top;\n",
       "    }\n",
       "\n",
       "    .dataframe thead th {\n",
       "        text-align: right;\n",
       "    }\n",
       "</style>\n",
       "<table border=\"1\" class=\"dataframe\">\n",
       "  <thead>\n",
       "    <tr style=\"text-align: right;\">\n",
       "      <th></th>\n",
       "      <th>kd1</th>\n",
       "      <th>gd1</th>\n",
       "      <th>xpd1</th>\n",
       "      <th>csd1</th>\n",
       "      <th>dd1</th>\n",
       "      <th>hd1</th>\n",
       "      <th>td1</th>\n",
       "      <th>pd1</th>\n",
       "      <th>tdd1</th>\n",
       "      <th>wd1</th>\n",
       "      <th>...</th>\n",
       "      <th>gd15</th>\n",
       "      <th>xpd15</th>\n",
       "      <th>csd15</th>\n",
       "      <th>dd15</th>\n",
       "      <th>hd15</th>\n",
       "      <th>td15</th>\n",
       "      <th>pd15</th>\n",
       "      <th>tdd15</th>\n",
       "      <th>wd15</th>\n",
       "      <th>BlueWin</th>\n",
       "    </tr>\n",
       "    <tr>\n",
       "      <th>gameId</th>\n",
       "      <th></th>\n",
       "      <th></th>\n",
       "      <th></th>\n",
       "      <th></th>\n",
       "      <th></th>\n",
       "      <th></th>\n",
       "      <th></th>\n",
       "      <th></th>\n",
       "      <th></th>\n",
       "      <th></th>\n",
       "      <th></th>\n",
       "      <th></th>\n",
       "      <th></th>\n",
       "      <th></th>\n",
       "      <th></th>\n",
       "      <th></th>\n",
       "      <th></th>\n",
       "      <th></th>\n",
       "      <th></th>\n",
       "      <th></th>\n",
       "      <th></th>\n",
       "    </tr>\n",
       "  </thead>\n",
       "  <tbody>\n",
       "    <tr>\n",
       "      <th>EUW1_5875262791</th>\n",
       "      <td>0</td>\n",
       "      <td>0</td>\n",
       "      <td>0</td>\n",
       "      <td>0</td>\n",
       "      <td>0</td>\n",
       "      <td>0</td>\n",
       "      <td>0</td>\n",
       "      <td>0</td>\n",
       "      <td>0</td>\n",
       "      <td>0</td>\n",
       "      <td>...</td>\n",
       "      <td>2682</td>\n",
       "      <td>2147</td>\n",
       "      <td>66</td>\n",
       "      <td>0</td>\n",
       "      <td>0</td>\n",
       "      <td>0</td>\n",
       "      <td>0</td>\n",
       "      <td>-1548</td>\n",
       "      <td>-6</td>\n",
       "      <td>False</td>\n",
       "    </tr>\n",
       "  </tbody>\n",
       "</table>\n",
       "<p>1 rows × 151 columns</p>\n",
       "</div>"
      ],
      "text/plain": [
       "                 kd1  gd1  xpd1  csd1  dd1  hd1  td1  pd1  tdd1  wd1  ...  \\\n",
       "gameId                                                                ...   \n",
       "EUW1_5875262791    0    0     0     0    0    0    0    0     0    0  ...   \n",
       "\n",
       "                 gd15  xpd15  csd15  dd15  hd15  td15  pd15  tdd15  wd15  \\\n",
       "gameId                                                                     \n",
       "EUW1_5875262791  2682   2147     66     0     0     0     0  -1548    -6   \n",
       "\n",
       "                 BlueWin  \n",
       "gameId                    \n",
       "EUW1_5875262791    False  \n",
       "\n",
       "[1 rows x 151 columns]"
      ]
     },
     "execution_count": 38,
     "metadata": {},
     "output_type": "execute_result"
    }
   ],
   "source": [
    "data = {}\n",
    "kills = 0;ekills = 0\n",
    "gold = 0;egold = 0\n",
    "xp = 0;exp = 0\n",
    "cs = 0;ecs = 0\n",
    "drakes = 0;edrakes = 0\n",
    "heralds = 0;eheralds = 0\n",
    "towers = 0;etowers = 0\n",
    "plates = 0;eplates= 0\n",
    "dmg = 0;edmg = 0\n",
    "wards = 0;ewards = 0\n",
    "\n",
    "response = requests.get(\"https://europe.api.riotgames.com/lol/match/v5/matches/\"+gameid+\"/timeline?api_key=\"+api_key+\"\").json()\n",
    "        \n",
    "#First 15min loop                                \n",
    "for j in range(1,16):\n",
    "\n",
    "    #Events loop\n",
    "    for k in range(0,len(response[\"info\"][\"frames\"][j][\"events\"])):\n",
    "\n",
    "        #KillsDiff\n",
    "        if response[\"info\"][\"frames\"][j][\"events\"][k][\"type\"] == \"CHAMPION_KILL\":\n",
    "            if response[\"info\"][\"frames\"][j][\"events\"][k][\"killerId\"] <= 5:\n",
    "                kills += 1\n",
    "            else:\n",
    "                ekills += 1 \n",
    "\n",
    "        #DrakesDiff & HeraldsDiff\n",
    "        if response[\"info\"][\"frames\"][j][\"events\"][k][\"type\"] == \"ELITE_MONSTER_KILL\":\n",
    "            if response[\"info\"][\"frames\"][j][\"events\"][k][\"monsterType\"] == \"DRAGON\": \n",
    "                if response[\"info\"][\"frames\"][j][\"events\"][k][\"killerId\"] <= 5:\n",
    "                    drakes += 1\n",
    "                else:\n",
    "                    edrakes += 1 \n",
    "\n",
    "            elif response[\"info\"][\"frames\"][j][\"events\"][k][\"monsterType\"] == \"RIFTHERALD\":\n",
    "                if response[\"info\"][\"frames\"][j][\"events\"][k][\"killerId\"] <= 5:\n",
    "                    heralds += 1\n",
    "                else:\n",
    "                    eheralds += 1\n",
    "\n",
    "        #TowersDiff\n",
    "        if response[\"info\"][\"frames\"][j][\"events\"][k][\"type\"] == \"BUILDING_KILL\":\n",
    "            if response[\"info\"][\"frames\"][j][\"events\"][k][\"buildingType\"] == \"TOWER_BUILDING\":\n",
    "                if response[\"info\"][\"frames\"][j][\"events\"][k][\"teamId\"] == 200:\n",
    "                    towers += 1\n",
    "                else:\n",
    "                    etowers += 1\n",
    "\n",
    "        #PlatesDiff\n",
    "        if response[\"info\"][\"frames\"][j][\"events\"][k][\"type\"] == \"TURRET_PLATE_DESTROYED\":\n",
    "            if response[\"info\"][\"frames\"][j][\"events\"][k][\"teamId\"] == 200:\n",
    "                plates += 1\n",
    "            else:\n",
    "                eplates += 1\n",
    "\n",
    "        #WardsDiff\n",
    "        if response[\"info\"][\"frames\"][j][\"events\"][k][\"type\"] == \"WARD_PLACED\":\n",
    "            if response[\"info\"][\"frames\"][j][\"events\"][k][\"creatorId\"] <= 5:\n",
    "                wards += 1\n",
    "            else:\n",
    "                ewards += 1\n",
    "\n",
    "\n",
    "    #Players Loop\n",
    "    for k in range(1,11):\n",
    "\n",
    "        #GoldDiff\n",
    "        if k <= 5:\n",
    "            gold += response[\"info\"][\"frames\"][j][\"participantFrames\"][str(k)][\"totalGold\"]\n",
    "        else:\n",
    "            egold += response[\"info\"][\"frames\"][j][\"participantFrames\"][str(k)][\"totalGold\"]\n",
    "\n",
    "        #XpDiff\n",
    "        if k <= 5:\n",
    "            xp += response[\"info\"][\"frames\"][j][\"participantFrames\"][str(k)][\"xp\"]\n",
    "        else:\n",
    "            exp += response[\"info\"][\"frames\"][j][\"participantFrames\"][str(k)][\"xp\"]  \n",
    "\n",
    "        #CsDiff\n",
    "        if k <= 5:\n",
    "            cs += response[\"info\"][\"frames\"][j][\"participantFrames\"][str(k)][\"minionsKilled\"] + response[\"info\"][\"frames\"][j][\"participantFrames\"][str(k)][\"jungleMinionsKilled\"]\n",
    "        else:\n",
    "            ecs += response[\"info\"][\"frames\"][j][\"participantFrames\"][str(k)][\"minionsKilled\"] + response[\"info\"][\"frames\"][j][\"participantFrames\"][str(k)][\"jungleMinionsKilled\"]\n",
    "\n",
    "        #DmgDiff\n",
    "        if k <= 5:\n",
    "            dmg += response[\"info\"][\"frames\"][j][\"participantFrames\"][str(k)][\"damageStats\"][\"totalDamageDoneToChampions\"]\n",
    "        else:\n",
    "            edmg += response[\"info\"][\"frames\"][j][\"participantFrames\"][str(k)][\"damageStats\"][\"totalDamageDoneToChampions\"]\n",
    "\n",
    "\n",
    "    #Final append to dict\n",
    "    data[\"kd\"+str(j)+\"\"] = [kills - ekills]\n",
    "    data[\"gd\"+str(j)+\"\"] = [gold - egold]\n",
    "    data[\"xpd\"+str(j)+\"\"] = [xp - exp]\n",
    "    data[\"csd\"+str(j)+\"\"] = [cs - ecs]\n",
    "    data[\"dd\"+str(j)+\"\"] =[drakes - edrakes]\n",
    "    data[\"hd\"+str(j)+\"\"] = [heralds - eheralds]\n",
    "    data[\"td\"+str(j)+\"\"] = [towers - etowers]\n",
    "    data[\"pd\"+str(j)+\"\"] = [plates - eplates]\n",
    "    data[\"tdd\"+str(j)+\"\"] = [dmg - edmg]\n",
    "    data[\"wd\"+str(j)+\"\"] = [wards - ewards]\n",
    "    \n",
    "    kills = 0;ekills = 0\n",
    "    gold = 0;egold = 0\n",
    "    xp = 0;exp = 0\n",
    "    cs = 0;ecs = 0\n",
    "    drakes = 0;edrakes = 0\n",
    "    heralds = 0;eheralds = 0\n",
    "    towers = 0;etowers = 0\n",
    "    plates = 0;eplates= 0\n",
    "    dmg = 0;edmg = 0\n",
    "    wards = 0;ewards = 0\n",
    "    \n",
    "for k in range(0,len(response[\"info\"][\"frames\"][len(response[\"info\"][\"frames\"])-1][\"events\"])):\n",
    "        if response[\"info\"][\"frames\"][len(response[\"info\"][\"frames\"])-1][\"events\"][k][\"type\"] == \"GAME_END\":\n",
    "            if response[\"info\"][\"frames\"][len(response[\"info\"][\"frames\"])-1][\"events\"][k][\"winningTeam\"] == 100:\n",
    "                data[\"BlueWin\"] = True\n",
    "            else:\n",
    "                data[\"BlueWin\"] = False \n",
    "    \n",
    "data[\"gameId\"] = [gameid]\n",
    "\n",
    "df_temp = pd.DataFrame(data)\n",
    "df_temp.set_index('gameId') "
   ]
  },
  {
   "cell_type": "code",
   "execution_count": 39,
   "id": "7069b63f",
   "metadata": {
    "scrolled": true
   },
   "outputs": [
    {
     "data": {
      "text/plain": [
       "991"
      ]
     },
     "execution_count": 39,
     "metadata": {},
     "output_type": "execute_result"
    }
   ],
   "source": [
    "len(X_test)"
   ]
  },
  {
   "cell_type": "code",
   "execution_count": 40,
   "id": "b03a0ab5",
   "metadata": {},
   "outputs": [
    {
     "name": "stderr",
     "output_type": "stream",
     "text": [
      "/tmp/ipykernel_139127/1900750873.py:1: FutureWarning: The frame.append method is deprecated and will be removed from pandas in a future version. Use pandas.concat instead.\n",
      "  X_test = X_test.append(df_temp)\n"
     ]
    }
   ],
   "source": [
    "X_test = X_test.append(df_temp)"
   ]
  },
  {
   "cell_type": "code",
   "execution_count": 41,
   "id": "4c3d96e6",
   "metadata": {},
   "outputs": [],
   "source": [
    "i = 5\n",
    "Xnew = df_temp[[\"kd\"+str(i)+\"\",\"gd\"+str(i)+\"\",\"xpd\"+str(i)+\"\",\"csd\"+str(i)+\"\",\"dd\"+str(i)+\"\",\"hd\"+str(i)+\"\",\"td\"+str(i)+\"\",\"pd\"+str(i)+\"\",\"tdd\"+str(i)+\"\",\"wd\"+str(i)+\"\"]]\n",
    "# make a prediction\n",
    "ynew = lr.predict(Xnew)\n",
    "#print(\"X=%s, Predicted=%s\" % (Xnew[0], ynew[0]))"
   ]
  },
  {
   "cell_type": "code",
   "execution_count": 42,
   "id": "022ed898",
   "metadata": {
    "scrolled": true
   },
   "outputs": [
    {
     "data": {
      "text/plain": [
       "array([[0.44109674, 0.55890326]])"
      ]
     },
     "execution_count": 42,
     "metadata": {},
     "output_type": "execute_result"
    }
   ],
   "source": [
    "lr.predict_proba(Xnew)"
   ]
  },
  {
   "cell_type": "markdown",
   "id": "e7e2653a",
   "metadata": {},
   "source": [
    "Probabilidades"
   ]
  },
  {
   "cell_type": "code",
   "execution_count": 44,
   "id": "d8981605",
   "metadata": {},
   "outputs": [
    {
     "ename": "ValueError",
     "evalue": "could not convert string to float: 'EUW1_5875262791'",
     "output_type": "error",
     "traceback": [
      "\u001b[0;31m---------------------------------------------------------------------------\u001b[0m",
      "\u001b[0;31mValueError\u001b[0m                                Traceback (most recent call last)",
      "\u001b[0;32m/tmp/ipykernel_139127/4154937695.py\u001b[0m in \u001b[0;36m<module>\u001b[0;34m\u001b[0m\n\u001b[0;32m----> 1\u001b[0;31m \u001b[0mlr\u001b[0m\u001b[0;34m.\u001b[0m\u001b[0mpredict_proba\u001b[0m\u001b[0;34m(\u001b[0m\u001b[0mX_test\u001b[0m\u001b[0;34m)\u001b[0m\u001b[0;34m\u001b[0m\u001b[0;34m\u001b[0m\u001b[0m\n\u001b[0m",
      "\u001b[0;32m~/anaconda3/lib/python3.8/site-packages/sklearn/linear_model/_logistic.py\u001b[0m in \u001b[0;36mpredict_proba\u001b[0;34m(self, X)\u001b[0m\n\u001b[1;32m   1467\u001b[0m                                                 self.solver == 'liblinear')))\n\u001b[1;32m   1468\u001b[0m         \u001b[0;32mif\u001b[0m \u001b[0movr\u001b[0m\u001b[0;34m:\u001b[0m\u001b[0;34m\u001b[0m\u001b[0;34m\u001b[0m\u001b[0m\n\u001b[0;32m-> 1469\u001b[0;31m             \u001b[0;32mreturn\u001b[0m \u001b[0msuper\u001b[0m\u001b[0;34m(\u001b[0m\u001b[0;34m)\u001b[0m\u001b[0;34m.\u001b[0m\u001b[0m_predict_proba_lr\u001b[0m\u001b[0;34m(\u001b[0m\u001b[0mX\u001b[0m\u001b[0;34m)\u001b[0m\u001b[0;34m\u001b[0m\u001b[0;34m\u001b[0m\u001b[0m\n\u001b[0m\u001b[1;32m   1470\u001b[0m         \u001b[0;32melse\u001b[0m\u001b[0;34m:\u001b[0m\u001b[0;34m\u001b[0m\u001b[0;34m\u001b[0m\u001b[0m\n\u001b[1;32m   1471\u001b[0m             \u001b[0mdecision\u001b[0m \u001b[0;34m=\u001b[0m \u001b[0mself\u001b[0m\u001b[0;34m.\u001b[0m\u001b[0mdecision_function\u001b[0m\u001b[0;34m(\u001b[0m\u001b[0mX\u001b[0m\u001b[0;34m)\u001b[0m\u001b[0;34m\u001b[0m\u001b[0;34m\u001b[0m\u001b[0m\n",
      "\u001b[0;32m~/anaconda3/lib/python3.8/site-packages/sklearn/linear_model/_base.py\u001b[0m in \u001b[0;36m_predict_proba_lr\u001b[0;34m(self, X)\u001b[0m\n\u001b[1;32m    321\u001b[0m         \u001b[0mmulticlass\u001b[0m \u001b[0;32mis\u001b[0m \u001b[0mhandled\u001b[0m \u001b[0mby\u001b[0m \u001b[0mnormalizing\u001b[0m \u001b[0mthat\u001b[0m \u001b[0mover\u001b[0m \u001b[0mall\u001b[0m \u001b[0mclasses\u001b[0m\u001b[0;34m.\u001b[0m\u001b[0;34m\u001b[0m\u001b[0;34m\u001b[0m\u001b[0m\n\u001b[1;32m    322\u001b[0m         \"\"\"\n\u001b[0;32m--> 323\u001b[0;31m         \u001b[0mprob\u001b[0m \u001b[0;34m=\u001b[0m \u001b[0mself\u001b[0m\u001b[0;34m.\u001b[0m\u001b[0mdecision_function\u001b[0m\u001b[0;34m(\u001b[0m\u001b[0mX\u001b[0m\u001b[0;34m)\u001b[0m\u001b[0;34m\u001b[0m\u001b[0;34m\u001b[0m\u001b[0m\n\u001b[0m\u001b[1;32m    324\u001b[0m         \u001b[0mexpit\u001b[0m\u001b[0;34m(\u001b[0m\u001b[0mprob\u001b[0m\u001b[0;34m,\u001b[0m \u001b[0mout\u001b[0m\u001b[0;34m=\u001b[0m\u001b[0mprob\u001b[0m\u001b[0;34m)\u001b[0m\u001b[0;34m\u001b[0m\u001b[0;34m\u001b[0m\u001b[0m\n\u001b[1;32m    325\u001b[0m         \u001b[0;32mif\u001b[0m \u001b[0mprob\u001b[0m\u001b[0;34m.\u001b[0m\u001b[0mndim\u001b[0m \u001b[0;34m==\u001b[0m \u001b[0;36m1\u001b[0m\u001b[0;34m:\u001b[0m\u001b[0;34m\u001b[0m\u001b[0;34m\u001b[0m\u001b[0m\n",
      "\u001b[0;32m~/anaconda3/lib/python3.8/site-packages/sklearn/linear_model/_base.py\u001b[0m in \u001b[0;36mdecision_function\u001b[0;34m(self, X)\u001b[0m\n\u001b[1;32m    282\u001b[0m         \u001b[0mcheck_is_fitted\u001b[0m\u001b[0;34m(\u001b[0m\u001b[0mself\u001b[0m\u001b[0;34m)\u001b[0m\u001b[0;34m\u001b[0m\u001b[0;34m\u001b[0m\u001b[0m\n\u001b[1;32m    283\u001b[0m \u001b[0;34m\u001b[0m\u001b[0m\n\u001b[0;32m--> 284\u001b[0;31m         \u001b[0mX\u001b[0m \u001b[0;34m=\u001b[0m \u001b[0mcheck_array\u001b[0m\u001b[0;34m(\u001b[0m\u001b[0mX\u001b[0m\u001b[0;34m,\u001b[0m \u001b[0maccept_sparse\u001b[0m\u001b[0;34m=\u001b[0m\u001b[0;34m'csr'\u001b[0m\u001b[0;34m)\u001b[0m\u001b[0;34m\u001b[0m\u001b[0;34m\u001b[0m\u001b[0m\n\u001b[0m\u001b[1;32m    285\u001b[0m \u001b[0;34m\u001b[0m\u001b[0m\n\u001b[1;32m    286\u001b[0m         \u001b[0mn_features\u001b[0m \u001b[0;34m=\u001b[0m \u001b[0mself\u001b[0m\u001b[0;34m.\u001b[0m\u001b[0mcoef_\u001b[0m\u001b[0;34m.\u001b[0m\u001b[0mshape\u001b[0m\u001b[0;34m[\u001b[0m\u001b[0;36m1\u001b[0m\u001b[0;34m]\u001b[0m\u001b[0;34m\u001b[0m\u001b[0;34m\u001b[0m\u001b[0m\n",
      "\u001b[0;32m~/anaconda3/lib/python3.8/site-packages/sklearn/utils/validation.py\u001b[0m in \u001b[0;36minner_f\u001b[0;34m(*args, **kwargs)\u001b[0m\n\u001b[1;32m     61\u001b[0m             \u001b[0mextra_args\u001b[0m \u001b[0;34m=\u001b[0m \u001b[0mlen\u001b[0m\u001b[0;34m(\u001b[0m\u001b[0margs\u001b[0m\u001b[0;34m)\u001b[0m \u001b[0;34m-\u001b[0m \u001b[0mlen\u001b[0m\u001b[0;34m(\u001b[0m\u001b[0mall_args\u001b[0m\u001b[0;34m)\u001b[0m\u001b[0;34m\u001b[0m\u001b[0;34m\u001b[0m\u001b[0m\n\u001b[1;32m     62\u001b[0m             \u001b[0;32mif\u001b[0m \u001b[0mextra_args\u001b[0m \u001b[0;34m<=\u001b[0m \u001b[0;36m0\u001b[0m\u001b[0;34m:\u001b[0m\u001b[0;34m\u001b[0m\u001b[0;34m\u001b[0m\u001b[0m\n\u001b[0;32m---> 63\u001b[0;31m                 \u001b[0;32mreturn\u001b[0m \u001b[0mf\u001b[0m\u001b[0;34m(\u001b[0m\u001b[0;34m*\u001b[0m\u001b[0margs\u001b[0m\u001b[0;34m,\u001b[0m \u001b[0;34m**\u001b[0m\u001b[0mkwargs\u001b[0m\u001b[0;34m)\u001b[0m\u001b[0;34m\u001b[0m\u001b[0;34m\u001b[0m\u001b[0m\n\u001b[0m\u001b[1;32m     64\u001b[0m \u001b[0;34m\u001b[0m\u001b[0m\n\u001b[1;32m     65\u001b[0m             \u001b[0;31m# extra_args > 0\u001b[0m\u001b[0;34m\u001b[0m\u001b[0;34m\u001b[0m\u001b[0;34m\u001b[0m\u001b[0m\n",
      "\u001b[0;32m~/anaconda3/lib/python3.8/site-packages/sklearn/utils/validation.py\u001b[0m in \u001b[0;36mcheck_array\u001b[0;34m(array, accept_sparse, accept_large_sparse, dtype, order, copy, force_all_finite, ensure_2d, allow_nd, ensure_min_samples, ensure_min_features, estimator)\u001b[0m\n\u001b[1;32m    671\u001b[0m                     \u001b[0marray\u001b[0m \u001b[0;34m=\u001b[0m \u001b[0marray\u001b[0m\u001b[0;34m.\u001b[0m\u001b[0mastype\u001b[0m\u001b[0;34m(\u001b[0m\u001b[0mdtype\u001b[0m\u001b[0;34m,\u001b[0m \u001b[0mcasting\u001b[0m\u001b[0;34m=\u001b[0m\u001b[0;34m\"unsafe\"\u001b[0m\u001b[0;34m,\u001b[0m \u001b[0mcopy\u001b[0m\u001b[0;34m=\u001b[0m\u001b[0;32mFalse\u001b[0m\u001b[0;34m)\u001b[0m\u001b[0;34m\u001b[0m\u001b[0;34m\u001b[0m\u001b[0m\n\u001b[1;32m    672\u001b[0m                 \u001b[0;32melse\u001b[0m\u001b[0;34m:\u001b[0m\u001b[0;34m\u001b[0m\u001b[0;34m\u001b[0m\u001b[0m\n\u001b[0;32m--> 673\u001b[0;31m                     \u001b[0marray\u001b[0m \u001b[0;34m=\u001b[0m \u001b[0mnp\u001b[0m\u001b[0;34m.\u001b[0m\u001b[0masarray\u001b[0m\u001b[0;34m(\u001b[0m\u001b[0marray\u001b[0m\u001b[0;34m,\u001b[0m \u001b[0morder\u001b[0m\u001b[0;34m=\u001b[0m\u001b[0morder\u001b[0m\u001b[0;34m,\u001b[0m \u001b[0mdtype\u001b[0m\u001b[0;34m=\u001b[0m\u001b[0mdtype\u001b[0m\u001b[0;34m)\u001b[0m\u001b[0;34m\u001b[0m\u001b[0;34m\u001b[0m\u001b[0m\n\u001b[0m\u001b[1;32m    674\u001b[0m             \u001b[0;32mexcept\u001b[0m \u001b[0mComplexWarning\u001b[0m \u001b[0;32mas\u001b[0m \u001b[0mcomplex_warning\u001b[0m\u001b[0;34m:\u001b[0m\u001b[0;34m\u001b[0m\u001b[0;34m\u001b[0m\u001b[0m\n\u001b[1;32m    675\u001b[0m                 raise ValueError(\"Complex data not supported\\n\"\n",
      "\u001b[0;32m~/anaconda3/lib/python3.8/site-packages/numpy/core/_asarray.py\u001b[0m in \u001b[0;36masarray\u001b[0;34m(a, dtype, order, like)\u001b[0m\n\u001b[1;32m    100\u001b[0m         \u001b[0;32mreturn\u001b[0m \u001b[0m_asarray_with_like\u001b[0m\u001b[0;34m(\u001b[0m\u001b[0ma\u001b[0m\u001b[0;34m,\u001b[0m \u001b[0mdtype\u001b[0m\u001b[0;34m=\u001b[0m\u001b[0mdtype\u001b[0m\u001b[0;34m,\u001b[0m \u001b[0morder\u001b[0m\u001b[0;34m=\u001b[0m\u001b[0morder\u001b[0m\u001b[0;34m,\u001b[0m \u001b[0mlike\u001b[0m\u001b[0;34m=\u001b[0m\u001b[0mlike\u001b[0m\u001b[0;34m)\u001b[0m\u001b[0;34m\u001b[0m\u001b[0;34m\u001b[0m\u001b[0m\n\u001b[1;32m    101\u001b[0m \u001b[0;34m\u001b[0m\u001b[0m\n\u001b[0;32m--> 102\u001b[0;31m     \u001b[0;32mreturn\u001b[0m \u001b[0marray\u001b[0m\u001b[0;34m(\u001b[0m\u001b[0ma\u001b[0m\u001b[0;34m,\u001b[0m \u001b[0mdtype\u001b[0m\u001b[0;34m,\u001b[0m \u001b[0mcopy\u001b[0m\u001b[0;34m=\u001b[0m\u001b[0;32mFalse\u001b[0m\u001b[0;34m,\u001b[0m \u001b[0morder\u001b[0m\u001b[0;34m=\u001b[0m\u001b[0morder\u001b[0m\u001b[0;34m)\u001b[0m\u001b[0;34m\u001b[0m\u001b[0;34m\u001b[0m\u001b[0m\n\u001b[0m\u001b[1;32m    103\u001b[0m \u001b[0;34m\u001b[0m\u001b[0m\n\u001b[1;32m    104\u001b[0m \u001b[0;34m\u001b[0m\u001b[0m\n",
      "\u001b[0;32m~/anaconda3/lib/python3.8/site-packages/pandas/core/generic.py\u001b[0m in \u001b[0;36m__array__\u001b[0;34m(self, dtype)\u001b[0m\n\u001b[1;32m   2062\u001b[0m \u001b[0;34m\u001b[0m\u001b[0m\n\u001b[1;32m   2063\u001b[0m     \u001b[0;32mdef\u001b[0m \u001b[0m__array__\u001b[0m\u001b[0;34m(\u001b[0m\u001b[0mself\u001b[0m\u001b[0;34m,\u001b[0m \u001b[0mdtype\u001b[0m\u001b[0;34m:\u001b[0m \u001b[0mnpt\u001b[0m\u001b[0;34m.\u001b[0m\u001b[0mDTypeLike\u001b[0m \u001b[0;34m|\u001b[0m \u001b[0;32mNone\u001b[0m \u001b[0;34m=\u001b[0m \u001b[0;32mNone\u001b[0m\u001b[0;34m)\u001b[0m \u001b[0;34m->\u001b[0m \u001b[0mnp\u001b[0m\u001b[0;34m.\u001b[0m\u001b[0mndarray\u001b[0m\u001b[0;34m:\u001b[0m\u001b[0;34m\u001b[0m\u001b[0;34m\u001b[0m\u001b[0m\n\u001b[0;32m-> 2064\u001b[0;31m         \u001b[0;32mreturn\u001b[0m \u001b[0mnp\u001b[0m\u001b[0;34m.\u001b[0m\u001b[0masarray\u001b[0m\u001b[0;34m(\u001b[0m\u001b[0mself\u001b[0m\u001b[0;34m.\u001b[0m\u001b[0m_values\u001b[0m\u001b[0;34m,\u001b[0m \u001b[0mdtype\u001b[0m\u001b[0;34m=\u001b[0m\u001b[0mdtype\u001b[0m\u001b[0;34m)\u001b[0m\u001b[0;34m\u001b[0m\u001b[0;34m\u001b[0m\u001b[0m\n\u001b[0m\u001b[1;32m   2065\u001b[0m \u001b[0;34m\u001b[0m\u001b[0m\n\u001b[1;32m   2066\u001b[0m     def __array_wrap__(\n",
      "\u001b[0;32m~/anaconda3/lib/python3.8/site-packages/numpy/core/_asarray.py\u001b[0m in \u001b[0;36masarray\u001b[0;34m(a, dtype, order, like)\u001b[0m\n\u001b[1;32m    100\u001b[0m         \u001b[0;32mreturn\u001b[0m \u001b[0m_asarray_with_like\u001b[0m\u001b[0;34m(\u001b[0m\u001b[0ma\u001b[0m\u001b[0;34m,\u001b[0m \u001b[0mdtype\u001b[0m\u001b[0;34m=\u001b[0m\u001b[0mdtype\u001b[0m\u001b[0;34m,\u001b[0m \u001b[0morder\u001b[0m\u001b[0;34m=\u001b[0m\u001b[0morder\u001b[0m\u001b[0;34m,\u001b[0m \u001b[0mlike\u001b[0m\u001b[0;34m=\u001b[0m\u001b[0mlike\u001b[0m\u001b[0;34m)\u001b[0m\u001b[0;34m\u001b[0m\u001b[0;34m\u001b[0m\u001b[0m\n\u001b[1;32m    101\u001b[0m \u001b[0;34m\u001b[0m\u001b[0m\n\u001b[0;32m--> 102\u001b[0;31m     \u001b[0;32mreturn\u001b[0m \u001b[0marray\u001b[0m\u001b[0;34m(\u001b[0m\u001b[0ma\u001b[0m\u001b[0;34m,\u001b[0m \u001b[0mdtype\u001b[0m\u001b[0;34m,\u001b[0m \u001b[0mcopy\u001b[0m\u001b[0;34m=\u001b[0m\u001b[0;32mFalse\u001b[0m\u001b[0;34m,\u001b[0m \u001b[0morder\u001b[0m\u001b[0;34m=\u001b[0m\u001b[0morder\u001b[0m\u001b[0;34m)\u001b[0m\u001b[0;34m\u001b[0m\u001b[0;34m\u001b[0m\u001b[0m\n\u001b[0m\u001b[1;32m    103\u001b[0m \u001b[0;34m\u001b[0m\u001b[0m\n\u001b[1;32m    104\u001b[0m \u001b[0;34m\u001b[0m\u001b[0m\n",
      "\u001b[0;31mValueError\u001b[0m: could not convert string to float: 'EUW1_5875262791'"
     ]
    }
   ],
   "source": [
    "lr.predict_proba(X_test)"
   ]
  },
  {
   "cell_type": "markdown",
   "id": "f2c75d3b",
   "metadata": {},
   "source": [
    "Accuracy Score"
   ]
  },
  {
   "cell_type": "code",
   "execution_count": null,
   "id": "ee747b78",
   "metadata": {},
   "outputs": [],
   "source": [
    "accuracy_score(y_test, y_hat)"
   ]
  },
  {
   "cell_type": "markdown",
   "id": "9134fd4e",
   "metadata": {},
   "source": [
    "Ratio de predicciones acertadas"
   ]
  },
  {
   "cell_type": "code",
   "execution_count": null,
   "id": "14f431c4",
   "metadata": {},
   "outputs": [],
   "source": [
    "np.mean(y_hat == y_test)"
   ]
  },
  {
   "cell_type": "markdown",
   "id": "a7f98d5c",
   "metadata": {},
   "source": [
    "Area under the curve - AUC-ROC curve"
   ]
  },
  {
   "cell_type": "code",
   "execution_count": null,
   "id": "d3aaccbf",
   "metadata": {},
   "outputs": [],
   "source": [
    "print(roc_auc_score(y_test,y_hat))"
   ]
  },
  {
   "cell_type": "markdown",
   "id": "4d7066d8",
   "metadata": {},
   "source": [
    "Matriz de confusión"
   ]
  },
  {
   "cell_type": "code",
   "execution_count": null,
   "id": "840c728a",
   "metadata": {},
   "outputs": [],
   "source": [
    "cf = confusion_matrix(y_hat,y_test)\n",
    "print(cf)"
   ]
  },
  {
   "cell_type": "markdown",
   "id": "6aa67576",
   "metadata": {},
   "source": [
    "F1_Score"
   ]
  },
  {
   "cell_type": "code",
   "execution_count": null,
   "id": "f77947f3",
   "metadata": {},
   "outputs": [],
   "source": [
    "f1_score(y_test, y_hat)"
   ]
  },
  {
   "cell_type": "markdown",
   "id": "62c38690",
   "metadata": {},
   "source": [
    "Accuracy Score"
   ]
  },
  {
   "cell_type": "code",
   "execution_count": null,
   "id": "532b183d",
   "metadata": {},
   "outputs": [],
   "source": [
    "accuracy_score(y_test, y_hat)"
   ]
  },
  {
   "cell_type": "markdown",
   "id": "7fb43d61",
   "metadata": {},
   "source": [
    "Classification Report"
   ]
  },
  {
   "cell_type": "code",
   "execution_count": null,
   "id": "45863aab",
   "metadata": {
    "scrolled": true
   },
   "outputs": [],
   "source": [
    "report = classification_report(y_test, y_hat)\n",
    "print(report)"
   ]
  },
  {
   "cell_type": "markdown",
   "id": "dddfff93",
   "metadata": {},
   "source": [
    "Visualización"
   ]
  },
  {
   "cell_type": "code",
   "execution_count": null,
   "id": "8fa18721",
   "metadata": {},
   "outputs": [],
   "source": [
    "sns.heatmap(cf/np.sum(cf), annot=True, fmt='.2%', cmap='Blues')"
   ]
  },
  {
   "cell_type": "markdown",
   "id": "a9793b38",
   "metadata": {},
   "source": [
    "-----------------------------------------------------------------------------------------------"
   ]
  },
  {
   "cell_type": "raw",
   "id": "42ecbedc",
   "metadata": {},
   "source": [
    "PRUEBAS"
   ]
  },
  {
   "cell_type": "raw",
   "id": "cc6d4ed9",
   "metadata": {},
   "source": [
    "len(df2)\n",
    "type(df2[df2[\"gameId\"] == dffinal.iloc[1].name][\"xpDiff\"].item()[0])\n",
    "#df2.pivot(columns='names', values='score', index='id')\n",
    "df[\"goldDiff\"][0][1]\n",
    "X_train.iloc[0][\"killsDiff\"]\n",
    "type(df[\"killsDiff\"][0])\n",
    "type(df[\"killsDiff\"])\n",
    "df[\"killsDiff\"][0]\n",
    "X_train[\"killsDiff\"][0]\n",
    "X_train.shape\n",
    "y_train[\"BlueWin\"].shape\n",
    "try1 = np.array([[1, 1], [1, 2], [2, 2], [2, 3]])\n",
    "# y = 1 * x_0 + 2 * x_1 + 3\n",
    "try2 = np.dot(try1, np.array([1, 2])) + 3\n",
    "try1.shape\n",
    "try2.shape\n",
    "X_train.shape\n",
    "X_train.values\n",
    "y_train[\"BlueWin\"].values\n",
    "y_train.shape\n",
    "type(X_train[\"killsDiff\"])\n",
    "type(y_train)\n",
    "type(X_train[\"killsDiff\"])\n",
    "X_train.shape\n",
    "X_train[\"gameId\"].shape\n",
    "type(X_train[\"gameId\"])\n",
    "X_train[\"n_prueba\"].shape\n",
    "X_train[\"n_prueba\"]\n",
    "prueba1 = list(np.float_(X_train))\n",
    "X_train[[\"goldDiff\"]]\n",
    "type(df.iloc[0][\"goldDiff\"])\n",
    "list(y_train[\"BlueWin\"])"
   ]
  }
 ],
 "metadata": {
  "kernelspec": {
   "display_name": "Python 3 (ipykernel)",
   "language": "python",
   "name": "python3"
  },
  "language_info": {
   "codemirror_mode": {
    "name": "ipython",
    "version": 3
   },
   "file_extension": ".py",
   "mimetype": "text/x-python",
   "name": "python",
   "nbconvert_exporter": "python",
   "pygments_lexer": "ipython3",
   "version": "3.8.2"
  }
 },
 "nbformat": 4,
 "nbformat_minor": 5
}
