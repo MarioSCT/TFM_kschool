{
 "cells": [
  {
   "cell_type": "markdown",
   "id": "062ac9bf",
   "metadata": {},
   "source": [
    "# Predict the rift"
   ]
  },
  {
   "cell_type": "markdown",
   "id": "580e0c47",
   "metadata": {},
   "source": [
    "Imports necesarios"
   ]
  },
  {
   "cell_type": "code",
   "execution_count": 1,
   "id": "065176b4",
   "metadata": {},
   "outputs": [],
   "source": [
    "import time\n",
    "from IPython.display import clear_output\n",
    "import plotly.graph_objects as go\n",
    "import pandas as pd\n",
    "import requests\n",
    "import sklearn\n",
    "import numpy as np\n",
    "import matplotlib.pyplot as plt\n",
    "import lightgbm as lgb\n",
    "from sklearn.datasets import make_classification\n",
    "from sklearn.linear_model import LogisticRegression\n",
    "from sklearn.model_selection import train_test_split\n",
    "from sklearn.metrics import classification_report, accuracy_score, roc_auc_score, confusion_matrix, f1_score, precision_score, recall_score\n",
    "from sklearn.tree import DecisionTreeClassifier\n",
    "from sklearn.ensemble import RandomForestClassifier\n",
    "from sklearn.neural_network import MLPClassifier\n",
    "from sklearn.model_selection import cross_validate,cross_val_predict, cross_val_score\n",
    "from sklearn import svm\n",
    "import seaborn as sns\n",
    "from matplotlib import pyplot"
   ]
  },
  {
   "cell_type": "markdown",
   "id": "b71e436e",
   "metadata": {},
   "source": [
    " "
   ]
  },
  {
   "cell_type": "markdown",
   "id": "bbc7c042",
   "metadata": {},
   "source": [
    "Api key que se utilizara para hacer las requests necesarias"
   ]
  },
  {
   "cell_type": "code",
   "execution_count": 51,
   "id": "62da2540",
   "metadata": {},
   "outputs": [],
   "source": [
    "gameid = \"EUW1_5921666749\"\n",
    "api_key = \"RGAPI-a8585106-4f99-4026-aa58-278a3c468d06\""
   ]
  },
  {
   "cell_type": "markdown",
   "id": "036c46fb",
   "metadata": {},
   "source": [
    " "
   ]
  },
  {
   "cell_type": "markdown",
   "id": "8b7fa6de",
   "metadata": {},
   "source": [
    "Carga de datos y exploración inicial"
   ]
  },
  {
   "cell_type": "code",
   "execution_count": 3,
   "id": "b24b4039",
   "metadata": {},
   "outputs": [],
   "source": [
    "df = pd.read_pickle(\"finalinfo.pkl\")\n",
    "df_winners = df[df[\"BlueWin\"] == True]\n",
    "df_losers = df[df[\"BlueWin\"] == False]"
   ]
  },
  {
   "cell_type": "markdown",
   "id": "60bd5499",
   "metadata": {},
   "source": [
    "Leyenda datos:\n",
    "\n",
    "* kd + n = Diferencia de kills entre los 2 equipos\n",
    "* gd + n = Diferencia de oro entre los 2 equipos\n",
    "* xpd + n = Diferencia de experiencia total entre los 2 equipos\n",
    "* csd + n = Diferencia de minions total entre los 2 equipos\n",
    "* dd + n = Diferencia de dragones entre los 2 equipos\n",
    "* hd + n = Diferencia de heraldos entre los 2 equipos\n",
    "* td + n = Diferencia de torres destruidas entre los 2 equipos\n",
    "* pd + n = Diferencia de placas destruidas entre los 2 equipos\n",
    "* tdd + n = Diferencia de daño total entre los 2 equipos\n",
    "* wd + n = Diferencia de wards puestos entre los 2 equipos\n",
    "* BlueWin = Boolean sobre la victoria del equipo azul"
   ]
  },
  {
   "cell_type": "code",
   "execution_count": 4,
   "id": "d8b473fa",
   "metadata": {
    "scrolled": true
   },
   "outputs": [
    {
     "data": {
      "text/html": [
       "<div>\n",
       "<style scoped>\n",
       "    .dataframe tbody tr th:only-of-type {\n",
       "        vertical-align: middle;\n",
       "    }\n",
       "\n",
       "    .dataframe tbody tr th {\n",
       "        vertical-align: top;\n",
       "    }\n",
       "\n",
       "    .dataframe thead th {\n",
       "        text-align: right;\n",
       "    }\n",
       "</style>\n",
       "<table border=\"1\" class=\"dataframe\">\n",
       "  <thead>\n",
       "    <tr style=\"text-align: right;\">\n",
       "      <th>temp_names</th>\n",
       "      <th>gd1</th>\n",
       "      <th>gd10</th>\n",
       "      <th>gd11</th>\n",
       "      <th>gd12</th>\n",
       "      <th>gd13</th>\n",
       "      <th>gd14</th>\n",
       "      <th>gd15</th>\n",
       "      <th>gd2</th>\n",
       "      <th>gd3</th>\n",
       "      <th>gd4</th>\n",
       "      <th>...</th>\n",
       "      <th>wd7</th>\n",
       "      <th>wd8</th>\n",
       "      <th>wd9</th>\n",
       "      <th>wd10</th>\n",
       "      <th>wd11</th>\n",
       "      <th>wd12</th>\n",
       "      <th>wd13</th>\n",
       "      <th>wd14</th>\n",
       "      <th>wd15</th>\n",
       "      <th>BlueWin</th>\n",
       "    </tr>\n",
       "    <tr>\n",
       "      <th>gameId</th>\n",
       "      <th></th>\n",
       "      <th></th>\n",
       "      <th></th>\n",
       "      <th></th>\n",
       "      <th></th>\n",
       "      <th></th>\n",
       "      <th></th>\n",
       "      <th></th>\n",
       "      <th></th>\n",
       "      <th></th>\n",
       "      <th></th>\n",
       "      <th></th>\n",
       "      <th></th>\n",
       "      <th></th>\n",
       "      <th></th>\n",
       "      <th></th>\n",
       "      <th></th>\n",
       "      <th></th>\n",
       "      <th></th>\n",
       "      <th></th>\n",
       "      <th></th>\n",
       "    </tr>\n",
       "  </thead>\n",
       "  <tbody>\n",
       "    <tr>\n",
       "      <th>EUW1_5763325310</th>\n",
       "      <td>516</td>\n",
       "      <td>16400</td>\n",
       "      <td>23181</td>\n",
       "      <td>30858</td>\n",
       "      <td>39067</td>\n",
       "      <td>49680</td>\n",
       "      <td>61268</td>\n",
       "      <td>1109</td>\n",
       "      <td>1774</td>\n",
       "      <td>3458</td>\n",
       "      <td>...</td>\n",
       "      <td>5</td>\n",
       "      <td>11</td>\n",
       "      <td>12</td>\n",
       "      <td>16</td>\n",
       "      <td>15</td>\n",
       "      <td>24</td>\n",
       "      <td>28</td>\n",
       "      <td>30</td>\n",
       "      <td>36</td>\n",
       "      <td>True</td>\n",
       "    </tr>\n",
       "    <tr>\n",
       "      <th>EUW1_5763410685</th>\n",
       "      <td>500</td>\n",
       "      <td>5005</td>\n",
       "      <td>5207</td>\n",
       "      <td>5813</td>\n",
       "      <td>6097</td>\n",
       "      <td>6703</td>\n",
       "      <td>7860</td>\n",
       "      <td>974</td>\n",
       "      <td>1228</td>\n",
       "      <td>1073</td>\n",
       "      <td>...</td>\n",
       "      <td>65</td>\n",
       "      <td>66</td>\n",
       "      <td>70</td>\n",
       "      <td>73</td>\n",
       "      <td>86</td>\n",
       "      <td>91</td>\n",
       "      <td>119</td>\n",
       "      <td>136</td>\n",
       "      <td>145</td>\n",
       "      <td>True</td>\n",
       "    </tr>\n",
       "    <tr>\n",
       "      <th>EUW1_5763819470</th>\n",
       "      <td>559</td>\n",
       "      <td>-2886</td>\n",
       "      <td>-4284</td>\n",
       "      <td>-6152</td>\n",
       "      <td>-6830</td>\n",
       "      <td>-8325</td>\n",
       "      <td>-8928</td>\n",
       "      <td>1097</td>\n",
       "      <td>1600</td>\n",
       "      <td>1046</td>\n",
       "      <td>...</td>\n",
       "      <td>19</td>\n",
       "      <td>24</td>\n",
       "      <td>28</td>\n",
       "      <td>30</td>\n",
       "      <td>37</td>\n",
       "      <td>41</td>\n",
       "      <td>48</td>\n",
       "      <td>50</td>\n",
       "      <td>54</td>\n",
       "      <td>True</td>\n",
       "    </tr>\n",
       "    <tr>\n",
       "      <th>EUW1_5764707648</th>\n",
       "      <td>0</td>\n",
       "      <td>-5689</td>\n",
       "      <td>-6628</td>\n",
       "      <td>-9264</td>\n",
       "      <td>-12651</td>\n",
       "      <td>-17040</td>\n",
       "      <td>-21966</td>\n",
       "      <td>162</td>\n",
       "      <td>-368</td>\n",
       "      <td>-1060</td>\n",
       "      <td>...</td>\n",
       "      <td>-7</td>\n",
       "      <td>-7</td>\n",
       "      <td>-7</td>\n",
       "      <td>-7</td>\n",
       "      <td>-9</td>\n",
       "      <td>-10</td>\n",
       "      <td>-9</td>\n",
       "      <td>-13</td>\n",
       "      <td>-13</td>\n",
       "      <td>False</td>\n",
       "    </tr>\n",
       "    <tr>\n",
       "      <th>EUW1_5765338010</th>\n",
       "      <td>0</td>\n",
       "      <td>8681</td>\n",
       "      <td>10020</td>\n",
       "      <td>11340</td>\n",
       "      <td>12929</td>\n",
       "      <td>14682</td>\n",
       "      <td>16479</td>\n",
       "      <td>-57</td>\n",
       "      <td>416</td>\n",
       "      <td>1796</td>\n",
       "      <td>...</td>\n",
       "      <td>3</td>\n",
       "      <td>7</td>\n",
       "      <td>4</td>\n",
       "      <td>4</td>\n",
       "      <td>1</td>\n",
       "      <td>2</td>\n",
       "      <td>1</td>\n",
       "      <td>0</td>\n",
       "      <td>1</td>\n",
       "      <td>True</td>\n",
       "    </tr>\n",
       "  </tbody>\n",
       "</table>\n",
       "<p>5 rows × 151 columns</p>\n",
       "</div>"
      ],
      "text/plain": [
       "temp_names       gd1   gd10   gd11   gd12    gd13    gd14    gd15   gd2   gd3  \\\n",
       "gameId                                                                          \n",
       "EUW1_5763325310  516  16400  23181  30858   39067   49680   61268  1109  1774   \n",
       "EUW1_5763410685  500   5005   5207   5813    6097    6703    7860   974  1228   \n",
       "EUW1_5763819470  559  -2886  -4284  -6152   -6830   -8325   -8928  1097  1600   \n",
       "EUW1_5764707648    0  -5689  -6628  -9264  -12651  -17040  -21966   162  -368   \n",
       "EUW1_5765338010    0   8681  10020  11340   12929   14682   16479   -57   416   \n",
       "\n",
       "temp_names         gd4  ... wd7 wd8 wd9 wd10 wd11  wd12  wd13  wd14  wd15  \\\n",
       "gameId                  ...                                                 \n",
       "EUW1_5763325310   3458  ...   5  11  12   16   15    24    28    30    36   \n",
       "EUW1_5763410685   1073  ...  65  66  70   73   86    91   119   136   145   \n",
       "EUW1_5763819470   1046  ...  19  24  28   30   37    41    48    50    54   \n",
       "EUW1_5764707648  -1060  ...  -7  -7  -7   -7   -9   -10    -9   -13   -13   \n",
       "EUW1_5765338010   1796  ...   3   7   4    4    1     2     1     0     1   \n",
       "\n",
       "temp_names       BlueWin  \n",
       "gameId                    \n",
       "EUW1_5763325310     True  \n",
       "EUW1_5763410685     True  \n",
       "EUW1_5763819470     True  \n",
       "EUW1_5764707648    False  \n",
       "EUW1_5765338010     True  \n",
       "\n",
       "[5 rows x 151 columns]"
      ]
     },
     "execution_count": 4,
     "metadata": {},
     "output_type": "execute_result"
    }
   ],
   "source": [
    "df.head()"
   ]
  },
  {
   "cell_type": "code",
   "execution_count": 5,
   "id": "09e99136",
   "metadata": {
    "scrolled": false
   },
   "outputs": [
    {
     "data": {
      "text/html": [
       "<div>\n",
       "<style scoped>\n",
       "    .dataframe tbody tr th:only-of-type {\n",
       "        vertical-align: middle;\n",
       "    }\n",
       "\n",
       "    .dataframe tbody tr th {\n",
       "        vertical-align: top;\n",
       "    }\n",
       "\n",
       "    .dataframe thead th {\n",
       "        text-align: right;\n",
       "    }\n",
       "</style>\n",
       "<table border=\"1\" class=\"dataframe\">\n",
       "  <thead>\n",
       "    <tr style=\"text-align: right;\">\n",
       "      <th>temp_names</th>\n",
       "      <th>kd1</th>\n",
       "      <th>kd2</th>\n",
       "      <th>kd3</th>\n",
       "      <th>kd4</th>\n",
       "      <th>kd5</th>\n",
       "      <th>kd6</th>\n",
       "      <th>kd7</th>\n",
       "      <th>kd8</th>\n",
       "      <th>kd9</th>\n",
       "      <th>kd10</th>\n",
       "      <th>...</th>\n",
       "      <th>wd6</th>\n",
       "      <th>wd7</th>\n",
       "      <th>wd8</th>\n",
       "      <th>wd9</th>\n",
       "      <th>wd10</th>\n",
       "      <th>wd11</th>\n",
       "      <th>wd12</th>\n",
       "      <th>wd13</th>\n",
       "      <th>wd14</th>\n",
       "      <th>wd15</th>\n",
       "    </tr>\n",
       "  </thead>\n",
       "  <tbody>\n",
       "    <tr>\n",
       "      <th>count</th>\n",
       "      <td>3964.000000</td>\n",
       "      <td>3964.000000</td>\n",
       "      <td>3964.000000</td>\n",
       "      <td>3964.000000</td>\n",
       "      <td>3964.000000</td>\n",
       "      <td>3964.000000</td>\n",
       "      <td>3964.000000</td>\n",
       "      <td>3964.000000</td>\n",
       "      <td>3964.00000</td>\n",
       "      <td>3964.000000</td>\n",
       "      <td>...</td>\n",
       "      <td>3964.000000</td>\n",
       "      <td>3964.000000</td>\n",
       "      <td>3964.000000</td>\n",
       "      <td>3964.000000</td>\n",
       "      <td>3964.000000</td>\n",
       "      <td>3964.000000</td>\n",
       "      <td>3964.000000</td>\n",
       "      <td>3964.000000</td>\n",
       "      <td>3964.000000</td>\n",
       "      <td>3964.000000</td>\n",
       "    </tr>\n",
       "    <tr>\n",
       "      <th>mean</th>\n",
       "      <td>0.006559</td>\n",
       "      <td>0.003532</td>\n",
       "      <td>0.023713</td>\n",
       "      <td>0.017659</td>\n",
       "      <td>0.041120</td>\n",
       "      <td>0.053734</td>\n",
       "      <td>0.038093</td>\n",
       "      <td>0.068365</td>\n",
       "      <td>0.04894</td>\n",
       "      <td>0.041120</td>\n",
       "      <td>...</td>\n",
       "      <td>0.389506</td>\n",
       "      <td>0.559031</td>\n",
       "      <td>0.729818</td>\n",
       "      <td>0.784813</td>\n",
       "      <td>0.892533</td>\n",
       "      <td>1.029516</td>\n",
       "      <td>1.118315</td>\n",
       "      <td>1.246973</td>\n",
       "      <td>1.402371</td>\n",
       "      <td>1.399344</td>\n",
       "    </tr>\n",
       "    <tr>\n",
       "      <th>std</th>\n",
       "      <td>0.284971</td>\n",
       "      <td>0.580608</td>\n",
       "      <td>1.031643</td>\n",
       "      <td>1.612214</td>\n",
       "      <td>2.044687</td>\n",
       "      <td>2.467736</td>\n",
       "      <td>2.977807</td>\n",
       "      <td>3.432727</td>\n",
       "      <td>3.87694</td>\n",
       "      <td>4.390315</td>\n",
       "      <td>...</td>\n",
       "      <td>9.623687</td>\n",
       "      <td>11.655359</td>\n",
       "      <td>13.962601</td>\n",
       "      <td>15.977996</td>\n",
       "      <td>18.226310</td>\n",
       "      <td>20.581672</td>\n",
       "      <td>23.009162</td>\n",
       "      <td>25.481966</td>\n",
       "      <td>28.210347</td>\n",
       "      <td>30.564348</td>\n",
       "    </tr>\n",
       "    <tr>\n",
       "      <th>min</th>\n",
       "      <td>-2.000000</td>\n",
       "      <td>-4.000000</td>\n",
       "      <td>-6.000000</td>\n",
       "      <td>-7.000000</td>\n",
       "      <td>-9.000000</td>\n",
       "      <td>-11.000000</td>\n",
       "      <td>-11.000000</td>\n",
       "      <td>-15.000000</td>\n",
       "      <td>-15.00000</td>\n",
       "      <td>-18.000000</td>\n",
       "      <td>...</td>\n",
       "      <td>-110.000000</td>\n",
       "      <td>-147.000000</td>\n",
       "      <td>-153.000000</td>\n",
       "      <td>-196.000000</td>\n",
       "      <td>-213.000000</td>\n",
       "      <td>-243.000000</td>\n",
       "      <td>-275.000000</td>\n",
       "      <td>-293.000000</td>\n",
       "      <td>-320.000000</td>\n",
       "      <td>-374.000000</td>\n",
       "    </tr>\n",
       "    <tr>\n",
       "      <th>25%</th>\n",
       "      <td>0.000000</td>\n",
       "      <td>0.000000</td>\n",
       "      <td>0.000000</td>\n",
       "      <td>-1.000000</td>\n",
       "      <td>-1.000000</td>\n",
       "      <td>-2.000000</td>\n",
       "      <td>-2.000000</td>\n",
       "      <td>-2.000000</td>\n",
       "      <td>-3.00000</td>\n",
       "      <td>-3.000000</td>\n",
       "      <td>...</td>\n",
       "      <td>-2.000000</td>\n",
       "      <td>-2.000000</td>\n",
       "      <td>-3.000000</td>\n",
       "      <td>-3.000000</td>\n",
       "      <td>-4.000000</td>\n",
       "      <td>-4.000000</td>\n",
       "      <td>-5.000000</td>\n",
       "      <td>-6.000000</td>\n",
       "      <td>-6.000000</td>\n",
       "      <td>-7.000000</td>\n",
       "    </tr>\n",
       "    <tr>\n",
       "      <th>50%</th>\n",
       "      <td>0.000000</td>\n",
       "      <td>0.000000</td>\n",
       "      <td>0.000000</td>\n",
       "      <td>0.000000</td>\n",
       "      <td>0.000000</td>\n",
       "      <td>0.000000</td>\n",
       "      <td>0.000000</td>\n",
       "      <td>0.000000</td>\n",
       "      <td>0.00000</td>\n",
       "      <td>0.000000</td>\n",
       "      <td>...</td>\n",
       "      <td>0.000000</td>\n",
       "      <td>0.000000</td>\n",
       "      <td>0.000000</td>\n",
       "      <td>0.000000</td>\n",
       "      <td>0.000000</td>\n",
       "      <td>1.000000</td>\n",
       "      <td>0.000000</td>\n",
       "      <td>0.000000</td>\n",
       "      <td>1.000000</td>\n",
       "      <td>1.000000</td>\n",
       "    </tr>\n",
       "    <tr>\n",
       "      <th>75%</th>\n",
       "      <td>0.000000</td>\n",
       "      <td>0.000000</td>\n",
       "      <td>0.000000</td>\n",
       "      <td>1.000000</td>\n",
       "      <td>1.000000</td>\n",
       "      <td>2.000000</td>\n",
       "      <td>2.000000</td>\n",
       "      <td>2.000000</td>\n",
       "      <td>3.00000</td>\n",
       "      <td>3.000000</td>\n",
       "      <td>...</td>\n",
       "      <td>2.000000</td>\n",
       "      <td>3.000000</td>\n",
       "      <td>3.000000</td>\n",
       "      <td>4.000000</td>\n",
       "      <td>5.000000</td>\n",
       "      <td>5.000000</td>\n",
       "      <td>6.000000</td>\n",
       "      <td>7.000000</td>\n",
       "      <td>8.000000</td>\n",
       "      <td>9.000000</td>\n",
       "    </tr>\n",
       "    <tr>\n",
       "      <th>max</th>\n",
       "      <td>3.000000</td>\n",
       "      <td>4.000000</td>\n",
       "      <td>5.000000</td>\n",
       "      <td>7.000000</td>\n",
       "      <td>7.000000</td>\n",
       "      <td>8.000000</td>\n",
       "      <td>11.000000</td>\n",
       "      <td>12.000000</td>\n",
       "      <td>15.00000</td>\n",
       "      <td>18.000000</td>\n",
       "      <td>...</td>\n",
       "      <td>148.000000</td>\n",
       "      <td>172.000000</td>\n",
       "      <td>219.000000</td>\n",
       "      <td>221.000000</td>\n",
       "      <td>226.000000</td>\n",
       "      <td>249.000000</td>\n",
       "      <td>271.000000</td>\n",
       "      <td>292.000000</td>\n",
       "      <td>341.000000</td>\n",
       "      <td>368.000000</td>\n",
       "    </tr>\n",
       "  </tbody>\n",
       "</table>\n",
       "<p>8 rows × 135 columns</p>\n",
       "</div>"
      ],
      "text/plain": [
       "temp_names          kd1          kd2          kd3          kd4          kd5  \\\n",
       "count       3964.000000  3964.000000  3964.000000  3964.000000  3964.000000   \n",
       "mean           0.006559     0.003532     0.023713     0.017659     0.041120   \n",
       "std            0.284971     0.580608     1.031643     1.612214     2.044687   \n",
       "min           -2.000000    -4.000000    -6.000000    -7.000000    -9.000000   \n",
       "25%            0.000000     0.000000     0.000000    -1.000000    -1.000000   \n",
       "50%            0.000000     0.000000     0.000000     0.000000     0.000000   \n",
       "75%            0.000000     0.000000     0.000000     1.000000     1.000000   \n",
       "max            3.000000     4.000000     5.000000     7.000000     7.000000   \n",
       "\n",
       "temp_names          kd6          kd7          kd8         kd9         kd10  \\\n",
       "count       3964.000000  3964.000000  3964.000000  3964.00000  3964.000000   \n",
       "mean           0.053734     0.038093     0.068365     0.04894     0.041120   \n",
       "std            2.467736     2.977807     3.432727     3.87694     4.390315   \n",
       "min          -11.000000   -11.000000   -15.000000   -15.00000   -18.000000   \n",
       "25%           -2.000000    -2.000000    -2.000000    -3.00000    -3.000000   \n",
       "50%            0.000000     0.000000     0.000000     0.00000     0.000000   \n",
       "75%            2.000000     2.000000     2.000000     3.00000     3.000000   \n",
       "max            8.000000    11.000000    12.000000    15.00000    18.000000   \n",
       "\n",
       "temp_names  ...          wd6          wd7          wd8          wd9  \\\n",
       "count       ...  3964.000000  3964.000000  3964.000000  3964.000000   \n",
       "mean        ...     0.389506     0.559031     0.729818     0.784813   \n",
       "std         ...     9.623687    11.655359    13.962601    15.977996   \n",
       "min         ...  -110.000000  -147.000000  -153.000000  -196.000000   \n",
       "25%         ...    -2.000000    -2.000000    -3.000000    -3.000000   \n",
       "50%         ...     0.000000     0.000000     0.000000     0.000000   \n",
       "75%         ...     2.000000     3.000000     3.000000     4.000000   \n",
       "max         ...   148.000000   172.000000   219.000000   221.000000   \n",
       "\n",
       "temp_names         wd10         wd11         wd12         wd13         wd14  \\\n",
       "count       3964.000000  3964.000000  3964.000000  3964.000000  3964.000000   \n",
       "mean           0.892533     1.029516     1.118315     1.246973     1.402371   \n",
       "std           18.226310    20.581672    23.009162    25.481966    28.210347   \n",
       "min         -213.000000  -243.000000  -275.000000  -293.000000  -320.000000   \n",
       "25%           -4.000000    -4.000000    -5.000000    -6.000000    -6.000000   \n",
       "50%            0.000000     1.000000     0.000000     0.000000     1.000000   \n",
       "75%            5.000000     5.000000     6.000000     7.000000     8.000000   \n",
       "max          226.000000   249.000000   271.000000   292.000000   341.000000   \n",
       "\n",
       "temp_names         wd15  \n",
       "count       3964.000000  \n",
       "mean           1.399344  \n",
       "std           30.564348  \n",
       "min         -374.000000  \n",
       "25%           -7.000000  \n",
       "50%            1.000000  \n",
       "75%            9.000000  \n",
       "max          368.000000  \n",
       "\n",
       "[8 rows x 135 columns]"
      ]
     },
     "execution_count": 5,
     "metadata": {},
     "output_type": "execute_result"
    }
   ],
   "source": [
    "df.describe()"
   ]
  },
  {
   "cell_type": "markdown",
   "id": "54e7f6bb",
   "metadata": {},
   "source": [
    " "
   ]
  },
  {
   "cell_type": "markdown",
   "id": "8914ac71",
   "metadata": {},
   "source": [
    "Comprobar si las clases están repartidas equitativamente"
   ]
  },
  {
   "cell_type": "code",
   "execution_count": 6,
   "id": "f9286af6",
   "metadata": {
    "scrolled": false
   },
   "outputs": [
    {
     "name": "stdout",
     "output_type": "stream",
     "text": [
      "% rows que son victoria: 49.59636730575176\n",
      " \n",
      "% rows que son derrota: 50.40363269424824\n"
     ]
    }
   ],
   "source": [
    "print(\"% rows que son victoria: \"+ str((len(df[df[\"BlueWin\"] == True])/len(df)*100)))\n",
    "print(\" \")\n",
    "print(\"% rows que son derrota: \"+ str((len(df[df[\"BlueWin\"] == False])/len(df)*100)))"
   ]
  },
  {
   "cell_type": "markdown",
   "id": "486bd104",
   "metadata": {},
   "source": [
    " "
   ]
  },
  {
   "cell_type": "markdown",
   "id": "1e260cc0",
   "metadata": {},
   "source": [
    "Exploración visual basica"
   ]
  },
  {
   "cell_type": "markdown",
   "id": "af0e6d22",
   "metadata": {},
   "source": [
    "La relación más importante de los datos es la que hay entre la diferencia de oro y la diferencia de kills, ya que son directamente proporcionales."
   ]
  },
  {
   "cell_type": "code",
   "execution_count": 7,
   "id": "ba28d84a",
   "metadata": {
    "scrolled": true
   },
   "outputs": [
    {
     "data": {
      "text/plain": [
       "<matplotlib.collections.PathCollection at 0x23a6a422be0>"
      ]
     },
     "execution_count": 7,
     "metadata": {},
     "output_type": "execute_result"
    },
    {
     "data": {
      "image/png": "[encoded data removed]",
      "text/plain": [
       "<Figure size 432x288 with 1 Axes>"
      ]
     },
     "metadata": {
      "needs_background": "light"
     },
     "output_type": "display_data"
    }
   ],
   "source": [
    "plt.scatter(df[\"kd15\"],df[\"gd15\"])"
   ]
  },
  {
   "cell_type": "markdown",
   "id": "f98d128e",
   "metadata": {},
   "source": [
    "La duración media de una partida es de 25-30 minutos, pero a pesar de contar con datos hasta el minuto 15, podemos observar como hay una clara tendencia a que el ganador de la partida es el que tiene mayor diferencia de oro."
   ]
  },
  {
   "cell_type": "code",
   "execution_count": 8,
   "id": "0faea98b",
   "metadata": {
    "scrolled": true
   },
   "outputs": [
    {
     "data": {
      "text/plain": [
       "<matplotlib.collections.PathCollection at 0x23a6a1c8610>"
      ]
     },
     "execution_count": 8,
     "metadata": {},
     "output_type": "execute_result"
    },
    {
     "data": {
      "image/png": "[encoded data removed]",
      "text/plain": [
       "<Figure size 432x288 with 1 Axes>"
      ]
     },
     "metadata": {
      "needs_background": "light"
     },
     "output_type": "display_data"
    }
   ],
   "source": [
    "plt.scatter(df[\"BlueWin\"],df[\"gd15\"])"
   ]
  },
  {
   "cell_type": "markdown",
   "id": "b2b8eb9e",
   "metadata": {},
   "source": [
    " "
   ]
  },
  {
   "cell_type": "markdown",
   "id": "69c6beb4",
   "metadata": {},
   "source": [
    "Separamos en test y train sets"
   ]
  },
  {
   "cell_type": "code",
   "execution_count": 68,
   "id": "96fbf41d",
   "metadata": {},
   "outputs": [],
   "source": [
    "X_train = [0,0,0,0,0,0,0,0,0,0,0,0,0,0,0]\n",
    "X_test = [0,0,0,0,0,0,0,0,0,0,0,0,0,0,0]\n",
    "y_train = [0,0,0,0,0,0,0,0,0,0,0,0,0,0,0]\n",
    "y_test = [0,0,0,0,0,0,0,0,0,0,0,0,0,0,0]\n",
    "\n",
    "y = df[\"BlueWin\"]\n",
    "for i in range(1,16):\n",
    "    X = df[[\"kd\"+str(i)+\"\",\"gd\"+str(i)+\"\",\"xpd\"+str(i)+\"\",\"csd\"+str(i)+\"\",\"dd\"+str(i)+\"\",\"hd\"+str(i)+\"\",\"td\"+str(i)+\"\",\"pd\"+str(i)+\"\",\"tdd\"+str(i)+\"\",\"wd\"+str(i)+\"\"]]\n",
    "    X_train[i-1], X_test[i-1], y_train[i-1], y_test[i-1] = train_test_split(X,y)"
   ]
  },
  {
   "cell_type": "markdown",
   "id": "2d65cb06",
   "metadata": {},
   "source": [
    "# Logistic Regression"
   ]
  },
  {
   "cell_type": "code",
   "execution_count": 69,
   "id": "9e1db2cf",
   "metadata": {},
   "outputs": [],
   "source": [
    "lr_score = [0,0,0,0,0,0,0,0,0,0,0,0,0,0,0]\n",
    "\n",
    "# define the model\n",
    "lr = LogisticRegression()\n",
    "\n",
    "for i in range(0,15):\n",
    "    scores = cross_validate(lr,X_train[i],y_train[i],cv=10)\n",
    "    lr_score[i] = sum(scores['test_score'])/10"
   ]
  },
  {
   "cell_type": "code",
   "execution_count": 70,
   "id": "e99e8e09",
   "metadata": {},
   "outputs": [
    {
     "data": {
      "text/plain": [
       "[0.5072413169728606,\n",
       " 0.521008745169819,\n",
       " 0.5607416446342621,\n",
       " 0.6094920118410052,\n",
       " 0.6363907531692765,\n",
       " 0.648841886425779,\n",
       " 0.6700336700336701,\n",
       " 0.6794398119901477,\n",
       " 0.7003050640634533,\n",
       " 0.7063690597247644,\n",
       " 0.7191342959799336,\n",
       " 0.7363060131516508,\n",
       " 0.7302454070910447,\n",
       " 0.7584830406978058,\n",
       " 0.7753203172666261]"
      ]
     },
     "execution_count": 70,
     "metadata": {},
     "output_type": "execute_result"
    }
   ],
   "source": [
    "lr_score"
   ]
  },
  {
   "cell_type": "code",
   "execution_count": 71,
   "id": "903dc91a",
   "metadata": {
    "scrolled": false
   },
   "outputs": [
    {
     "data": {
      "text/plain": [
       "0.66395686921414"
      ]
     },
     "execution_count": 71,
     "metadata": {},
     "output_type": "execute_result"
    }
   ],
   "source": [
    "avg_lr = sum(lr_score)/15\n",
    "avg_lr"
   ]
  },
  {
   "cell_type": "markdown",
   "id": "e9368026",
   "metadata": {},
   "source": [
    " "
   ]
  },
  {
   "cell_type": "raw",
   "id": "5fe31bcf",
   "metadata": {},
   "source": [
    "y_hat = lr.predict(X_test)"
   ]
  },
  {
   "cell_type": "raw",
   "id": "ec684bfb",
   "metadata": {
    "scrolled": true
   },
   "source": [
    "reportlr = classification_report(y_test, y_hat)\n",
    "print(reportlr)"
   ]
  },
  {
   "cell_type": "raw",
   "id": "50c0e21b",
   "metadata": {},
   "source": [
    "co = lr.coef_\n",
    "plt.bar([\"kd15\",\"gd15\",\"xpd15\",\"csd15\",\"dd15\",\"hd15\",\"td15\",\"pd15\",\"tdd15\",\"wd15\"],co[0])"
   ]
  },
  {
   "cell_type": "raw",
   "id": "96e8fd75",
   "metadata": {},
   "source": [
    "#Split\n",
    "X_train, X_test, y_train, y_test = train_test_split(X,y)\n",
    "#define the model\n",
    "lr = LogisticRegression()\n",
    "#fit the model\n",
    "#lr.fit(X_train, y_train)\n",
    "scores = cross_validate(lr, X_train, y_train,cv=5)"
   ]
  },
  {
   "cell_type": "markdown",
   "id": "ba28e332",
   "metadata": {},
   "source": [
    " "
   ]
  },
  {
   "cell_type": "markdown",
   "id": "826e2a09",
   "metadata": {},
   "source": [
    "# Decision Trees"
   ]
  },
  {
   "cell_type": "code",
   "execution_count": 72,
   "id": "19be94f9",
   "metadata": {},
   "outputs": [],
   "source": [
    "dt_score = [0,0,0,0,0,0,0,0,0,0,0,0,0,0,0]\n",
    "\n",
    "# define the model\n",
    "dt = DecisionTreeClassifier()\n",
    "\n",
    "for i in range(0,15):\n",
    "    scores = cross_validate(dt,X_train[i],y_train[i],cv=10)\n",
    "    dt_score[i] = sum(scores['test_score'])/10"
   ]
  },
  {
   "cell_type": "code",
   "execution_count": 73,
   "id": "3bd3c56b",
   "metadata": {},
   "outputs": [
    {
     "data": {
      "text/plain": [
       "[0.5082627166519784,\n",
       " 0.5119438230176485,\n",
       " 0.5152848394459133,\n",
       " 0.5411892979007074,\n",
       " 0.5465866720900279,\n",
       " 0.5523230063498519,\n",
       " 0.5738390617585248,\n",
       " 0.5913271416627122,\n",
       " 0.6071079926784625,\n",
       " 0.6057962172056133,\n",
       " 0.6215748084875602,\n",
       " 0.6300149142431022,\n",
       " 0.6424479696291776,\n",
       " 0.6498406887668633,\n",
       " 0.6757835626963143]"
      ]
     },
     "execution_count": 73,
     "metadata": {},
     "output_type": "execute_result"
    }
   ],
   "source": [
    "dt_score"
   ]
  },
  {
   "cell_type": "code",
   "execution_count": 74,
   "id": "ab4187a0",
   "metadata": {},
   "outputs": [
    {
     "data": {
      "text/plain": [
       "0.5848881808389639"
      ]
     },
     "execution_count": 74,
     "metadata": {},
     "output_type": "execute_result"
    }
   ],
   "source": [
    "avg_dt = sum(dt_score)/15\n",
    "avg_dt"
   ]
  },
  {
   "cell_type": "raw",
   "id": "a46c45df",
   "metadata": {},
   "source": [
    "X = df[[\"kd12\",\"gd12\",\"xpd12\",\"csd12\",\"dd12\",\"hd12\",\"td12\",\"pd12\",\"tdd12\",\"wd12\"]]\n",
    "y = df[\"BlueWin\"]\n",
    "\n",
    "dt = DecisionTreeClassifier()\n",
    "\n",
    "X_train, X_test, y_train, y_test = train_test_split(X, y)\n",
    "dt.fit(X_train, y_train)\n",
    "y_hat = dt.predict(X_test)"
   ]
  },
  {
   "cell_type": "raw",
   "id": "3544d19e",
   "metadata": {},
   "source": [
    "# get importance\n",
    "importance = dt.feature_importances_"
   ]
  },
  {
   "cell_type": "raw",
   "id": "64ffe3e8",
   "metadata": {
    "scrolled": true
   },
   "source": [
    "# summarize feature importance\n",
    "for i,v in enumerate(importance):\n",
    "    print('Feature: '+X.axes[1][i][:-2]+', Score: %.5f' % (v))\n",
    "# plot feature importance\n",
    "pyplot.bar([x for x in range(len(importance))], importance)\n",
    "pyplot.show()"
   ]
  },
  {
   "cell_type": "raw",
   "id": "811f2d60",
   "metadata": {
    "scrolled": true
   },
   "source": [
    "reportdt = classification_report(y_test, y_hat)\n",
    "print(reportdt)"
   ]
  },
  {
   "cell_type": "markdown",
   "id": "84ae9273",
   "metadata": {},
   "source": [
    "  "
   ]
  },
  {
   "cell_type": "markdown",
   "id": "b3494869",
   "metadata": {},
   "source": [
    "# Random Forest"
   ]
  },
  {
   "cell_type": "code",
   "execution_count": 75,
   "id": "d66fe148",
   "metadata": {},
   "outputs": [],
   "source": [
    "rf_score = [0,0,0,0,0,0,0,0,0,0,0,0,0,0,0]\n",
    "\n",
    "# define the model\n",
    "rf = RandomForestClassifier(oob_score=True)\n",
    "\n",
    "for i in range(0,15):\n",
    "    scores = cross_validate(rf,X_train[i],y_train[i],cv=10)\n",
    "    rf_score[i] = sum(scores['test_score'])/10"
   ]
  },
  {
   "cell_type": "code",
   "execution_count": 76,
   "id": "0736731e",
   "metadata": {},
   "outputs": [
    {
     "data": {
      "text/plain": [
       "[0.4971640340767857,\n",
       " 0.5297640837909294,\n",
       " 0.5213736921790614,\n",
       " 0.5785472171378212,\n",
       " 0.6276614014869049,\n",
       " 0.620251734345694,\n",
       " 0.646814905204167,\n",
       " 0.6606094502067656,\n",
       " 0.6824712448873523,\n",
       " 0.6845083949110794,\n",
       " 0.7053431405780399,\n",
       " 0.719143334915147,\n",
       " 0.7258841208505639,\n",
       " 0.7413474792669423,\n",
       " 0.7675852484577317]"
      ]
     },
     "execution_count": 76,
     "metadata": {},
     "output_type": "execute_result"
    }
   ],
   "source": [
    "rf_score"
   ]
  },
  {
   "cell_type": "code",
   "execution_count": 77,
   "id": "4d5005c9",
   "metadata": {},
   "outputs": [
    {
     "data": {
      "text/plain": [
       "0.6472312988196656"
      ]
     },
     "execution_count": 77,
     "metadata": {},
     "output_type": "execute_result"
    }
   ],
   "source": [
    "avg_rf = sum(rf_score)/15\n",
    "avg_rf"
   ]
  },
  {
   "cell_type": "raw",
   "id": "ec2a91f4",
   "metadata": {},
   "source": [
    "X = df[[\"kd12\",\"gd12\",\"xpd12\",\"csd12\",\"dd12\",\"hd12\",\"td12\",\"pd12\",\"tdd12\",\"wd12\"]]\n",
    "y = df[\"BlueWin\"]\n",
    "\n",
    "rf = RandomForestClassifier(oob_score=True)\n",
    "\n",
    "X_train, X_test, y_train, y_test = train_test_split(X, y)\n",
    "rf.fit(X_train, y_train)\n",
    "\n",
    "rf.oob_score_"
   ]
  },
  {
   "cell_type": "raw",
   "id": "546ac4f6",
   "metadata": {},
   "source": [
    "y_hat = rf.predict(X_test)\n",
    "probs = rf.predict_proba(X_test)\n",
    "\n",
    "accuracy_score(y_test, y_hat), precision_score(y_test, y_hat), recall_score(y_test, y_hat)"
   ]
  },
  {
   "cell_type": "raw",
   "id": "e56f50e7",
   "metadata": {},
   "source": [
    "importances =  rf.feature_importances_\n",
    "# summarize feature importance\n",
    "for i,v in enumerate(importance):\n",
    "    print('Feature: '+X.axes[1][i][:-2]+', Score: %.5f' % (v))\n",
    "# plot feature importance\n",
    "pyplot.bar([x for x in range(len(importance))], importance)\n",
    "pyplot.show()"
   ]
  },
  {
   "cell_type": "raw",
   "id": "dfc04fbb",
   "metadata": {},
   "source": [
    "reportrf = classification_report(y_test, y_hat)\n",
    "print(reportrf)"
   ]
  },
  {
   "cell_type": "markdown",
   "id": "8a0530df",
   "metadata": {},
   "source": [
    " "
   ]
  },
  {
   "cell_type": "markdown",
   "id": "98ce668e",
   "metadata": {},
   "source": [
    "# Artificial Neural Networks"
   ]
  },
  {
   "cell_type": "code",
   "execution_count": 78,
   "id": "80d1bd5c",
   "metadata": {},
   "outputs": [],
   "source": [
    "clf_score = [0,0,0,0,0,0,0,0,0,0,0,0,0,0,0]\n",
    "\n",
    "# define the model\n",
    "clf = MLPClassifier()\n",
    "\n",
    "for i in range(0,15):\n",
    "    scores = cross_validate(clf,X_train[i],y_train[i],cv=10)\n",
    "    clf_score[i] = sum(scores['test_score'])/10"
   ]
  },
  {
   "cell_type": "code",
   "execution_count": 79,
   "id": "28ea3d73",
   "metadata": {},
   "outputs": [
    {
     "data": {
      "text/plain": [
       "[0.49882267868845054,\n",
       " 0.5085485729781032,\n",
       " 0.47861274941811854,\n",
       " 0.5280726730391161,\n",
       " 0.5570096942580164,\n",
       " 0.5509705556685423,\n",
       " 0.5536472103586197,\n",
       " 0.5950093778952839,\n",
       " 0.6283020360201568,\n",
       " 0.5795347208098887,\n",
       " 0.6108184755835763,\n",
       " 0.6175570017851897,\n",
       " 0.693238876460353,\n",
       " 0.6659864867918559,\n",
       " 0.705022258377963]"
      ]
     },
     "execution_count": 79,
     "metadata": {},
     "output_type": "execute_result"
    }
   ],
   "source": [
    "clf_score"
   ]
  },
  {
   "cell_type": "code",
   "execution_count": 80,
   "id": "a0927d52",
   "metadata": {},
   "outputs": [
    {
     "data": {
      "text/plain": [
       "0.584743557875549"
      ]
     },
     "execution_count": 80,
     "metadata": {},
     "output_type": "execute_result"
    }
   ],
   "source": [
    "avg_clf = sum(clf_score)/15\n",
    "avg_clf"
   ]
  },
  {
   "cell_type": "raw",
   "id": "2f1fab11",
   "metadata": {},
   "source": [
    "X = df[[\"kd12\",\"gd12\",\"xpd12\",\"csd12\",\"dd12\",\"hd12\",\"td12\",\"pd12\",\"tdd12\",\"wd12\"]]\n",
    "y = df[\"BlueWin\"]\n",
    "\n",
    "clf = MLPClassifier()\n",
    "X_train, X_test, y_train, y_test = train_test_split(X, y)\n",
    "\n",
    "clf.fit(X_train, y_train)"
   ]
  },
  {
   "cell_type": "raw",
   "id": "958676a0",
   "metadata": {},
   "source": [
    "y_hat = clf.predict(X_test)"
   ]
  },
  {
   "cell_type": "raw",
   "id": "c46bbed4",
   "metadata": {},
   "source": [
    "reportnn = classification_report(y_test, y_hat)\n",
    "print(reportnn)"
   ]
  },
  {
   "cell_type": "markdown",
   "id": "51e136a2",
   "metadata": {},
   "source": [
    " "
   ]
  },
  {
   "cell_type": "markdown",
   "id": "0d2b4439",
   "metadata": {},
   "source": [
    "# SVM"
   ]
  },
  {
   "cell_type": "code",
   "execution_count": 81,
   "id": "c59e360c",
   "metadata": {},
   "outputs": [],
   "source": [
    "svm_score = [0,0,0,0,0,0,0,0,0,0,0,0,0,0,0]\n",
    "\n",
    "# define the model\n",
    "svmcl =  svm.SVC()\n",
    "\n",
    "for i in range(0,15):\n",
    "    scores = cross_validate(svmcl,X_train[i],y_train[i],cv=10)\n",
    "    svm_score[i] = sum(scores['test_score'])/10"
   ]
  },
  {
   "cell_type": "code",
   "execution_count": 82,
   "id": "0f46bbaf",
   "metadata": {},
   "outputs": [
    {
     "data": {
      "text/plain": [
       "[0.510267100535557,\n",
       " 0.5206697850993154,\n",
       " 0.5600592050256481,\n",
       " 0.6047838564617088,\n",
       " 0.6306781461143878,\n",
       " 0.6488407565588774,\n",
       " 0.6626330418276727,\n",
       " 0.6703613314351571,\n",
       " 0.6865116489277563,\n",
       " 0.6935778365308567,\n",
       " 0.7026495378844372,\n",
       " 0.7248615913045444,\n",
       " 0.7275563238650488,\n",
       " 0.734956952071046,\n",
       " 0.7561532551465439]"
      ]
     },
     "execution_count": 82,
     "metadata": {},
     "output_type": "execute_result"
    }
   ],
   "source": [
    "svm_score"
   ]
  },
  {
   "cell_type": "code",
   "execution_count": 83,
   "id": "8259f52e",
   "metadata": {},
   "outputs": [
    {
     "data": {
      "text/plain": [
       "0.6556373579192373"
      ]
     },
     "execution_count": 83,
     "metadata": {},
     "output_type": "execute_result"
    }
   ],
   "source": [
    "avg_svm = sum(svm_score)/15\n",
    "avg_svm"
   ]
  },
  {
   "cell_type": "raw",
   "id": "34e43e72",
   "metadata": {},
   "source": [
    "X = df[[\"kd12\",\"gd12\",\"xpd12\",\"csd12\",\"dd12\",\"hd12\",\"td12\",\"pd12\",\"tdd12\",\"wd12\"]]\n",
    "y = df[\"BlueWin\"]"
   ]
  },
  {
   "cell_type": "raw",
   "id": "8ec5c08b",
   "metadata": {},
   "source": [
    "svmcl =  svm.SVC()\n",
    "\n",
    "X_train, X_test, y_train, y_test = train_test_split(X, y)\n",
    "\n",
    "svmcl.fit(X_train,y_train)"
   ]
  },
  {
   "cell_type": "raw",
   "id": "c074d745",
   "metadata": {},
   "source": [
    "y_hat = svmcl.predict(X_test)"
   ]
  },
  {
   "cell_type": "raw",
   "id": "8b8b6ece",
   "metadata": {
    "scrolled": true
   },
   "source": [
    "reportsvm = classification_report(y_test, y_hat)\n",
    "print(reportsvm)"
   ]
  },
  {
   "cell_type": "markdown",
   "id": "aaef9910",
   "metadata": {},
   "source": [
    " "
   ]
  },
  {
   "cell_type": "markdown",
   "id": "dbe8acf0",
   "metadata": {},
   "source": [
    "# LightGBM"
   ]
  },
  {
   "cell_type": "code",
   "execution_count": 25,
   "id": "3eb6b6b4",
   "metadata": {},
   "outputs": [],
   "source": [
    "lgb.LGBMClassifier?"
   ]
  },
  {
   "cell_type": "code",
   "execution_count": 84,
   "id": "c15220a1",
   "metadata": {},
   "outputs": [],
   "source": [
    "lgbm_score = [0,0,0,0,0,0,0,0,0,0,0,0,0,0,0]\n",
    "lgbm_score_test = [0,0,0,0,0,0,0,0,0,0,0,0,0,0,0]\n",
    "\n",
    "# define the model\n",
    "lgbm_model = lgb.LGBMClassifier(boosting_type='gbdt',num_leaves=50,max_depth=5,is_unbalance=False)\n",
    "\n",
    "for i in range(0,15):\n",
    "    X_train[i][\"gd\"+str(i+1)] = X_train[i][\"gd\"+str(i+1)].astype('int32')\n",
    "    X_test[i][\"gd\"+str(i+1)] = X_test[i][\"gd\"+str(i+1)].astype('int32')\n",
    "    scores = cross_validate(lgbm_model,X_train[i],y_train[i],cv=10)\n",
    "    scores_test = cross_validate(lgbm_model,X_test[i],y_test[i],cv=10)\n",
    "    lgbm_score[i] = sum(scores['test_score'])/10\n",
    "    lgbm_score_test[i] = sum(scores_test['test_score'])/10"
   ]
  },
  {
   "cell_type": "code",
   "execution_count": 85,
   "id": "c1086437",
   "metadata": {},
   "outputs": [
    {
     "data": {
      "text/plain": [
       "[0.49344790183716364,\n",
       " 0.5196755022258379,\n",
       " 0.5247248774094412,\n",
       " 0.5781992181321042,\n",
       " 0.6202404356766774,\n",
       " 0.6246265789889951,\n",
       " 0.6474950850789778,\n",
       " 0.6454794025263823,\n",
       " 0.6821435834858652,\n",
       " 0.6828248932275777,\n",
       " 0.7090344157458252,\n",
       " 0.7090423248141369,\n",
       " 0.7181422728402596,\n",
       " 0.73898379770863,\n",
       " 0.7655684360382347]"
      ]
     },
     "execution_count": 85,
     "metadata": {},
     "output_type": "execute_result"
    }
   ],
   "source": [
    "lgbm_score"
   ]
  },
  {
   "cell_type": "code",
   "execution_count": 86,
   "id": "ef0f9651",
   "metadata": {},
   "outputs": [
    {
     "data": {
      "text/plain": [
       "[0.4923838383838384,\n",
       " 0.4954141414141414,\n",
       " 0.5458585858585859,\n",
       " 0.5438989898989899,\n",
       " 0.5832424242424242,\n",
       " 0.6125454545454546,\n",
       " 0.6215757575757576,\n",
       " 0.6185757575757577,\n",
       " 0.6337777777777778,\n",
       " 0.7083232323232324,\n",
       " 0.7063636363636364,\n",
       " 0.6670303030303031,\n",
       " 0.7245555555555555,\n",
       " 0.7426363636363637,\n",
       " 0.7133838383838383]"
      ]
     },
     "execution_count": 86,
     "metadata": {},
     "output_type": "execute_result"
    }
   ],
   "source": [
    "lgbm_score_test"
   ]
  },
  {
   "cell_type": "code",
   "execution_count": 87,
   "id": "e6f63896",
   "metadata": {},
   "outputs": [
    {
     "data": {
      "text/plain": [
       "0.6439752483824072"
      ]
     },
     "execution_count": 87,
     "metadata": {},
     "output_type": "execute_result"
    }
   ],
   "source": [
    "avg_lgbm = sum(lgbm_score)/15\n",
    "avg_lgbm"
   ]
  },
  {
   "cell_type": "raw",
   "id": "bdae28d5",
   "metadata": {},
   "source": [
    "X_train[7][\"gd8\"] = X_train[7][\"gd8\"].astype('int32')"
   ]
  },
  {
   "cell_type": "raw",
   "id": "9f0b662f",
   "metadata": {},
   "source": [
    "lgbm_model = lgb.LGBMClassifier(boosting_type='gbdt',num_leaves=80,max_depth=10)\n",
    "\n",
    "lgbm_model.fit(X_train[7],y_train[7])"
   ]
  },
  {
   "cell_type": "markdown",
   "id": "e48d68da",
   "metadata": {},
   "source": [
    "----------------------------------------------------------------"
   ]
  },
  {
   "cell_type": "markdown",
   "id": "e6162b76",
   "metadata": {},
   "source": [
    "Comparamos los resultados del cross validation para comparar entre los distintos modelos"
   ]
  },
  {
   "cell_type": "markdown",
   "id": "ab157e03",
   "metadata": {},
   "source": [
    "En cuanto al score global, podemos ver que los resultados son parecidos entre los modelos ya que en los primeros minutos predecir el resultado es un 50/50 en todos los modelos."
   ]
  },
  {
   "cell_type": "code",
   "execution_count": 30,
   "id": "00e1fb4c",
   "metadata": {
    "scrolled": false
   },
   "outputs": [
    {
     "data": {
      "text/plain": [
       "<BarContainer object of 6 artists>"
      ]
     },
     "execution_count": 30,
     "metadata": {},
     "output_type": "execute_result"
    },
    {
     "data": {
      "image/png": "[encoded data removed]",
      "text/plain": [
       "<Figure size 432x288 with 1 Axes>"
      ]
     },
     "metadata": {
      "needs_background": "light"
     },
     "output_type": "display_data"
    }
   ],
   "source": [
    "plt.bar([\"lr\",\"dt\",\"rf\",\"clf\",\"svm\",\"lgbm\"],[avg_lr,avg_dt,avg_rf,avg_clf,avg_svm,avg_lgbm])"
   ]
  },
  {
   "cell_type": "markdown",
   "id": "ae778392",
   "metadata": {},
   "source": [
    "Haciendo la media del minuto 10 al 15, sigue sucediendo lo mismo pero como anteriormente pasaba, Logistic Regression, Random forest y SVM parecen ser los modelos con mayor poder de predicción. Aunque nunca llegan al 80%."
   ]
  },
  {
   "cell_type": "code",
   "execution_count": 31,
   "id": "cbe0d368",
   "metadata": {},
   "outputs": [],
   "source": [
    "scores15_lr = 0\n",
    "scores15_dt = 0\n",
    "scores15_rf = 0\n",
    "scores15_clf = 0\n",
    "scores15_svm = 0\n",
    "scores15_lgbm = 0\n",
    "\n",
    "for i in range(1,6):\n",
    "    scores15_lr = lr_score[9+i] + scores15_lr\n",
    "    scores15_dt = dt_score[9+i] + scores15_dt\n",
    "    scores15_rf = rf_score[9+i] + scores15_rf\n",
    "    scores15_clf = clf_score[9+i] + scores15_clf\n",
    "    scores15_svm = svm_score[9+i] + scores15_svm\n",
    "    scores15_lgbm = svm_score[9+i] + scores15_lgbm\n",
    "    \n",
    "avgsc15_lr = scores15_lr/5\n",
    "avgsc15_dt = scores15_dt/5\n",
    "avgsc15_rf = scores15_rf/5\n",
    "avgsc15_clf = scores15_clf/5\n",
    "avgsc15_svm = scores15_svm/5\n",
    "avgsc15_lgbm = scores15_lgbm/5"
   ]
  },
  {
   "cell_type": "code",
   "execution_count": 32,
   "id": "700cf7f4",
   "metadata": {},
   "outputs": [
    {
     "data": {
      "text/plain": [
       "3.7016642939461732"
      ]
     },
     "execution_count": 32,
     "metadata": {},
     "output_type": "execute_result"
    }
   ],
   "source": [
    "scores15_lr"
   ]
  },
  {
   "cell_type": "code",
   "execution_count": 33,
   "id": "5a22a625",
   "metadata": {},
   "outputs": [
    {
     "data": {
      "text/plain": [
       "<BarContainer object of 6 artists>"
      ]
     },
     "execution_count": 33,
     "metadata": {},
     "output_type": "execute_result"
    },
    {
     "data": {
      "image/png": "[encoded data removed]",
      "text/plain": [
       "<Figure size 432x288 with 1 Axes>"
      ]
     },
     "metadata": {
      "needs_background": "light"
     },
     "output_type": "display_data"
    }
   ],
   "source": [
    "plt.bar([\"lr\",\"dt\",\"rf\",\"clf\",\"svm\",\"lgbm\"],[avgsc15_lr,avgsc15_dt,avgsc15_rf,avgsc15_clf,avgsc15_svm,avgsc15_lgbm])"
   ]
  },
  {
   "cell_type": "markdown",
   "id": "5b398a7f",
   "metadata": {},
   "source": [
    "----------------------------------------------------------------"
   ]
  },
  {
   "cell_type": "markdown",
   "id": "a44472cf",
   "metadata": {},
   "source": [
    " "
   ]
  },
  {
   "cell_type": "markdown",
   "id": "8184653c",
   "metadata": {},
   "source": [
    " "
   ]
  },
  {
   "cell_type": "markdown",
   "id": "276a8f5d",
   "metadata": {},
   "source": [
    "# Predict the rift (Logistic Regression)"
   ]
  },
  {
   "cell_type": "markdown",
   "id": "a11723c8",
   "metadata": {},
   "source": [
    "Importancia de las features"
   ]
  },
  {
   "cell_type": "markdown",
   "id": "7860b024",
   "metadata": {},
   "source": [
    "Global (minuto 0-15)"
   ]
  },
  {
   "cell_type": "code",
   "execution_count": 34,
   "id": "b48462f2",
   "metadata": {},
   "outputs": [
    {
     "name": "stderr",
     "output_type": "stream",
     "text": [
      "c:\\users\\mario\\appdata\\local\\programs\\python\\python39\\lib\\site-packages\\sklearn\\linear_model\\_logistic.py:814: ConvergenceWarning: lbfgs failed to converge (status=1):\n",
      "STOP: TOTAL NO. of ITERATIONS REACHED LIMIT.\n",
      "\n",
      "Increase the number of iterations (max_iter) or scale the data as shown in:\n",
      "    https://scikit-learn.org/stable/modules/preprocessing.html\n",
      "Please also refer to the documentation for alternative solver options:\n",
      "    https://scikit-learn.org/stable/modules/linear_model.html#logistic-regression\n",
      "  n_iter_i = _check_optimize_result(\n",
      "c:\\users\\mario\\appdata\\local\\programs\\python\\python39\\lib\\site-packages\\sklearn\\linear_model\\_logistic.py:814: ConvergenceWarning: lbfgs failed to converge (status=1):\n",
      "STOP: TOTAL NO. of ITERATIONS REACHED LIMIT.\n",
      "\n",
      "Increase the number of iterations (max_iter) or scale the data as shown in:\n",
      "    https://scikit-learn.org/stable/modules/preprocessing.html\n",
      "Please also refer to the documentation for alternative solver options:\n",
      "    https://scikit-learn.org/stable/modules/linear_model.html#logistic-regression\n",
      "  n_iter_i = _check_optimize_result(\n",
      "c:\\users\\mario\\appdata\\local\\programs\\python\\python39\\lib\\site-packages\\sklearn\\linear_model\\_logistic.py:814: ConvergenceWarning: lbfgs failed to converge (status=1):\n",
      "STOP: TOTAL NO. of ITERATIONS REACHED LIMIT.\n",
      "\n",
      "Increase the number of iterations (max_iter) or scale the data as shown in:\n",
      "    https://scikit-learn.org/stable/modules/preprocessing.html\n",
      "Please also refer to the documentation for alternative solver options:\n",
      "    https://scikit-learn.org/stable/modules/linear_model.html#logistic-regression\n",
      "  n_iter_i = _check_optimize_result(\n",
      "c:\\users\\mario\\appdata\\local\\programs\\python\\python39\\lib\\site-packages\\sklearn\\linear_model\\_logistic.py:814: ConvergenceWarning: lbfgs failed to converge (status=1):\n",
      "STOP: TOTAL NO. of ITERATIONS REACHED LIMIT.\n",
      "\n",
      "Increase the number of iterations (max_iter) or scale the data as shown in:\n",
      "    https://scikit-learn.org/stable/modules/preprocessing.html\n",
      "Please also refer to the documentation for alternative solver options:\n",
      "    https://scikit-learn.org/stable/modules/linear_model.html#logistic-regression\n",
      "  n_iter_i = _check_optimize_result(\n"
     ]
    }
   ],
   "source": [
    "y = df[\"BlueWin\"]\n",
    "\n",
    "lr = LogisticRegression()\n",
    "\n",
    "for i in range(1,16):\n",
    "    \n",
    "    X = df[[\"kd\"+str(i)+\"\",\"gd\"+str(i)+\"\",\"xpd\"+str(i)+\"\",\"csd\"+str(i)+\"\",\"dd\"+str(i)+\"\",\"hd\"+str(i)+\"\",\"td\"+str(i)+\"\",\"pd\"+str(i)+\"\",\"tdd\"+str(i)+\"\",\"wd\"+str(i)+\"\"]]\n",
    "    \n",
    "    X_train, X_test, y_train, y_test = train_test_split(X,y)\n",
    "    lr.fit(X_train, y_train)\n",
    "    \n",
    "    if i == 1:\n",
    "        importance = lr.coef_[0]\n",
    "    else:\n",
    "        importance = importance + lr.coef_[0]\n"
   ]
  },
  {
   "cell_type": "code",
   "execution_count": 35,
   "id": "2382f7fa",
   "metadata": {},
   "outputs": [],
   "source": [
    "fix_importance = importance/15"
   ]
  },
  {
   "cell_type": "code",
   "execution_count": 36,
   "id": "b4ecac92",
   "metadata": {},
   "outputs": [
    {
     "name": "stdout",
     "output_type": "stream",
     "text": [
      "Feature: kd, Score: 0.13358\n",
      "Feature: gd, Score: 0.00009\n",
      "Feature: xpd, Score: 0.00078\n",
      "Feature: csd, Score: -0.04423\n",
      "Feature: dd, Score: 0.05541\n",
      "Feature: hd, Score: 0.00259\n",
      "Feature: td, Score: 0.00533\n",
      "Feature: pd, Score: 0.04845\n",
      "Feature: tdd, Score: -0.00000\n",
      "Feature: wd, Score: 0.00077\n"
     ]
    },
    {
     "data": {
      "image/png": "[encoded data removed]",
      "text/plain": [
       "<Figure size 432x288 with 1 Axes>"
      ]
     },
     "metadata": {
      "needs_background": "light"
     },
     "output_type": "display_data"
    }
   ],
   "source": [
    "# summarize feature importance\n",
    "for i,v in enumerate(fix_importance):\n",
    "    print('Feature: '+X.axes[1][i][:-2]+', Score: %.5f' % (v))\n",
    "# plot feature importance\n",
    "pyplot.bar([x for x in range(len(importance))], importance)\n",
    "pyplot.show()"
   ]
  },
  {
   "cell_type": "markdown",
   "id": "edffa85c",
   "metadata": {},
   "source": [
    "Antes del primer dragón (minuto 0-5)"
   ]
  },
  {
   "cell_type": "code",
   "execution_count": 37,
   "id": "b9e0099f",
   "metadata": {},
   "outputs": [
    {
     "name": "stderr",
     "output_type": "stream",
     "text": [
      "c:\\users\\mario\\appdata\\local\\programs\\python\\python39\\lib\\site-packages\\sklearn\\linear_model\\_logistic.py:814: ConvergenceWarning: lbfgs failed to converge (status=1):\n",
      "STOP: TOTAL NO. of ITERATIONS REACHED LIMIT.\n",
      "\n",
      "Increase the number of iterations (max_iter) or scale the data as shown in:\n",
      "    https://scikit-learn.org/stable/modules/preprocessing.html\n",
      "Please also refer to the documentation for alternative solver options:\n",
      "    https://scikit-learn.org/stable/modules/linear_model.html#logistic-regression\n",
      "  n_iter_i = _check_optimize_result(\n"
     ]
    }
   ],
   "source": [
    "y = df[\"BlueWin\"]\n",
    "\n",
    "lr = LogisticRegression()\n",
    "\n",
    "for i in range(1,6):\n",
    "    \n",
    "    X = df[[\"kd\"+str(i)+\"\",\"gd\"+str(i)+\"\",\"xpd\"+str(i)+\"\",\"csd\"+str(i)+\"\",\"dd\"+str(i)+\"\",\"hd\"+str(i)+\"\",\"td\"+str(i)+\"\",\"pd\"+str(i)+\"\",\"tdd\"+str(i)+\"\",\"wd\"+str(i)+\"\"]]\n",
    "    \n",
    "    X_train, X_test, y_train, y_test = train_test_split(X,y)\n",
    "    lr.fit(X_train, y_train)\n",
    "    \n",
    "    if i == 1:\n",
    "        importance = lr.coef_[0]\n",
    "    else:\n",
    "        importance = importance + lr.coef_[0]\n"
   ]
  },
  {
   "cell_type": "code",
   "execution_count": 38,
   "id": "41bb647c",
   "metadata": {},
   "outputs": [],
   "source": [
    "fix_importance = importance/5"
   ]
  },
  {
   "cell_type": "code",
   "execution_count": 39,
   "id": "608fdb05",
   "metadata": {},
   "outputs": [
    {
     "name": "stdout",
     "output_type": "stream",
     "text": [
      "Feature: kd, Score: 0.26183\n",
      "Feature: gd, Score: 0.00006\n",
      "Feature: xpd, Score: 0.00029\n",
      "Feature: csd, Score: -0.06431\n",
      "Feature: dd, Score: 0.00000\n",
      "Feature: hd, Score: 0.00000\n",
      "Feature: td, Score: 0.00000\n",
      "Feature: pd, Score: -0.00156\n",
      "Feature: tdd, Score: 0.00002\n",
      "Feature: wd, Score: 0.00597\n"
     ]
    },
    {
     "data": {
      "image/png": "[encoded data removed]",
      "text/plain": [
       "<Figure size 432x288 with 1 Axes>"
      ]
     },
     "metadata": {
      "needs_background": "light"
     },
     "output_type": "display_data"
    }
   ],
   "source": [
    "# summarize feature importance\n",
    "for i,v in enumerate(fix_importance):\n",
    "    print('Feature: '+X.axes[1][i][:-1]+', Score: %.5f' % (v))\n",
    "# plot feature importance\n",
    "pyplot.bar([x for x in range(len(importance))], importance)\n",
    "pyplot.show()"
   ]
  },
  {
   "cell_type": "markdown",
   "id": "337e3ff6",
   "metadata": {},
   "source": [
    "Desde el primer dragón (minuto 5-15)"
   ]
  },
  {
   "cell_type": "code",
   "execution_count": 40,
   "id": "28439df5",
   "metadata": {
    "scrolled": true
   },
   "outputs": [
    {
     "name": "stderr",
     "output_type": "stream",
     "text": [
      "c:\\users\\mario\\appdata\\local\\programs\\python\\python39\\lib\\site-packages\\sklearn\\linear_model\\_logistic.py:814: ConvergenceWarning: lbfgs failed to converge (status=1):\n",
      "STOP: TOTAL NO. of ITERATIONS REACHED LIMIT.\n",
      "\n",
      "Increase the number of iterations (max_iter) or scale the data as shown in:\n",
      "    https://scikit-learn.org/stable/modules/preprocessing.html\n",
      "Please also refer to the documentation for alternative solver options:\n",
      "    https://scikit-learn.org/stable/modules/linear_model.html#logistic-regression\n",
      "  n_iter_i = _check_optimize_result(\n"
     ]
    }
   ],
   "source": [
    "y = df[\"BlueWin\"]\n",
    "\n",
    "lr = LogisticRegression()\n",
    "\n",
    "for i in range(5,16):\n",
    "    \n",
    "    X = df[[\"kd\"+str(i)+\"\",\"gd\"+str(i)+\"\",\"xpd\"+str(i)+\"\",\"csd\"+str(i)+\"\",\"dd\"+str(i)+\"\",\"hd\"+str(i)+\"\",\"td\"+str(i)+\"\",\"pd\"+str(i)+\"\",\"tdd\"+str(i)+\"\",\"wd\"+str(i)+\"\"]]\n",
    "    \n",
    "    X_train, X_test, y_train, y_test = train_test_split(X,y)\n",
    "    lr.fit(X_train, y_train)\n",
    "    \n",
    "    if i == 5:\n",
    "        importance = lr.coef_[0]\n",
    "    else:\n",
    "        importance = importance + lr.coef_[0]\n"
   ]
  },
  {
   "cell_type": "code",
   "execution_count": 41,
   "id": "4abfc6f4",
   "metadata": {},
   "outputs": [],
   "source": [
    "fix_importance = importance/11"
   ]
  },
  {
   "cell_type": "code",
   "execution_count": 42,
   "id": "3780e575",
   "metadata": {},
   "outputs": [
    {
     "name": "stdout",
     "output_type": "stream",
     "text": [
      "Feature: kd, Score: 0.08422\n",
      "Feature: gd, Score: 0.00007\n",
      "Feature: xpd, Score: 0.00006\n",
      "Feature: csd, Score: -0.00013\n",
      "Feature: dd, Score: 0.03085\n",
      "Feature: hd, Score: 0.00049\n",
      "Feature: td, Score: 0.00026\n",
      "Feature: pd, Score: 0.03820\n",
      "Feature: tdd, Score: -0.00001\n",
      "Feature: wd, Score: -0.00043\n"
     ]
    },
    {
     "data": {
      "image/png": "[encoded data removed]",
      "text/plain": [
       "<Figure size 432x288 with 1 Axes>"
      ]
     },
     "metadata": {
      "needs_background": "light"
     },
     "output_type": "display_data"
    }
   ],
   "source": [
    "# summarize feature importance\n",
    "for i,v in enumerate(fix_importance):\n",
    "    print('Feature: '+X.axes[1][i][:-2]+', Score: %.5f' % (v))\n",
    "# plot feature importance\n",
    "pyplot.bar([x for x in range(len(importance))], importance)\n",
    "pyplot.show()"
   ]
  },
  {
   "cell_type": "markdown",
   "id": "adcc2f92",
   "metadata": {},
   "source": [
    "Desde el primer heraldo (minuto 8-15)"
   ]
  },
  {
   "cell_type": "code",
   "execution_count": 43,
   "id": "befc74d6",
   "metadata": {},
   "outputs": [
    {
     "name": "stderr",
     "output_type": "stream",
     "text": [
      "c:\\users\\mario\\appdata\\local\\programs\\python\\python39\\lib\\site-packages\\sklearn\\linear_model\\_logistic.py:814: ConvergenceWarning: lbfgs failed to converge (status=1):\n",
      "STOP: TOTAL NO. of ITERATIONS REACHED LIMIT.\n",
      "\n",
      "Increase the number of iterations (max_iter) or scale the data as shown in:\n",
      "    https://scikit-learn.org/stable/modules/preprocessing.html\n",
      "Please also refer to the documentation for alternative solver options:\n",
      "    https://scikit-learn.org/stable/modules/linear_model.html#logistic-regression\n",
      "  n_iter_i = _check_optimize_result(\n",
      "c:\\users\\mario\\appdata\\local\\programs\\python\\python39\\lib\\site-packages\\sklearn\\linear_model\\_logistic.py:814: ConvergenceWarning: lbfgs failed to converge (status=1):\n",
      "STOP: TOTAL NO. of ITERATIONS REACHED LIMIT.\n",
      "\n",
      "Increase the number of iterations (max_iter) or scale the data as shown in:\n",
      "    https://scikit-learn.org/stable/modules/preprocessing.html\n",
      "Please also refer to the documentation for alternative solver options:\n",
      "    https://scikit-learn.org/stable/modules/linear_model.html#logistic-regression\n",
      "  n_iter_i = _check_optimize_result(\n"
     ]
    }
   ],
   "source": [
    "y = df[\"BlueWin\"]\n",
    "\n",
    "lr = LogisticRegression()\n",
    "\n",
    "for i in range(8,16):\n",
    "    X = df[[\"kd\"+str(i)+\"\",\"gd\"+str(i)+\"\",\"xpd\"+str(i)+\"\",\"csd\"+str(i)+\"\",\"dd\"+str(i)+\"\",\"hd\"+str(i)+\"\",\"td\"+str(i)+\"\",\"pd\"+str(i)+\"\",\"tdd\"+str(i)+\"\",\"wd\"+str(i)+\"\"]]\n",
    "    \n",
    "    X_train, X_test, y_train, y_test = train_test_split(X,y)\n",
    "    lr.fit(X_train, y_train)\n",
    "    \n",
    "    if i == 8:\n",
    "        importance = lr.coef_[0]\n",
    "    else:\n",
    "        importance = importance + lr.coef_[0]"
   ]
  },
  {
   "cell_type": "code",
   "execution_count": 44,
   "id": "cd4e49bc",
   "metadata": {},
   "outputs": [],
   "source": [
    "fix_importance = importance/8"
   ]
  },
  {
   "cell_type": "code",
   "execution_count": 45,
   "id": "033ccf9b",
   "metadata": {},
   "outputs": [
    {
     "name": "stdout",
     "output_type": "stream",
     "text": [
      "Feature: kd, Score: 0.15900\n",
      "Feature: gd, Score: 0.00001\n",
      "Feature: xpd, Score: 0.00003\n",
      "Feature: csd, Score: 0.00004\n",
      "Feature: dd, Score: 0.06734\n",
      "Feature: hd, Score: 0.00309\n",
      "Feature: td, Score: 0.01356\n",
      "Feature: pd, Score: 0.10595\n",
      "Feature: tdd, Score: -0.00001\n",
      "Feature: wd, Score: -0.00002\n"
     ]
    },
    {
     "data": {
      "image/png": "[encoded data removed]",
      "text/plain": [
       "<Figure size 432x288 with 1 Axes>"
      ]
     },
     "metadata": {
      "needs_background": "light"
     },
     "output_type": "display_data"
    }
   ],
   "source": [
    "# summarize feature importance\n",
    "for i,v in enumerate(fix_importance):\n",
    "    print('Feature: '+X.axes[1][i][:-2]+', Score: %.5f' % (v))\n",
    "# plot feature importance\n",
    "pyplot.bar([x for x in range(len(importance))], importance)\n",
    "pyplot.show()"
   ]
  },
  {
   "cell_type": "markdown",
   "id": "f7eec19f",
   "metadata": {},
   "source": [
    "-------------------------------------------------------------------------------------------------------------------------------"
   ]
  },
  {
   "cell_type": "markdown",
   "id": "536c79f6",
   "metadata": {},
   "source": [
    "-------------------------------------------------------------------------------------------------------"
   ]
  },
  {
   "cell_type": "markdown",
   "id": "b100356b",
   "metadata": {},
   "source": [
    "Añadiendo el data de la partida para poder predecir el resultado"
   ]
  },
  {
   "cell_type": "code",
   "execution_count": 52,
   "id": "a6b80f65",
   "metadata": {
    "scrolled": false
   },
   "outputs": [
    {
     "data": {
      "text/html": [
       "<div>\n",
       "<style scoped>\n",
       "    .dataframe tbody tr th:only-of-type {\n",
       "        vertical-align: middle;\n",
       "    }\n",
       "\n",
       "    .dataframe tbody tr th {\n",
       "        vertical-align: top;\n",
       "    }\n",
       "\n",
       "    .dataframe thead th {\n",
       "        text-align: right;\n",
       "    }\n",
       "</style>\n",
       "<table border=\"1\" class=\"dataframe\">\n",
       "  <thead>\n",
       "    <tr style=\"text-align: right;\">\n",
       "      <th></th>\n",
       "      <th>kd1</th>\n",
       "      <th>gd1</th>\n",
       "      <th>xpd1</th>\n",
       "      <th>csd1</th>\n",
       "      <th>dd1</th>\n",
       "      <th>hd1</th>\n",
       "      <th>td1</th>\n",
       "      <th>pd1</th>\n",
       "      <th>tdd1</th>\n",
       "      <th>wd1</th>\n",
       "      <th>...</th>\n",
       "      <th>gd15</th>\n",
       "      <th>xpd15</th>\n",
       "      <th>csd15</th>\n",
       "      <th>dd15</th>\n",
       "      <th>hd15</th>\n",
       "      <th>td15</th>\n",
       "      <th>pd15</th>\n",
       "      <th>tdd15</th>\n",
       "      <th>wd15</th>\n",
       "      <th>BlueWin</th>\n",
       "    </tr>\n",
       "    <tr>\n",
       "      <th>gameId</th>\n",
       "      <th></th>\n",
       "      <th></th>\n",
       "      <th></th>\n",
       "      <th></th>\n",
       "      <th></th>\n",
       "      <th></th>\n",
       "      <th></th>\n",
       "      <th></th>\n",
       "      <th></th>\n",
       "      <th></th>\n",
       "      <th></th>\n",
       "      <th></th>\n",
       "      <th></th>\n",
       "      <th></th>\n",
       "      <th></th>\n",
       "      <th></th>\n",
       "      <th></th>\n",
       "      <th></th>\n",
       "      <th></th>\n",
       "      <th></th>\n",
       "      <th></th>\n",
       "    </tr>\n",
       "  </thead>\n",
       "  <tbody>\n",
       "    <tr>\n",
       "      <th>EUW1_5921666749</th>\n",
       "      <td>0</td>\n",
       "      <td>0</td>\n",
       "      <td>0</td>\n",
       "      <td>0</td>\n",
       "      <td>0</td>\n",
       "      <td>0</td>\n",
       "      <td>0</td>\n",
       "      <td>0</td>\n",
       "      <td>0</td>\n",
       "      <td>2</td>\n",
       "      <td>...</td>\n",
       "      <td>2563</td>\n",
       "      <td>1124</td>\n",
       "      <td>26</td>\n",
       "      <td>-1</td>\n",
       "      <td>1</td>\n",
       "      <td>-1</td>\n",
       "      <td>0</td>\n",
       "      <td>8791</td>\n",
       "      <td>8</td>\n",
       "      <td>True</td>\n",
       "    </tr>\n",
       "  </tbody>\n",
       "</table>\n",
       "<p>1 rows × 151 columns</p>\n",
       "</div>"
      ],
      "text/plain": [
       "                 kd1  gd1  xpd1  csd1  dd1  hd1  td1  pd1  tdd1  wd1  ...  \\\n",
       "gameId                                                                ...   \n",
       "EUW1_5921666749    0    0     0     0    0    0    0    0     0    2  ...   \n",
       "\n",
       "                 gd15  xpd15  csd15  dd15  hd15  td15  pd15  tdd15  wd15  \\\n",
       "gameId                                                                     \n",
       "EUW1_5921666749  2563   1124     26    -1     1    -1     0   8791     8   \n",
       "\n",
       "                 BlueWin  \n",
       "gameId                    \n",
       "EUW1_5921666749     True  \n",
       "\n",
       "[1 rows x 151 columns]"
      ]
     },
     "execution_count": 52,
     "metadata": {},
     "output_type": "execute_result"
    }
   ],
   "source": [
    "data = {}\n",
    "kills = 0;ekills = 0\n",
    "gold = 0;egold = 0\n",
    "xp = 0;exp = 0\n",
    "cs = 0;ecs = 0\n",
    "drakes = 0;edrakes = 0\n",
    "heralds = 0;eheralds = 0\n",
    "towers = 0;etowers = 0\n",
    "plates = 0;eplates= 0\n",
    "dmg = 0;edmg = 0\n",
    "wards = 0;ewards = 0\n",
    "\n",
    "response = requests.get(\"https://europe.api.riotgames.com/lol/match/v5/matches/\"+gameid+\"/timeline?api_key=\"+api_key+\"\").json()\n",
    "        \n",
    "#First 15min loop                                \n",
    "for j in range(1,16):\n",
    "\n",
    "    #Events loop\n",
    "    for k in range(0,len(response[\"info\"][\"frames\"][j][\"events\"])):\n",
    "\n",
    "        #KillsDiff\n",
    "        if response[\"info\"][\"frames\"][j][\"events\"][k][\"type\"] == \"CHAMPION_KILL\":\n",
    "            if response[\"info\"][\"frames\"][j][\"events\"][k][\"killerId\"] <= 5:\n",
    "                kills += 1\n",
    "            else:\n",
    "                ekills += 1 \n",
    "\n",
    "        #DrakesDiff & HeraldsDiff\n",
    "        if response[\"info\"][\"frames\"][j][\"events\"][k][\"type\"] == \"ELITE_MONSTER_KILL\":\n",
    "            if response[\"info\"][\"frames\"][j][\"events\"][k][\"monsterType\"] == \"DRAGON\": \n",
    "                if response[\"info\"][\"frames\"][j][\"events\"][k][\"killerId\"] <= 5:\n",
    "                    drakes += 1\n",
    "                else:\n",
    "                    edrakes += 1 \n",
    "\n",
    "            elif response[\"info\"][\"frames\"][j][\"events\"][k][\"monsterType\"] == \"RIFTHERALD\":\n",
    "                if response[\"info\"][\"frames\"][j][\"events\"][k][\"killerId\"] <= 5:\n",
    "                    heralds += 1\n",
    "                else:\n",
    "                    eheralds += 1\n",
    "\n",
    "        #TowersDiff\n",
    "        if response[\"info\"][\"frames\"][j][\"events\"][k][\"type\"] == \"BUILDING_KILL\":\n",
    "            if response[\"info\"][\"frames\"][j][\"events\"][k][\"buildingType\"] == \"TOWER_BUILDING\":\n",
    "                if response[\"info\"][\"frames\"][j][\"events\"][k][\"teamId\"] == 200:\n",
    "                    towers += 1\n",
    "                else:\n",
    "                    etowers += 1\n",
    "\n",
    "        #PlatesDiff\n",
    "        if response[\"info\"][\"frames\"][j][\"events\"][k][\"type\"] == \"TURRET_PLATE_DESTROYED\":\n",
    "            if response[\"info\"][\"frames\"][j][\"events\"][k][\"teamId\"] == 200:\n",
    "                plates += 1\n",
    "            else:\n",
    "                eplates += 1\n",
    "\n",
    "        #WardsDiff\n",
    "        if response[\"info\"][\"frames\"][j][\"events\"][k][\"type\"] == \"WARD_PLACED\":\n",
    "            if response[\"info\"][\"frames\"][j][\"events\"][k][\"creatorId\"] <= 5:\n",
    "                wards += 1\n",
    "            else:\n",
    "                ewards += 1\n",
    "\n",
    "\n",
    "    #Players Loop\n",
    "    for k in range(1,11):\n",
    "\n",
    "        #GoldDiff\n",
    "        if k <= 5:\n",
    "            gold += response[\"info\"][\"frames\"][j][\"participantFrames\"][str(k)][\"totalGold\"]\n",
    "        else:\n",
    "            egold += response[\"info\"][\"frames\"][j][\"participantFrames\"][str(k)][\"totalGold\"]\n",
    "\n",
    "        #XpDiff\n",
    "        if k <= 5:\n",
    "            xp += response[\"info\"][\"frames\"][j][\"participantFrames\"][str(k)][\"xp\"]\n",
    "        else:\n",
    "            exp += response[\"info\"][\"frames\"][j][\"participantFrames\"][str(k)][\"xp\"]  \n",
    "\n",
    "        #CsDiff\n",
    "        if k <= 5:\n",
    "            cs += response[\"info\"][\"frames\"][j][\"participantFrames\"][str(k)][\"minionsKilled\"] + response[\"info\"][\"frames\"][j][\"participantFrames\"][str(k)][\"jungleMinionsKilled\"]\n",
    "        else:\n",
    "            ecs += response[\"info\"][\"frames\"][j][\"participantFrames\"][str(k)][\"minionsKilled\"] + response[\"info\"][\"frames\"][j][\"participantFrames\"][str(k)][\"jungleMinionsKilled\"]\n",
    "\n",
    "        #DmgDiff\n",
    "        if k <= 5:\n",
    "            dmg += response[\"info\"][\"frames\"][j][\"participantFrames\"][str(k)][\"damageStats\"][\"totalDamageDoneToChampions\"]\n",
    "        else:\n",
    "            edmg += response[\"info\"][\"frames\"][j][\"participantFrames\"][str(k)][\"damageStats\"][\"totalDamageDoneToChampions\"]\n",
    "\n",
    "\n",
    "    #Final append to dict\n",
    "    data[\"kd\"+str(j)+\"\"] = [kills - ekills]\n",
    "    data[\"gd\"+str(j)+\"\"] = [gold - egold]\n",
    "    data[\"xpd\"+str(j)+\"\"] = [xp - exp]\n",
    "    data[\"csd\"+str(j)+\"\"] = [cs - ecs]\n",
    "    data[\"dd\"+str(j)+\"\"] =[drakes - edrakes]\n",
    "    data[\"hd\"+str(j)+\"\"] = [heralds - eheralds]\n",
    "    data[\"td\"+str(j)+\"\"] = [towers - etowers]\n",
    "    data[\"pd\"+str(j)+\"\"] = [plates - eplates]\n",
    "    data[\"tdd\"+str(j)+\"\"] = [dmg - edmg]\n",
    "    data[\"wd\"+str(j)+\"\"] = [wards - ewards]\n",
    "    \n",
    "    kills = 0;ekills = 0\n",
    "    gold = 0;egold = 0\n",
    "    xp = 0;exp = 0\n",
    "    cs = 0;ecs = 0\n",
    "    drakes = 0;edrakes = 0\n",
    "    heralds = 0;eheralds = 0\n",
    "    towers = 0;etowers = 0\n",
    "    plates = 0;eplates= 0\n",
    "    dmg = 0;edmg = 0\n",
    "    wards = 0;ewards = 0\n",
    "    \n",
    "for k in range(0,len(response[\"info\"][\"frames\"][len(response[\"info\"][\"frames\"])-1][\"events\"])):\n",
    "        if response[\"info\"][\"frames\"][len(response[\"info\"][\"frames\"])-1][\"events\"][k][\"type\"] == \"GAME_END\":\n",
    "            if response[\"info\"][\"frames\"][len(response[\"info\"][\"frames\"])-1][\"events\"][k][\"winningTeam\"] == 100:\n",
    "                data[\"BlueWin\"] = True\n",
    "            else:\n",
    "                data[\"BlueWin\"] = False \n",
    "    \n",
    "data[\"gameId\"] = [gameid]\n",
    "\n",
    "df_temp = pd.DataFrame(data)\n",
    "df_temp.set_index('gameId') "
   ]
  },
  {
   "cell_type": "code",
   "execution_count": 63,
   "id": "3342c588",
   "metadata": {},
   "outputs": [],
   "source": [
    "lgb.LGBMClassifier?"
   ]
  },
  {
   "cell_type": "markdown",
   "id": "943dcf6c",
   "metadata": {},
   "source": [
    " "
   ]
  },
  {
   "cell_type": "code",
   "execution_count": 88,
   "id": "022ed898",
   "metadata": {
    "scrolled": true
   },
   "outputs": [
    {
     "name": "stdout",
     "output_type": "stream",
     "text": [
      "[0.48450399 0.51549601]\n",
      "[0.34422668 0.65577332]\n",
      "[0.41051082 0.58948918]\n",
      "[0.4504728 0.5495272]\n",
      "[0.34942721 0.65057279]\n",
      "[0.468388 0.531612]\n",
      "[0.40540826 0.59459174]\n",
      "[0.39888559 0.60111441]\n",
      "[0.51742087 0.48257913]\n",
      "[0.56961082 0.43038918]\n",
      "[0.34628958 0.65371042]\n",
      "[0.41741552 0.58258448]\n",
      "[0.40453571 0.59546429]\n",
      "[0.43095033 0.56904967]\n",
      "[0.7335603 0.2664397]\n"
     ]
    }
   ],
   "source": [
    "import warnings\n",
    "warnings.filterwarnings('ignore')\n",
    "lgbm_model = lgb.LGBMClassifier(boosting_type='gbdt',num_leaves=50,max_depth=5,is_unbalance=False)\n",
    "winner_team = []\n",
    "probs = []\n",
    "for i in range(1,16):\n",
    "    X = df[[\"kd\"+str(i)+\"\",\"gd\"+str(i)+\"\",\"xpd\"+str(i)+\"\",\"csd\"+str(i)+\"\",\"dd\"+str(i)+\"\",\"hd\"+str(i)+\"\",\"td\"+str(i)+\"\",\"pd\"+str(i)+\"\",\"tdd\"+str(i)+\"\",\"wd\"+str(i)+\"\"]]\n",
    "    X[\"gd\"+str(i)] = X[\"gd\"+str(i)].astype('int32')\n",
    "    lgbm_model.fit(X, y)\n",
    "    Xnew = df_temp[[\"kd\"+str(i)+\"\",\"gd\"+str(i)+\"\",\"xpd\"+str(i)+\"\",\"csd\"+str(i)+\"\",\"dd\"+str(i)+\"\",\"hd\"+str(i)+\"\",\"td\"+str(i)+\"\",\"pd\"+str(i)+\"\",\"tdd\"+str(i)+\"\",\"wd\"+str(i)+\"\"]]\n",
    "    Xnew[\"gd\"+str(i)] = Xnew[\"gd\"+str(i)].astype('int32')\n",
    "    if lgbm_model.predict_proba(Xnew)[0][1] > lgbm_model.predict_proba(Xnew)[0][0]:\n",
    "        probs.append(lgbm_model.predict_proba(Xnew)[0])\n",
    "        winner_team.append(\"Blue Team\")\n",
    "    else:\n",
    "        probs.append(lgbm_model.predict_proba(Xnew)[0])\n",
    "        winner_team.append(\"Red Team\")\n",
    "    print(lgbm_model.predict_proba(Xnew)[0])"
   ]
  },
  {
   "cell_type": "markdown",
   "id": "f0a691a1",
   "metadata": {},
   "source": [
    "# Visualización"
   ]
  },
  {
   "cell_type": "code",
   "execution_count": 89,
   "id": "079b97e5",
   "metadata": {
    "scrolled": true
   },
   "outputs": [
    {
     "data": {
      "image/png": "[encoded data removed]",
      "text/plain": [
       "<Figure size 432x288 with 1 Axes>"
      ]
     },
     "metadata": {},
     "output_type": "display_data"
    }
   ],
   "source": [
    "labels = ['Blue', 'Red']\n",
    "\n",
    "colores = ['#6fa8dc','#e06666']\n",
    "\n",
    "for i in range(15):\n",
    "    clear_output(wait=True)\n",
    "    sizes = [(probs[i][1])*100, (probs[i][0])*100]\n",
    "    \n",
    "    fig1, ax1 = plt.subplots()\n",
    "    ax1.pie(sizes, labels=labels,colors=colores, autopct='%1.1f%%',shadow=True, startangle=90)\n",
    "    ax1.axis('equal')  # Equal aspect ratio ensures that pie is drawn as a circle.\n",
    "    plt.title(\"Side win rate\")\n",
    "    plt.xlabel(\"Minuto \"+str(i+1))\n",
    "    plt.show()\n",
    "    time.sleep(3)"
   ]
  },
  {
   "cell_type": "code",
   "execution_count": 49,
   "id": "fb3afc77",
   "metadata": {},
   "outputs": [
    {
     "data": {
      "text/plain": [
       "<function matplotlib.pyplot.clf()>"
      ]
     },
     "execution_count": 49,
     "metadata": {},
     "output_type": "execute_result"
    }
   ],
   "source": [
    "plt.clf"
   ]
  },
  {
   "cell_type": "code",
   "execution_count": 90,
   "id": "986f61b1",
   "metadata": {},
   "outputs": [
    {
     "data": {
      "application/vnd.plotly.v1+json": {
       "config": {
        "plotlyServerURL": "https://plot.ly"
       },
       "data": [
        {
         "hole": 0.5,
         "hoverinfo": "skip",
         "marker": {
          "colors": [
           "#FFFFFF",
           "#2bad4e",
           "#eff229",
           "#f25829"
          ]
         },
         "rotation": 90,
         "text": [
          "",
          "<b>Alta</b>",
          "<b>Media</b>",
          "<b>Baja</b>"
         ],
         "textinfo": "text",
         "type": "pie",
         "values": [
          0.5,
          0.16666666666666666,
          0.16666666666666666,
          0.16666666666666666
         ]
        }
       ],
       "layout": {
        "annotations": [
         {
          "showarrow": false,
          "text": "<b>Probabilidad de victoria al min 14:</b><br>73.0%",
          "x": 0.5,
          "xanchor": "center",
          "xref": "paper",
          "y": 0.25,
          "yanchor": "bottom",
          "yref": "paper"
         }
        ],
        "height": 450,
        "margin": {
         "b": 0,
         "l": 10,
         "r": 10,
         "t": 10
        },
        "shapes": [
         {
          "fillcolor": "#333",
          "line": {
           "color": "#333"
          },
          "type": "circle",
          "x0": 0.48,
          "x1": 0.52,
          "y0": 0.48,
          "y1": 0.52
         },
         {
          "line": {
           "color": "#333",
           "width": 4
          },
          "type": "line",
          "x0": 0.5,
          "x1": 0.736760682736028,
          "y0": 0.5,
          "y1": 0.7625726168326963
         }
        ],
        "showlegend": false,
        "template": {
         "data": {
          "bar": [
           {
            "error_x": {
             "color": "#2a3f5f"
            },
            "error_y": {
             "color": "#2a3f5f"
            },
            "marker": {
             "line": {
              "color": "#E5ECF6",
              "width": 0.5
             },
             "pattern": {
              "fillmode": "overlay",
              "size": 10,
              "solidity": 0.2
             }
            },
            "type": "bar"
           }
          ],
          "barpolar": [
           {
            "marker": {
             "line": {
              "color": "#E5ECF6",
              "width": 0.5
             },
             "pattern": {
              "fillmode": "overlay",
              "size": 10,
              "solidity": 0.2
             }
            },
            "type": "barpolar"
           }
          ],
          "carpet": [
           {
            "aaxis": {
             "endlinecolor": "#2a3f5f",
             "gridcolor": "white",
             "linecolor": "white",
             "minorgridcolor": "white",
             "startlinecolor": "#2a3f5f"
            },
            "baxis": {
             "endlinecolor": "#2a3f5f",
             "gridcolor": "white",
             "linecolor": "white",
             "minorgridcolor": "white",
             "startlinecolor": "#2a3f5f"
            },
            "type": "carpet"
           }
          ],
          "choropleth": [
           {
            "colorbar": {
             "outlinewidth": 0,
             "ticks": ""
            },
            "type": "choropleth"
           }
          ],
          "contour": [
           {
            "colorbar": {
             "outlinewidth": 0,
             "ticks": ""
            },
            "colorscale": [
             [
              0,
              "#0d0887"
             ],
             [
              0.1111111111111111,
              "#46039f"
             ],
             [
              0.2222222222222222,
              "#7201a8"
             ],
             [
              0.3333333333333333,
              "#9c179e"
             ],
             [
              0.4444444444444444,
              "#bd3786"
             ],
             [
              0.5555555555555556,
              "#d8576b"
             ],
             [
              0.6666666666666666,
              "#ed7953"
             ],
             [
              0.7777777777777778,
              "#fb9f3a"
             ],
             [
              0.8888888888888888,
              "#fdca26"
             ],
             [
              1,
              "#f0f921"
             ]
            ],
            "type": "contour"
           }
          ],
          "contourcarpet": [
           {
            "colorbar": {
             "outlinewidth": 0,
             "ticks": ""
            },
            "type": "contourcarpet"
           }
          ],
          "heatmap": [
           {
            "colorbar": {
             "outlinewidth": 0,
             "ticks": ""
            },
            "colorscale": [
             [
              0,
              "#0d0887"
             ],
             [
              0.1111111111111111,
              "#46039f"
             ],
             [
              0.2222222222222222,
              "#7201a8"
             ],
             [
              0.3333333333333333,
              "#9c179e"
             ],
             [
              0.4444444444444444,
              "#bd3786"
             ],
             [
              0.5555555555555556,
              "#d8576b"
             ],
             [
              0.6666666666666666,
              "#ed7953"
             ],
             [
              0.7777777777777778,
              "#fb9f3a"
             ],
             [
              0.8888888888888888,
              "#fdca26"
             ],
             [
              1,
              "#f0f921"
             ]
            ],
            "type": "heatmap"
           }
          ],
          "heatmapgl": [
           {
            "colorbar": {
             "outlinewidth": 0,
             "ticks": ""
            },
            "colorscale": [
             [
              0,
              "#0d0887"
             ],
             [
              0.1111111111111111,
              "#46039f"
             ],
             [
              0.2222222222222222,
              "#7201a8"
             ],
             [
              0.3333333333333333,
              "#9c179e"
             ],
             [
              0.4444444444444444,
              "#bd3786"
             ],
             [
              0.5555555555555556,
              "#d8576b"
             ],
             [
              0.6666666666666666,
              "#ed7953"
             ],
             [
              0.7777777777777778,
              "#fb9f3a"
             ],
             [
              0.8888888888888888,
              "#fdca26"
             ],
             [
              1,
              "#f0f921"
             ]
            ],
            "type": "heatmapgl"
           }
          ],
          "histogram": [
           {
            "marker": {
             "pattern": {
              "fillmode": "overlay",
              "size": 10,
              "solidity": 0.2
             }
            },
            "type": "histogram"
           }
          ],
          "histogram2d": [
           {
            "colorbar": {
             "outlinewidth": 0,
             "ticks": ""
            },
            "colorscale": [
             [
              0,
              "#0d0887"
             ],
             [
              0.1111111111111111,
              "#46039f"
             ],
             [
              0.2222222222222222,
              "#7201a8"
             ],
             [
              0.3333333333333333,
              "#9c179e"
             ],
             [
              0.4444444444444444,
              "#bd3786"
             ],
             [
              0.5555555555555556,
              "#d8576b"
             ],
             [
              0.6666666666666666,
              "#ed7953"
             ],
             [
              0.7777777777777778,
              "#fb9f3a"
             ],
             [
              0.8888888888888888,
              "#fdca26"
             ],
             [
              1,
              "#f0f921"
             ]
            ],
            "type": "histogram2d"
           }
          ],
          "histogram2dcontour": [
           {
            "colorbar": {
             "outlinewidth": 0,
             "ticks": ""
            },
            "colorscale": [
             [
              0,
              "#0d0887"
             ],
             [
              0.1111111111111111,
              "#46039f"
             ],
             [
              0.2222222222222222,
              "#7201a8"
             ],
             [
              0.3333333333333333,
              "#9c179e"
             ],
             [
              0.4444444444444444,
              "#bd3786"
             ],
             [
              0.5555555555555556,
              "#d8576b"
             ],
             [
              0.6666666666666666,
              "#ed7953"
             ],
             [
              0.7777777777777778,
              "#fb9f3a"
             ],
             [
              0.8888888888888888,
              "#fdca26"
             ],
             [
              1,
              "#f0f921"
             ]
            ],
            "type": "histogram2dcontour"
           }
          ],
          "mesh3d": [
           {
            "colorbar": {
             "outlinewidth": 0,
             "ticks": ""
            },
            "type": "mesh3d"
           }
          ],
          "parcoords": [
           {
            "line": {
             "colorbar": {
              "outlinewidth": 0,
              "ticks": ""
             }
            },
            "type": "parcoords"
           }
          ],
          "pie": [
           {
            "automargin": true,
            "type": "pie"
           }
          ],
          "scatter": [
           {
            "fillpattern": {
             "fillmode": "overlay",
             "size": 10,
             "solidity": 0.2
            },
            "type": "scatter"
           }
          ],
          "scatter3d": [
           {
            "line": {
             "colorbar": {
              "outlinewidth": 0,
              "ticks": ""
             }
            },
            "marker": {
             "colorbar": {
              "outlinewidth": 0,
              "ticks": ""
             }
            },
            "type": "scatter3d"
           }
          ],
          "scattercarpet": [
           {
            "marker": {
             "colorbar": {
              "outlinewidth": 0,
              "ticks": ""
             }
            },
            "type": "scattercarpet"
           }
          ],
          "scattergeo": [
           {
            "marker": {
             "colorbar": {
              "outlinewidth": 0,
              "ticks": ""
             }
            },
            "type": "scattergeo"
           }
          ],
          "scattergl": [
           {
            "marker": {
             "colorbar": {
              "outlinewidth": 0,
              "ticks": ""
             }
            },
            "type": "scattergl"
           }
          ],
          "scattermapbox": [
           {
            "marker": {
             "colorbar": {
              "outlinewidth": 0,
              "ticks": ""
             }
            },
            "type": "scattermapbox"
           }
          ],
          "scatterpolar": [
           {
            "marker": {
             "colorbar": {
              "outlinewidth": 0,
              "ticks": ""
             }
            },
            "type": "scatterpolar"
           }
          ],
          "scatterpolargl": [
           {
            "marker": {
             "colorbar": {
              "outlinewidth": 0,
              "ticks": ""
             }
            },
            "type": "scatterpolargl"
           }
          ],
          "scatterternary": [
           {
            "marker": {
             "colorbar": {
              "outlinewidth": 0,
              "ticks": ""
             }
            },
            "type": "scatterternary"
           }
          ],
          "surface": [
           {
            "colorbar": {
             "outlinewidth": 0,
             "ticks": ""
            },
            "colorscale": [
             [
              0,
              "#0d0887"
             ],
             [
              0.1111111111111111,
              "#46039f"
             ],
             [
              0.2222222222222222,
              "#7201a8"
             ],
             [
              0.3333333333333333,
              "#9c179e"
             ],
             [
              0.4444444444444444,
              "#bd3786"
             ],
             [
              0.5555555555555556,
              "#d8576b"
             ],
             [
              0.6666666666666666,
              "#ed7953"
             ],
             [
              0.7777777777777778,
              "#fb9f3a"
             ],
             [
              0.8888888888888888,
              "#fdca26"
             ],
             [
              1,
              "#f0f921"
             ]
            ],
            "type": "surface"
           }
          ],
          "table": [
           {
            "cells": {
             "fill": {
              "color": "#EBF0F8"
             },
             "line": {
              "color": "white"
             }
            },
            "header": {
             "fill": {
              "color": "#C8D4E3"
             },
             "line": {
              "color": "white"
             }
            },
            "type": "table"
           }
          ]
         },
         "layout": {
          "annotationdefaults": {
           "arrowcolor": "#2a3f5f",
           "arrowhead": 0,
           "arrowwidth": 1
          },
          "autotypenumbers": "strict",
          "coloraxis": {
           "colorbar": {
            "outlinewidth": 0,
            "ticks": ""
           }
          },
          "colorscale": {
           "diverging": [
            [
             0,
             "#8e0152"
            ],
            [
             0.1,
             "#c51b7d"
            ],
            [
             0.2,
             "#de77ae"
            ],
            [
             0.3,
             "#f1b6da"
            ],
            [
             0.4,
             "#fde0ef"
            ],
            [
             0.5,
             "#f7f7f7"
            ],
            [
             0.6,
             "#e6f5d0"
            ],
            [
             0.7,
             "#b8e186"
            ],
            [
             0.8,
             "#7fbc41"
            ],
            [
             0.9,
             "#4d9221"
            ],
            [
             1,
             "#276419"
            ]
           ],
           "sequential": [
            [
             0,
             "#0d0887"
            ],
            [
             0.1111111111111111,
             "#46039f"
            ],
            [
             0.2222222222222222,
             "#7201a8"
            ],
            [
             0.3333333333333333,
             "#9c179e"
            ],
            [
             0.4444444444444444,
             "#bd3786"
            ],
            [
             0.5555555555555556,
             "#d8576b"
            ],
            [
             0.6666666666666666,
             "#ed7953"
            ],
            [
             0.7777777777777778,
             "#fb9f3a"
            ],
            [
             0.8888888888888888,
             "#fdca26"
            ],
            [
             1,
             "#f0f921"
            ]
           ],
           "sequentialminus": [
            [
             0,
             "#0d0887"
            ],
            [
             0.1111111111111111,
             "#46039f"
            ],
            [
             0.2222222222222222,
             "#7201a8"
            ],
            [
             0.3333333333333333,
             "#9c179e"
            ],
            [
             0.4444444444444444,
             "#bd3786"
            ],
            [
             0.5555555555555556,
             "#d8576b"
            ],
            [
             0.6666666666666666,
             "#ed7953"
            ],
            [
             0.7777777777777778,
             "#fb9f3a"
            ],
            [
             0.8888888888888888,
             "#fdca26"
            ],
            [
             1,
             "#f0f921"
            ]
           ]
          },
          "colorway": [
           "#636efa",
           "#EF553B",
           "#00cc96",
           "#ab63fa",
           "#FFA15A",
           "#19d3f3",
           "#FF6692",
           "#B6E880",
           "#FF97FF",
           "#FECB52"
          ],
          "font": {
           "color": "#2a3f5f"
          },
          "geo": {
           "bgcolor": "white",
           "lakecolor": "white",
           "landcolor": "#E5ECF6",
           "showlakes": true,
           "showland": true,
           "subunitcolor": "white"
          },
          "hoverlabel": {
           "align": "left"
          },
          "hovermode": "closest",
          "mapbox": {
           "style": "light"
          },
          "paper_bgcolor": "white",
          "plot_bgcolor": "#E5ECF6",
          "polar": {
           "angularaxis": {
            "gridcolor": "white",
            "linecolor": "white",
            "ticks": ""
           },
           "bgcolor": "#E5ECF6",
           "radialaxis": {
            "gridcolor": "white",
            "linecolor": "white",
            "ticks": ""
           }
          },
          "scene": {
           "xaxis": {
            "backgroundcolor": "#E5ECF6",
            "gridcolor": "white",
            "gridwidth": 2,
            "linecolor": "white",
            "showbackground": true,
            "ticks": "",
            "zerolinecolor": "white"
           },
           "yaxis": {
            "backgroundcolor": "#E5ECF6",
            "gridcolor": "white",
            "gridwidth": 2,
            "linecolor": "white",
            "showbackground": true,
            "ticks": "",
            "zerolinecolor": "white"
           },
           "zaxis": {
            "backgroundcolor": "#E5ECF6",
            "gridcolor": "white",
            "gridwidth": 2,
            "linecolor": "white",
            "showbackground": true,
            "ticks": "",
            "zerolinecolor": "white"
           }
          },
          "shapedefaults": {
           "line": {
            "color": "#2a3f5f"
           }
          },
          "ternary": {
           "aaxis": {
            "gridcolor": "white",
            "linecolor": "white",
            "ticks": ""
           },
           "baxis": {
            "gridcolor": "white",
            "linecolor": "white",
            "ticks": ""
           },
           "bgcolor": "#E5ECF6",
           "caxis": {
            "gridcolor": "white",
            "linecolor": "white",
            "ticks": ""
           }
          },
          "title": {
           "x": 0.05
          },
          "xaxis": {
           "automargin": true,
           "gridcolor": "white",
           "linecolor": "white",
           "ticks": "",
           "title": {
            "standoff": 15
           },
           "zerolinecolor": "white",
           "zerolinewidth": 2
          },
          "yaxis": {
           "automargin": true,
           "gridcolor": "white",
           "linecolor": "white",
           "ticks": "",
           "title": {
            "standoff": 15
           },
           "zerolinecolor": "white",
           "zerolinewidth": 2
          }
         }
        },
        "width": 450
       }
      },
      "text/html": [
       "<div>                            <div id=\"16ccfdb4-392e-4cd0-a080-fe83e989ddbf\" class=\"plotly-graph-div\" style=\"height:450px; width:450px;\"></div>            <script type=\"text/javascript\">                require([\"plotly\"], function(Plotly) {                    window.PLOTLYENV=window.PLOTLYENV || {};                                    if (document.getElementById(\"16ccfdb4-392e-4cd0-a080-fe83e989ddbf\")) {                    Plotly.newPlot(                        \"16ccfdb4-392e-4cd0-a080-fe83e989ddbf\",                        [{\"hole\":0.5,\"hoverinfo\":\"skip\",\"marker\":{\"colors\":[\"#FFFFFF\",\"#2bad4e\",\"#eff229\",\"#f25829\"]},\"rotation\":90,\"text\":[\"\",\"<b>Alta</b>\",\"<b>Media</b>\",\"<b>Baja</b>\"],\"textinfo\":\"text\",\"values\":[0.5,0.16666666666666666,0.16666666666666666,0.16666666666666666],\"type\":\"pie\"}],                        {\"annotations\":[{\"showarrow\":false,\"text\":\"<b>Probabilidad de victoria al min 14:</b><br>73.0%\",\"x\":0.5,\"xanchor\":\"center\",\"xref\":\"paper\",\"y\":0.25,\"yanchor\":\"bottom\",\"yref\":\"paper\"}],\"height\":450,\"margin\":{\"b\":0,\"l\":10,\"r\":10,\"t\":10},\"shapes\":[{\"fillcolor\":\"#333\",\"line\":{\"color\":\"#333\"},\"type\":\"circle\",\"x0\":0.48,\"x1\":0.52,\"y0\":0.48,\"y1\":0.52},{\"line\":{\"color\":\"#333\",\"width\":4},\"type\":\"line\",\"x0\":0.5,\"x1\":0.736760682736028,\"y0\":0.5,\"y1\":0.7625726168326963}],\"showlegend\":false,\"width\":450,\"template\":{\"data\":{\"histogram2dcontour\":[{\"type\":\"histogram2dcontour\",\"colorbar\":{\"outlinewidth\":0,\"ticks\":\"\"},\"colorscale\":[[0.0,\"#0d0887\"],[0.1111111111111111,\"#46039f\"],[0.2222222222222222,\"#7201a8\"],[0.3333333333333333,\"#9c179e\"],[0.4444444444444444,\"#bd3786\"],[0.5555555555555556,\"#d8576b\"],[0.6666666666666666,\"#ed7953\"],[0.7777777777777778,\"#fb9f3a\"],[0.8888888888888888,\"#fdca26\"],[1.0,\"#f0f921\"]]}],\"choropleth\":[{\"type\":\"choropleth\",\"colorbar\":{\"outlinewidth\":0,\"ticks\":\"\"}}],\"histogram2d\":[{\"type\":\"histogram2d\",\"colorbar\":{\"outlinewidth\":0,\"ticks\":\"\"},\"colorscale\":[[0.0,\"#0d0887\"],[0.1111111111111111,\"#46039f\"],[0.2222222222222222,\"#7201a8\"],[0.3333333333333333,\"#9c179e\"],[0.4444444444444444,\"#bd3786\"],[0.5555555555555556,\"#d8576b\"],[0.6666666666666666,\"#ed7953\"],[0.7777777777777778,\"#fb9f3a\"],[0.8888888888888888,\"#fdca26\"],[1.0,\"#f0f921\"]]}],\"heatmap\":[{\"type\":\"heatmap\",\"colorbar\":{\"outlinewidth\":0,\"ticks\":\"\"},\"colorscale\":[[0.0,\"#0d0887\"],[0.1111111111111111,\"#46039f\"],[0.2222222222222222,\"#7201a8\"],[0.3333333333333333,\"#9c179e\"],[0.4444444444444444,\"#bd3786\"],[0.5555555555555556,\"#d8576b\"],[0.6666666666666666,\"#ed7953\"],[0.7777777777777778,\"#fb9f3a\"],[0.8888888888888888,\"#fdca26\"],[1.0,\"#f0f921\"]]}],\"heatmapgl\":[{\"type\":\"heatmapgl\",\"colorbar\":{\"outlinewidth\":0,\"ticks\":\"\"},\"colorscale\":[[0.0,\"#0d0887\"],[0.1111111111111111,\"#46039f\"],[0.2222222222222222,\"#7201a8\"],[0.3333333333333333,\"#9c179e\"],[0.4444444444444444,\"#bd3786\"],[0.5555555555555556,\"#d8576b\"],[0.6666666666666666,\"#ed7953\"],[0.7777777777777778,\"#fb9f3a\"],[0.8888888888888888,\"#fdca26\"],[1.0,\"#f0f921\"]]}],\"contourcarpet\":[{\"type\":\"contourcarpet\",\"colorbar\":{\"outlinewidth\":0,\"ticks\":\"\"}}],\"contour\":[{\"type\":\"contour\",\"colorbar\":{\"outlinewidth\":0,\"ticks\":\"\"},\"colorscale\":[[0.0,\"#0d0887\"],[0.1111111111111111,\"#46039f\"],[0.2222222222222222,\"#7201a8\"],[0.3333333333333333,\"#9c179e\"],[0.4444444444444444,\"#bd3786\"],[0.5555555555555556,\"#d8576b\"],[0.6666666666666666,\"#ed7953\"],[0.7777777777777778,\"#fb9f3a\"],[0.8888888888888888,\"#fdca26\"],[1.0,\"#f0f921\"]]}],\"surface\":[{\"type\":\"surface\",\"colorbar\":{\"outlinewidth\":0,\"ticks\":\"\"},\"colorscale\":[[0.0,\"#0d0887\"],[0.1111111111111111,\"#46039f\"],[0.2222222222222222,\"#7201a8\"],[0.3333333333333333,\"#9c179e\"],[0.4444444444444444,\"#bd3786\"],[0.5555555555555556,\"#d8576b\"],[0.6666666666666666,\"#ed7953\"],[0.7777777777777778,\"#fb9f3a\"],[0.8888888888888888,\"#fdca26\"],[1.0,\"#f0f921\"]]}],\"mesh3d\":[{\"type\":\"mesh3d\",\"colorbar\":{\"outlinewidth\":0,\"ticks\":\"\"}}],\"scatter\":[{\"fillpattern\":{\"fillmode\":\"overlay\",\"size\":10,\"solidity\":0.2},\"type\":\"scatter\"}],\"parcoords\":[{\"type\":\"parcoords\",\"line\":{\"colorbar\":{\"outlinewidth\":0,\"ticks\":\"\"}}}],\"scatterpolargl\":[{\"type\":\"scatterpolargl\",\"marker\":{\"colorbar\":{\"outlinewidth\":0,\"ticks\":\"\"}}}],\"bar\":[{\"error_x\":{\"color\":\"#2a3f5f\"},\"error_y\":{\"color\":\"#2a3f5f\"},\"marker\":{\"line\":{\"color\":\"#E5ECF6\",\"width\":0.5},\"pattern\":{\"fillmode\":\"overlay\",\"size\":10,\"solidity\":0.2}},\"type\":\"bar\"}],\"scattergeo\":[{\"type\":\"scattergeo\",\"marker\":{\"colorbar\":{\"outlinewidth\":0,\"ticks\":\"\"}}}],\"scatterpolar\":[{\"type\":\"scatterpolar\",\"marker\":{\"colorbar\":{\"outlinewidth\":0,\"ticks\":\"\"}}}],\"histogram\":[{\"marker\":{\"pattern\":{\"fillmode\":\"overlay\",\"size\":10,\"solidity\":0.2}},\"type\":\"histogram\"}],\"scattergl\":[{\"type\":\"scattergl\",\"marker\":{\"colorbar\":{\"outlinewidth\":0,\"ticks\":\"\"}}}],\"scatter3d\":[{\"type\":\"scatter3d\",\"line\":{\"colorbar\":{\"outlinewidth\":0,\"ticks\":\"\"}},\"marker\":{\"colorbar\":{\"outlinewidth\":0,\"ticks\":\"\"}}}],\"scattermapbox\":[{\"type\":\"scattermapbox\",\"marker\":{\"colorbar\":{\"outlinewidth\":0,\"ticks\":\"\"}}}],\"scatterternary\":[{\"type\":\"scatterternary\",\"marker\":{\"colorbar\":{\"outlinewidth\":0,\"ticks\":\"\"}}}],\"scattercarpet\":[{\"type\":\"scattercarpet\",\"marker\":{\"colorbar\":{\"outlinewidth\":0,\"ticks\":\"\"}}}],\"carpet\":[{\"aaxis\":{\"endlinecolor\":\"#2a3f5f\",\"gridcolor\":\"white\",\"linecolor\":\"white\",\"minorgridcolor\":\"white\",\"startlinecolor\":\"#2a3f5f\"},\"baxis\":{\"endlinecolor\":\"#2a3f5f\",\"gridcolor\":\"white\",\"linecolor\":\"white\",\"minorgridcolor\":\"white\",\"startlinecolor\":\"#2a3f5f\"},\"type\":\"carpet\"}],\"table\":[{\"cells\":{\"fill\":{\"color\":\"#EBF0F8\"},\"line\":{\"color\":\"white\"}},\"header\":{\"fill\":{\"color\":\"#C8D4E3\"},\"line\":{\"color\":\"white\"}},\"type\":\"table\"}],\"barpolar\":[{\"marker\":{\"line\":{\"color\":\"#E5ECF6\",\"width\":0.5},\"pattern\":{\"fillmode\":\"overlay\",\"size\":10,\"solidity\":0.2}},\"type\":\"barpolar\"}],\"pie\":[{\"automargin\":true,\"type\":\"pie\"}]},\"layout\":{\"autotypenumbers\":\"strict\",\"colorway\":[\"#636efa\",\"#EF553B\",\"#00cc96\",\"#ab63fa\",\"#FFA15A\",\"#19d3f3\",\"#FF6692\",\"#B6E880\",\"#FF97FF\",\"#FECB52\"],\"font\":{\"color\":\"#2a3f5f\"},\"hovermode\":\"closest\",\"hoverlabel\":{\"align\":\"left\"},\"paper_bgcolor\":\"white\",\"plot_bgcolor\":\"#E5ECF6\",\"polar\":{\"bgcolor\":\"#E5ECF6\",\"angularaxis\":{\"gridcolor\":\"white\",\"linecolor\":\"white\",\"ticks\":\"\"},\"radialaxis\":{\"gridcolor\":\"white\",\"linecolor\":\"white\",\"ticks\":\"\"}},\"ternary\":{\"bgcolor\":\"#E5ECF6\",\"aaxis\":{\"gridcolor\":\"white\",\"linecolor\":\"white\",\"ticks\":\"\"},\"baxis\":{\"gridcolor\":\"white\",\"linecolor\":\"white\",\"ticks\":\"\"},\"caxis\":{\"gridcolor\":\"white\",\"linecolor\":\"white\",\"ticks\":\"\"}},\"coloraxis\":{\"colorbar\":{\"outlinewidth\":0,\"ticks\":\"\"}},\"colorscale\":{\"sequential\":[[0.0,\"#0d0887\"],[0.1111111111111111,\"#46039f\"],[0.2222222222222222,\"#7201a8\"],[0.3333333333333333,\"#9c179e\"],[0.4444444444444444,\"#bd3786\"],[0.5555555555555556,\"#d8576b\"],[0.6666666666666666,\"#ed7953\"],[0.7777777777777778,\"#fb9f3a\"],[0.8888888888888888,\"#fdca26\"],[1.0,\"#f0f921\"]],\"sequentialminus\":[[0.0,\"#0d0887\"],[0.1111111111111111,\"#46039f\"],[0.2222222222222222,\"#7201a8\"],[0.3333333333333333,\"#9c179e\"],[0.4444444444444444,\"#bd3786\"],[0.5555555555555556,\"#d8576b\"],[0.6666666666666666,\"#ed7953\"],[0.7777777777777778,\"#fb9f3a\"],[0.8888888888888888,\"#fdca26\"],[1.0,\"#f0f921\"]],\"diverging\":[[0,\"#8e0152\"],[0.1,\"#c51b7d\"],[0.2,\"#de77ae\"],[0.3,\"#f1b6da\"],[0.4,\"#fde0ef\"],[0.5,\"#f7f7f7\"],[0.6,\"#e6f5d0\"],[0.7,\"#b8e186\"],[0.8,\"#7fbc41\"],[0.9,\"#4d9221\"],[1,\"#276419\"]]},\"xaxis\":{\"gridcolor\":\"white\",\"linecolor\":\"white\",\"ticks\":\"\",\"title\":{\"standoff\":15},\"zerolinecolor\":\"white\",\"automargin\":true,\"zerolinewidth\":2},\"yaxis\":{\"gridcolor\":\"white\",\"linecolor\":\"white\",\"ticks\":\"\",\"title\":{\"standoff\":15},\"zerolinecolor\":\"white\",\"automargin\":true,\"zerolinewidth\":2},\"scene\":{\"xaxis\":{\"backgroundcolor\":\"#E5ECF6\",\"gridcolor\":\"white\",\"linecolor\":\"white\",\"showbackground\":true,\"ticks\":\"\",\"zerolinecolor\":\"white\",\"gridwidth\":2},\"yaxis\":{\"backgroundcolor\":\"#E5ECF6\",\"gridcolor\":\"white\",\"linecolor\":\"white\",\"showbackground\":true,\"ticks\":\"\",\"zerolinecolor\":\"white\",\"gridwidth\":2},\"zaxis\":{\"backgroundcolor\":\"#E5ECF6\",\"gridcolor\":\"white\",\"linecolor\":\"white\",\"showbackground\":true,\"ticks\":\"\",\"zerolinecolor\":\"white\",\"gridwidth\":2}},\"shapedefaults\":{\"line\":{\"color\":\"#2a3f5f\"}},\"annotationdefaults\":{\"arrowcolor\":\"#2a3f5f\",\"arrowhead\":0,\"arrowwidth\":1},\"geo\":{\"bgcolor\":\"white\",\"landcolor\":\"#E5ECF6\",\"subunitcolor\":\"white\",\"showland\":true,\"showlakes\":true,\"lakecolor\":\"white\"},\"title\":{\"x\":0.05},\"mapbox\":{\"style\":\"light\"}}}},                        {\"responsive\": true}                    ).then(function(){\n",
       "                            \n",
       "var gd = document.getElementById('16ccfdb4-392e-4cd0-a080-fe83e989ddbf');\n",
       "var x = new MutationObserver(function (mutations, observer) {{\n",
       "        var display = window.getComputedStyle(gd).display;\n",
       "        if (!display || display === 'none') {{\n",
       "            console.log([gd, 'removed!']);\n",
       "            Plotly.purge(gd);\n",
       "            observer.disconnect();\n",
       "        }}\n",
       "}});\n",
       "\n",
       "// Listen for the removal of the full notebook cells\n",
       "var notebookContainer = gd.closest('#notebook-container');\n",
       "if (notebookContainer) {{\n",
       "    x.observe(notebookContainer, {childList: true});\n",
       "}}\n",
       "\n",
       "// Listen for the clearing of the current output cell\n",
       "var outputEl = gd.closest('.output');\n",
       "if (outputEl) {{\n",
       "    x.observe(outputEl, {childList: true});\n",
       "}}\n",
       "\n",
       "                        })                };                });            </script>        </div>"
      ]
     },
     "metadata": {},
     "output_type": "display_data"
    }
   ],
   "source": [
    "quadrant_colors = [\"#FFFFFF\",\"#2bad4e\", \"#eff229\", \"#f25829\"] \n",
    "quadrant_text = [\"\", \"<b>Alta</b>\", \"<b>Media</b>\",\"<b>Baja</b>\"]\n",
    "n_quadrants = len(quadrant_colors) - 1\n",
    "min_value = 0\n",
    "max_value = 100\n",
    "\n",
    "for i in range(15):\n",
    "    clear_output(wait=True)\n",
    "    current_value = (probs[i][0])*100\n",
    "    hand_length = np.sqrt(2) / 4\n",
    "    hand_angle = np.pi * (1 - (max(min_value, min(max_value, current_value)) - min_value) / (max_value - min_value))\n",
    "\n",
    "    fig = go.Figure(\n",
    "        data=[\n",
    "            go.Pie(\n",
    "                values=[0.5] + (np.ones(n_quadrants) / 2 / n_quadrants).tolist(),\n",
    "                rotation=90,\n",
    "                hole=0.5,\n",
    "                marker_colors=quadrant_colors,\n",
    "                text=quadrant_text,\n",
    "                textinfo=\"text\",\n",
    "                hoverinfo=\"skip\",\n",
    "            ),\n",
    "        ],\n",
    "        layout=go.Layout(\n",
    "            showlegend=False,\n",
    "            margin=dict(b=0,t=10,l=10,r=10),\n",
    "            width=450,\n",
    "            height=450,\n",
    "            #paper_bgcolor=plot_bgcolor,\n",
    "            annotations=[\n",
    "                go.layout.Annotation(\n",
    "                    text=f\"<b>Probabilidad de victoria al min \"+str(i)+\":</b><br>\"+str(round(current_value,0))+\"%\",\n",
    "                    x=0.5, xanchor=\"center\", xref=\"paper\",\n",
    "                    y=0.25, yanchor=\"bottom\", yref=\"paper\",\n",
    "                    showarrow=False,\n",
    "                )\n",
    "            ],\n",
    "            #Cursor del gráfico\n",
    "            shapes=[\n",
    "                go.layout.Shape(\n",
    "                    type=\"circle\",\n",
    "                    x0=0.48, x1=0.52,\n",
    "                    y0=0.48, y1=0.52,\n",
    "                    fillcolor=\"#333\",\n",
    "                    line_color=\"#333\",\n",
    "                ),\n",
    "                go.layout.Shape(\n",
    "                    type=\"line\",\n",
    "                    x0=0.5, x1=0.5 + hand_length * np.cos(hand_angle),\n",
    "                    y0=0.5, y1=0.5 + hand_length * np.sin(hand_angle),\n",
    "                    line=dict(color=\"#333\", width=4)\n",
    "                )\n",
    "            ]\n",
    "        )\n",
    "    )\n",
    "    fig.show()\n",
    "    time.sleep(3)"
   ]
  },
  {
   "cell_type": "raw",
   "id": "175edaff",
   "metadata": {},
   "source": [
    "-----------------------------------------------------------------------------------------------"
   ]
  },
  {
   "cell_type": "raw",
   "id": "42ecbedc",
   "metadata": {},
   "source": [
    "PRUEBAS"
   ]
  },
  {
   "cell_type": "raw",
   "id": "cc6d4ed9",
   "metadata": {},
   "source": [
    "len(df2)\n",
    "type(df2[df2[\"gameId\"] == dffinal.iloc[1].name][\"xpDiff\"].item()[0])\n",
    "#df2.pivot(columns='names', values='score', index='id')\n",
    "df[\"goldDiff\"][0][1]\n",
    "X_train.iloc[0][\"killsDiff\"]\n",
    "type(df[\"killsDiff\"][0])\n",
    "type(df[\"killsDiff\"])\n",
    "df[\"killsDiff\"][0]\n",
    "X_train[\"killsDiff\"][0]\n",
    "X_train.shape\n",
    "y_train[\"BlueWin\"].shape\n",
    "try1 = np.array([[1, 1], [1, 2], [2, 2], [2, 3]])\n",
    "# y = 1 * x_0 + 2 * x_1 + 3\n",
    "try2 = np.dot(try1, np.array([1, 2])) + 3\n",
    "try1.shape\n",
    "try2.shape\n",
    "X_train.shape\n",
    "X_train.values\n",
    "y_train[\"BlueWin\"].values\n",
    "y_train.shape\n",
    "type(X_train[\"killsDiff\"])\n",
    "type(y_train)\n",
    "type(X_train[\"killsDiff\"])\n",
    "X_train.shape\n",
    "X_train[\"gameId\"].shape\n",
    "type(X_train[\"gameId\"])\n",
    "X_train[\"n_prueba\"].shape\n",
    "X_train[\"n_prueba\"]\n",
    "prueba1 = list(np.float_(X_train))\n",
    "X_train[[\"goldDiff\"]]\n",
    "type(df.iloc[0][\"goldDiff\"])\n",
    "list(y_train[\"BlueWin\"])"
   ]
  },
  {
   "cell_type": "raw",
   "id": "3671d244",
   "metadata": {},
   "source": [
    "Probabilidades"
   ]
  },
  {
   "cell_type": "raw",
   "id": "c515ff70",
   "metadata": {},
   "source": [
    "lr.predict_proba(X_test)"
   ]
  },
  {
   "cell_type": "raw",
   "id": "059c7b20",
   "metadata": {},
   "source": [
    "Accuracy Score"
   ]
  },
  {
   "cell_type": "raw",
   "id": "127fb920",
   "metadata": {},
   "source": [
    "accuracy_score(y_test, y_hat)"
   ]
  },
  {
   "cell_type": "raw",
   "id": "23f34576",
   "metadata": {},
   "source": [
    "Ratio de predicciones acertadas"
   ]
  },
  {
   "cell_type": "raw",
   "id": "f4e696f3",
   "metadata": {},
   "source": [
    "np.mean(y_hat == y_test)"
   ]
  },
  {
   "cell_type": "raw",
   "id": "2fc95d7d",
   "metadata": {},
   "source": [
    "Area under the curve - AUC-ROC curve"
   ]
  },
  {
   "cell_type": "raw",
   "id": "ccc8be08",
   "metadata": {},
   "source": [
    "print(roc_auc_score(y_test,y_hat))"
   ]
  },
  {
   "cell_type": "raw",
   "id": "c3818186",
   "metadata": {},
   "source": [
    "Matriz de confusión"
   ]
  },
  {
   "cell_type": "raw",
   "id": "07c81cd9",
   "metadata": {},
   "source": [
    "cf = confusion_matrix(y_hat,y_test)\n",
    "print(cf)"
   ]
  },
  {
   "cell_type": "raw",
   "id": "1ae1a7f2",
   "metadata": {},
   "source": [
    "F1_Score"
   ]
  },
  {
   "cell_type": "raw",
   "id": "9da1a3a5",
   "metadata": {},
   "source": [
    "f1_score(y_test, y_hat)"
   ]
  },
  {
   "cell_type": "raw",
   "id": "a8021333",
   "metadata": {},
   "source": [
    "Accuracy Score"
   ]
  },
  {
   "cell_type": "raw",
   "id": "78ec8a9f",
   "metadata": {},
   "source": [
    "accuracy_score(y_test, y_hat)"
   ]
  },
  {
   "cell_type": "raw",
   "id": "a1278468",
   "metadata": {},
   "source": [
    "Classification Report"
   ]
  },
  {
   "cell_type": "raw",
   "id": "014d0b50",
   "metadata": {
    "scrolled": true
   },
   "source": [
    "report = classification_report(y_test, y_hat)\n",
    "print(report)"
   ]
  },
  {
   "cell_type": "raw",
   "id": "c3cfa839",
   "metadata": {},
   "source": [
    "Visualización"
   ]
  },
  {
   "cell_type": "raw",
   "id": "253c89a3",
   "metadata": {},
   "source": [
    "sns.heatmap(cf/np.sum(cf), annot=True, fmt='.2%', cmap='Blues')"
   ]
  }
 ],
 "metadata": {
  "kernelspec": {
   "display_name": "Python 3 (ipykernel)",
   "language": "python",
   "name": "python3"
  },
  "language_info": {
   "codemirror_mode": {
    "name": "ipython",
    "version": 3
   },
   "file_extension": ".py",
   "mimetype": "text/x-python",
   "name": "python",
   "nbconvert_exporter": "python",
   "pygments_lexer": "ipython3",
   "version": "3.9.4"
  }
 },
 "nbformat": 4,
 "nbformat_minor": 5
}
